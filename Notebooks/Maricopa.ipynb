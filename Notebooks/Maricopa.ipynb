{
 "cells": [
  {
   "cell_type": "code",
   "execution_count": 130,
   "id": "a0e28998",
   "metadata": {},
   "outputs": [],
   "source": [
    "import numpy as np\n",
    "import pandas as pd\n",
    "import matplotlib.pyplot as plt\n",
    "import seaborn as sns\n",
    "\n",
    "%matplotlib inline"
   ]
  },
  {
   "cell_type": "code",
   "execution_count": 35,
   "id": "60120f75",
   "metadata": {},
   "outputs": [],
   "source": [
    "housing_data = pd.read_csv(\"Maricopa_County_Housing_data.csv\")"
   ]
  },
  {
   "cell_type": "code",
   "execution_count": 36,
   "id": "32617f36",
   "metadata": {},
   "outputs": [
    {
     "data": {
      "text/html": [
       "<div>\n",
       "<style scoped>\n",
       "    .dataframe tbody tr th:only-of-type {\n",
       "        vertical-align: middle;\n",
       "    }\n",
       "\n",
       "    .dataframe tbody tr th {\n",
       "        vertical-align: top;\n",
       "    }\n",
       "\n",
       "    .dataframe thead th {\n",
       "        text-align: right;\n",
       "    }\n",
       "</style>\n",
       "<table border=\"1\" class=\"dataframe\">\n",
       "  <thead>\n",
       "    <tr style=\"text-align: right;\">\n",
       "      <th></th>\n",
       "      <th>Zip_Code</th>\n",
       "      <th>Dwelling_Type</th>\n",
       "      <th>Nr_Bedrooms</th>\n",
       "      <th>Nr_Bathrooms</th>\n",
       "      <th>Approx_SQFT</th>\n",
       "      <th>Price_per_SqFt</th>\n",
       "      <th>Property_Type</th>\n",
       "      <th>Dwelling_Styles</th>\n",
       "      <th>Year_Built</th>\n",
       "      <th>Approx_Lot_SqFt</th>\n",
       "      <th>...</th>\n",
       "      <th>Gated_Community</th>\n",
       "      <th>Workout_Facility</th>\n",
       "      <th>Garage_Spaces</th>\n",
       "      <th>Carport_Spaces</th>\n",
       "      <th>Loan_Type</th>\n",
       "      <th>Payment_Type</th>\n",
       "      <th>Buyer_Concession_to_Seller</th>\n",
       "      <th>Buyer_Concession_$/%</th>\n",
       "      <th>Seller_Concession_to_Buyer</th>\n",
       "      <th>Seller_Concession_$/%</th>\n",
       "    </tr>\n",
       "  </thead>\n",
       "  <tbody>\n",
       "    <tr>\n",
       "      <th>0</th>\n",
       "      <td>85003</td>\n",
       "      <td>AF</td>\n",
       "      <td>1</td>\n",
       "      <td>1.0</td>\n",
       "      <td>720</td>\n",
       "      <td>340.28</td>\n",
       "      <td>Residential</td>\n",
       "      <td>Stacked</td>\n",
       "      <td>1964</td>\n",
       "      <td>652</td>\n",
       "      <td>...</td>\n",
       "      <td>Yes</td>\n",
       "      <td>Yes</td>\n",
       "      <td>0.0</td>\n",
       "      <td>1.0</td>\n",
       "      <td>Conventional</td>\n",
       "      <td>Fixed</td>\n",
       "      <td>0.0</td>\n",
       "      <td>$</td>\n",
       "      <td>3.00</td>\n",
       "      <td>%</td>\n",
       "    </tr>\n",
       "    <tr>\n",
       "      <th>1</th>\n",
       "      <td>85003</td>\n",
       "      <td>LS</td>\n",
       "      <td>1</td>\n",
       "      <td>1.0</td>\n",
       "      <td>755</td>\n",
       "      <td>430.46</td>\n",
       "      <td>Residential</td>\n",
       "      <td>Stacked</td>\n",
       "      <td>2005</td>\n",
       "      <td>751</td>\n",
       "      <td>...</td>\n",
       "      <td>Yes</td>\n",
       "      <td>Yes</td>\n",
       "      <td>0.0</td>\n",
       "      <td>0.0</td>\n",
       "      <td>VA</td>\n",
       "      <td>Fixed</td>\n",
       "      <td>0.0</td>\n",
       "      <td>%</td>\n",
       "      <td>0.00</td>\n",
       "      <td>$</td>\n",
       "    </tr>\n",
       "    <tr>\n",
       "      <th>2</th>\n",
       "      <td>85003</td>\n",
       "      <td>SF</td>\n",
       "      <td>4</td>\n",
       "      <td>3.0</td>\n",
       "      <td>3,415</td>\n",
       "      <td>439.23</td>\n",
       "      <td>Residential</td>\n",
       "      <td>Detached</td>\n",
       "      <td>1940</td>\n",
       "      <td>11,696</td>\n",
       "      <td>...</td>\n",
       "      <td>Yes</td>\n",
       "      <td>Yes</td>\n",
       "      <td>2.0</td>\n",
       "      <td>0.0</td>\n",
       "      <td>Conventional</td>\n",
       "      <td>Fixed</td>\n",
       "      <td>0.0</td>\n",
       "      <td>$</td>\n",
       "      <td>0.00</td>\n",
       "      <td>$</td>\n",
       "    </tr>\n",
       "    <tr>\n",
       "      <th>3</th>\n",
       "      <td>85003</td>\n",
       "      <td>AF</td>\n",
       "      <td>1</td>\n",
       "      <td>1.0</td>\n",
       "      <td>710</td>\n",
       "      <td>436.61</td>\n",
       "      <td>Residential</td>\n",
       "      <td>Stacked</td>\n",
       "      <td>2005</td>\n",
       "      <td>0</td>\n",
       "      <td>...</td>\n",
       "      <td>Yes</td>\n",
       "      <td>Yes</td>\n",
       "      <td>0.0</td>\n",
       "      <td>0.0</td>\n",
       "      <td>Conventional</td>\n",
       "      <td>Adjustable</td>\n",
       "      <td>0.0</td>\n",
       "      <td>$</td>\n",
       "      <td>6000.00</td>\n",
       "      <td>$</td>\n",
       "    </tr>\n",
       "    <tr>\n",
       "      <th>4</th>\n",
       "      <td>85003</td>\n",
       "      <td>AF</td>\n",
       "      <td>2</td>\n",
       "      <td>2.5</td>\n",
       "      <td>1,510</td>\n",
       "      <td>314.56</td>\n",
       "      <td>Residential</td>\n",
       "      <td>Stacked</td>\n",
       "      <td>2007</td>\n",
       "      <td>654</td>\n",
       "      <td>...</td>\n",
       "      <td>NaN</td>\n",
       "      <td>Yes</td>\n",
       "      <td>2.0</td>\n",
       "      <td>0.0</td>\n",
       "      <td>Conventional</td>\n",
       "      <td>Fixed</td>\n",
       "      <td>0.0</td>\n",
       "      <td>$</td>\n",
       "      <td>3.75</td>\n",
       "      <td>%</td>\n",
       "    </tr>\n",
       "  </tbody>\n",
       "</table>\n",
       "<p>5 rows × 29 columns</p>\n",
       "</div>"
      ],
      "text/plain": [
       "   Zip_Code Dwelling_Type  Nr_Bedrooms  Nr_Bathrooms Approx_SQFT  \\\n",
       "0     85003            AF            1           1.0         720   \n",
       "1     85003            LS            1           1.0         755   \n",
       "2     85003            SF            4           3.0       3,415   \n",
       "3     85003            AF            1           1.0         710   \n",
       "4     85003            AF            2           2.5       1,510   \n",
       "\n",
       "  Price_per_SqFt Property_Type Dwelling_Styles  Year_Built Approx_Lot_SqFt  \\\n",
       "0         340.28   Residential         Stacked        1964             652   \n",
       "1         430.46   Residential         Stacked        2005             751   \n",
       "2         439.23   Residential        Detached        1940          11,696   \n",
       "3         436.61   Residential         Stacked        2005               0   \n",
       "4         314.56   Residential         Stacked        2007             654   \n",
       "\n",
       "   ... Gated_Community  Workout_Facility Garage_Spaces Carport_Spaces  \\\n",
       "0  ...             Yes               Yes           0.0            1.0   \n",
       "1  ...             Yes               Yes           0.0            0.0   \n",
       "2  ...             Yes               Yes           2.0            0.0   \n",
       "3  ...             Yes               Yes           0.0            0.0   \n",
       "4  ...             NaN               Yes           2.0            0.0   \n",
       "\n",
       "      Loan_Type Payment_Type Buyer_Concession_to_Seller Buyer_Concession_$/%  \\\n",
       "0  Conventional        Fixed                        0.0                    $   \n",
       "1            VA        Fixed                        0.0                    %   \n",
       "2  Conventional        Fixed                        0.0                    $   \n",
       "3  Conventional   Adjustable                        0.0                    $   \n",
       "4  Conventional        Fixed                        0.0                    $   \n",
       "\n",
       "  Seller_Concession_to_Buyer Seller_Concession_$/%  \n",
       "0                       3.00                     %  \n",
       "1                       0.00                     $  \n",
       "2                       0.00                     $  \n",
       "3                    6000.00                     $  \n",
       "4                       3.75                     %  \n",
       "\n",
       "[5 rows x 29 columns]"
      ]
     },
     "execution_count": 36,
     "metadata": {},
     "output_type": "execute_result"
    }
   ],
   "source": [
    "housing_data.head()"
   ]
  },
  {
   "cell_type": "code",
   "execution_count": 37,
   "id": "d141eab2",
   "metadata": {},
   "outputs": [
    {
     "data": {
      "text/plain": [
       "Zip_Code                         0\n",
       "Dwelling_Type                    0\n",
       "Nr_Bedrooms                      0\n",
       "Nr_Bathrooms                     0\n",
       "Approx_SQFT                      0\n",
       "Price_per_SqFt                   0\n",
       "Property_Type                    0\n",
       "Dwelling_Styles                  0\n",
       "Year_Built                       0\n",
       "Approx_Lot_SqFt                  0\n",
       "Pool                             0\n",
       "HOA_Fee                        917\n",
       "Land_Lease_Fee                   0\n",
       "Clubhouse_Rec_Room            2246\n",
       "Basement                         0\n",
       "RV_Gate                       2618\n",
       "List_Price                       0\n",
       "Sold_Price                       0\n",
       "Building_Style                2885\n",
       "Gated_Community               2394\n",
       "Workout_Facility              2498\n",
       "Garage_Spaces                    0\n",
       "Carport_Spaces                   0\n",
       "Loan_Type                        0\n",
       "Payment_Type                   950\n",
       "Buyer_Concession_to_Seller       0\n",
       "Buyer_Concession_$/%             0\n",
       "Seller_Concession_to_Buyer       0\n",
       "Seller_Concession_$/%            0\n",
       "dtype: int64"
      ]
     },
     "execution_count": 37,
     "metadata": {},
     "output_type": "execute_result"
    }
   ],
   "source": [
    "housing_data.isna().sum()"
   ]
  },
  {
   "cell_type": "code",
   "execution_count": 38,
   "id": "ab7c4b64",
   "metadata": {},
   "outputs": [
    {
     "data": {
      "text/plain": [
       "array([85003, 85004, 85006, 85007, 85008, 85009, 85012, 85013, 85014,\n",
       "       85015, 85016, 85017, 85018, 85019, 85020, 85021, 85022, 85023,\n",
       "       85024, 85027, 85028, 85029, 85031, 85032, 85033, 85035, 85037,\n",
       "       85040, 85041, 85042, 85043, 85044, 85045, 85048, 85050, 85051,\n",
       "       85053, 85054, 85083, 85085, 85086, 85087, 85119, 85120, 85139,\n",
       "       85142, 85201, 85202, 85203, 85204, 85205, 85206, 85207, 85208,\n",
       "       85209, 85210, 85212, 85213, 85215, 85224, 85225, 85226, 85233,\n",
       "       85234, 85248, 85249, 85250, 85251, 85253, 85254, 85255, 85257,\n",
       "       85258, 85259, 85260, 85262, 85263, 85266, 85268, 85323, 85326,\n",
       "       85375, 85377, 85378, 85379, 85395, 85396, 85541])"
      ]
     },
     "execution_count": 38,
     "metadata": {},
     "output_type": "execute_result"
    }
   ],
   "source": [
    "housing_data[\"Zip_Code\"].unique()"
   ]
  },
  {
   "cell_type": "code",
   "execution_count": 39,
   "id": "6d0160c0",
   "metadata": {},
   "outputs": [
    {
     "data": {
      "text/plain": [
       "(3117, 29)"
      ]
     },
     "execution_count": 39,
     "metadata": {},
     "output_type": "execute_result"
    }
   ],
   "source": [
    "housing_data.shape"
   ]
  },
  {
   "cell_type": "code",
   "execution_count": 40,
   "id": "af24e8ef",
   "metadata": {},
   "outputs": [
    {
     "data": {
      "text/plain": [
       "array(['AF', 'LS', 'SF', 'TH', 'PH', 'MM', 'GT', 'MD'], dtype=object)"
      ]
     },
     "execution_count": 40,
     "metadata": {},
     "output_type": "execute_result"
    }
   ],
   "source": [
    "housing_data[\"Dwelling_Type\"].unique()"
   ]
  },
  {
   "cell_type": "code",
   "execution_count": 41,
   "id": "c7cffd47",
   "metadata": {},
   "outputs": [
    {
     "data": {
      "text/plain": [
       "array([1, 4, 2, 3, 5, 6, 7, 0])"
      ]
     },
     "execution_count": 41,
     "metadata": {},
     "output_type": "execute_result"
    }
   ],
   "source": [
    "housing_data[\"Nr_Bedrooms\"].unique()"
   ]
  },
  {
   "cell_type": "code",
   "execution_count": 42,
   "id": "20435e97",
   "metadata": {},
   "outputs": [
    {
     "data": {
      "text/plain": [
       "array([1.  , 3.  , 2.5 , 1.75, 2.  , 1.5 , 4.5 , 4.  , 3.5 , 2.75, 6.  ,\n",
       "       5.5 , 7.  , 5.  , 2.25, 6.5 , 3.75, 1.25, 8.  ])"
      ]
     },
     "execution_count": 42,
     "metadata": {},
     "output_type": "execute_result"
    }
   ],
   "source": [
    "housing_data[\"Nr_Bathrooms\"].unique()"
   ]
  },
  {
   "cell_type": "code",
   "execution_count": 43,
   "id": "10433984",
   "metadata": {},
   "outputs": [
    {
     "data": {
      "text/plain": [
       "Zip_Code                        int64\n",
       "Dwelling_Type                  object\n",
       "Nr_Bedrooms                     int64\n",
       "Nr_Bathrooms                  float64\n",
       "Approx_SQFT                    object\n",
       "Price_per_SqFt                 object\n",
       "Property_Type                  object\n",
       "Dwelling_Styles                object\n",
       "Year_Built                      int64\n",
       "Approx_Lot_SqFt                object\n",
       "Pool                           object\n",
       "HOA_Fee                       float64\n",
       "Land_Lease_Fee                 object\n",
       "Clubhouse_Rec_Room             object\n",
       "Basement                       object\n",
       "RV_Gate                        object\n",
       "List_Price                     object\n",
       "Sold_Price                     object\n",
       "Building_Style                 object\n",
       "Gated_Community                object\n",
       "Workout_Facility               object\n",
       "Garage_Spaces                 float64\n",
       "Carport_Spaces                float64\n",
       "Loan_Type                      object\n",
       "Payment_Type                   object\n",
       "Buyer_Concession_to_Seller    float64\n",
       "Buyer_Concession_$/%           object\n",
       "Seller_Concession_to_Buyer    float64\n",
       "Seller_Concession_$/%          object\n",
       "dtype: object"
      ]
     },
     "execution_count": 43,
     "metadata": {},
     "output_type": "execute_result"
    }
   ],
   "source": [
    "housing_data.dtypes"
   ]
  },
  {
   "cell_type": "code",
   "execution_count": 44,
   "id": "ee349881",
   "metadata": {},
   "outputs": [
    {
     "data": {
      "text/plain": [
       "count      3117\n",
       "unique     1734\n",
       "top       1,400\n",
       "freq         11\n",
       "Name: Approx_SQFT, dtype: object"
      ]
     },
     "execution_count": 44,
     "metadata": {},
     "output_type": "execute_result"
    }
   ],
   "source": [
    "housing_data[\"Approx_SQFT\"].describe()"
   ]
  },
  {
   "cell_type": "code",
   "execution_count": 45,
   "id": "bd9106c1",
   "metadata": {},
   "outputs": [],
   "source": [
    "# \"Approx_SQFT\" is an object column\n",
    "# This is because the values have comma in them\n",
    "# We need to remove commas before converting the values to int\n",
    "housing_data[\"Approx_SQFT\"] = housing_data[\"Approx_SQFT\"].apply(lambda x: x.replace(\",\", \"\"))"
   ]
  },
  {
   "cell_type": "code",
   "execution_count": 46,
   "id": "3a177c17",
   "metadata": {},
   "outputs": [],
   "source": [
    "housing_data[\"Approx_SQFT\"] = housing_data[\"Approx_SQFT\"].astype(int)"
   ]
  },
  {
   "cell_type": "code",
   "execution_count": 47,
   "id": "add8faad",
   "metadata": {},
   "outputs": [
    {
     "data": {
      "text/plain": [
       "count    3117.000000\n",
       "mean     1948.820661\n",
       "std       923.387933\n",
       "min         1.000000\n",
       "25%      1327.000000\n",
       "50%      1766.000000\n",
       "75%      2311.000000\n",
       "max      8151.000000\n",
       "Name: Approx_SQFT, dtype: float64"
      ]
     },
     "execution_count": 47,
     "metadata": {},
     "output_type": "execute_result"
    }
   ],
   "source": [
    "housing_data[\"Approx_SQFT\"].describe()"
   ]
  },
  {
   "cell_type": "code",
   "execution_count": 48,
   "id": "1a24705f",
   "metadata": {},
   "outputs": [
    {
     "data": {
      "text/plain": [
       "count      3117\n",
       "unique     2892\n",
       "top       312.5\n",
       "freq          5\n",
       "Name: Price_per_SqFt, dtype: object"
      ]
     },
     "execution_count": 48,
     "metadata": {},
     "output_type": "execute_result"
    }
   ],
   "source": [
    "housing_data[\"Price_per_SqFt\"].describe()"
   ]
  },
  {
   "cell_type": "code",
   "execution_count": 49,
   "id": "3f929dda",
   "metadata": {},
   "outputs": [],
   "source": [
    "housing_data[\"Price_per_SqFt\"] = housing_data[\"Price_per_SqFt\"].apply(lambda x: x.replace(\",\", \"\"))"
   ]
  },
  {
   "cell_type": "code",
   "execution_count": 50,
   "id": "74195308",
   "metadata": {},
   "outputs": [],
   "source": [
    "housing_data[\"Price_per_SqFt\"] = housing_data[\"Price_per_SqFt\"].astype(float)"
   ]
  },
  {
   "cell_type": "code",
   "execution_count": 51,
   "id": "91f1e5b6",
   "metadata": {},
   "outputs": [
    {
     "data": {
      "text/plain": [
       "count      3117.000000\n",
       "mean        362.590696\n",
       "std        3131.718320\n",
       "min          14.160000\n",
       "25%         237.480000\n",
       "50%         284.260000\n",
       "75%         342.000000\n",
       "max      175000.000000\n",
       "Name: Price_per_SqFt, dtype: float64"
      ]
     },
     "execution_count": 51,
     "metadata": {},
     "output_type": "execute_result"
    }
   ],
   "source": [
    "housing_data[\"Price_per_SqFt\"].describe()"
   ]
  },
  {
   "cell_type": "code",
   "execution_count": 52,
   "id": "464e197b",
   "metadata": {},
   "outputs": [
    {
     "data": {
      "text/plain": [
       "array(['Residential'], dtype=object)"
      ]
     },
     "execution_count": 52,
     "metadata": {},
     "output_type": "execute_result"
    }
   ],
   "source": [
    "housing_data[\"Property_Type\"].unique()"
   ]
  },
  {
   "cell_type": "code",
   "execution_count": 53,
   "id": "dc7c0c90",
   "metadata": {},
   "outputs": [
    {
     "data": {
      "text/plain": [
       "Residential    3117\n",
       "Name: Property_Type, dtype: int64"
      ]
     },
     "execution_count": 53,
     "metadata": {},
     "output_type": "execute_result"
    }
   ],
   "source": [
    "# \"Property_Type\" doesn't provide any value as it has the same value\n",
    "# for all the columns\n",
    "housing_data[\"Property_Type\"].value_counts()"
   ]
  },
  {
   "cell_type": "code",
   "execution_count": 54,
   "id": "05259b14",
   "metadata": {},
   "outputs": [],
   "source": [
    "# Dropping \"Property_Type\" column\n",
    "housing_data.drop(\"Property_Type\", axis=1, inplace=True)"
   ]
  },
  {
   "cell_type": "code",
   "execution_count": 55,
   "id": "44101782",
   "metadata": {},
   "outputs": [
    {
     "data": {
      "text/plain": [
       "array(['Stacked', 'Detached', 'Attached'], dtype=object)"
      ]
     },
     "execution_count": 55,
     "metadata": {},
     "output_type": "execute_result"
    }
   ],
   "source": [
    "housing_data[\"Dwelling_Styles\"].unique()"
   ]
  },
  {
   "cell_type": "code",
   "execution_count": 56,
   "id": "dcc28cbf",
   "metadata": {},
   "outputs": [
    {
     "data": {
      "text/plain": [
       "array([1964, 2005, 1940, 2007, 2016, 2004, 1963, 1920, 1943, 1911, 1947,\n",
       "       1958, 1948, 1929, 1945, 1950, 1935, 1952, 1955, 1973, 1966, 1951,\n",
       "       2002, 1956, 1985, 1999, 1970, 2023, 1928, 1925, 1989, 1982, 1946,\n",
       "       1980, 1932, 1944, 2019, 1961, 1931, 1954, 2008, 1978, 1965, 1996,\n",
       "       1957, 1979, 1972, 1998, 1975, 1933, 2017, 2021, 1991, 1953, 1941,\n",
       "       1974, 1986, 1981, 1967, 1949, 1984, 2018, 2006, 1968, 1988, 1977,\n",
       "       1995, 2003, 1992, 2000, 2024, 2022, 1990, 1976, 2010, 1959, 1962,\n",
       "       2015, 1971, 1960, 1987, 2001, 1937, 1993, 1983, 1994, 1997, 2012,\n",
       "       2020, 1969, 2014, 2013, 2011, 1927, 1942, 2009, 1919, 1936])"
      ]
     },
     "execution_count": 56,
     "metadata": {},
     "output_type": "execute_result"
    }
   ],
   "source": [
    "housing_data[\"Year_Built\"].unique()"
   ]
  },
  {
   "cell_type": "code",
   "execution_count": 58,
   "id": "d2a5423a",
   "metadata": {},
   "outputs": [],
   "source": [
    "housing_data[\"Approx_Lot_SqFt\"] = housing_data[\"Approx_Lot_SqFt\"].apply(lambda x: x.replace(\",\", \"\"))"
   ]
  },
  {
   "cell_type": "code",
   "execution_count": 60,
   "id": "4d8a05ae",
   "metadata": {},
   "outputs": [],
   "source": [
    "housing_data[\"Approx_Lot_SqFt\"] = housing_data[\"Approx_Lot_SqFt\"].astype(int)"
   ]
  },
  {
   "cell_type": "code",
   "execution_count": 61,
   "id": "de1d66cd",
   "metadata": {},
   "outputs": [
    {
     "data": {
      "text/plain": [
       "count    3.117000e+03\n",
       "mean     2.769501e+04\n",
       "std      9.995417e+05\n",
       "min      0.000000e+00\n",
       "25%      4.000000e+03\n",
       "50%      6.707000e+03\n",
       "75%      9.148000e+03\n",
       "max      5.580036e+07\n",
       "Name: Approx_Lot_SqFt, dtype: float64"
      ]
     },
     "execution_count": 61,
     "metadata": {},
     "output_type": "execute_result"
    }
   ],
   "source": [
    "housing_data[\"Approx_Lot_SqFt\"].describe()"
   ]
  },
  {
   "cell_type": "code",
   "execution_count": 63,
   "id": "53a62f2a",
   "metadata": {},
   "outputs": [
    {
     "data": {
      "text/plain": [
       "array(['Community', 'Private', 'None', 'Both'], dtype=object)"
      ]
     },
     "execution_count": 63,
     "metadata": {},
     "output_type": "execute_result"
    }
   ],
   "source": [
    "housing_data[\"Pool\"].unique()"
   ]
  },
  {
   "cell_type": "code",
   "execution_count": 67,
   "id": "b847a7ed",
   "metadata": {},
   "outputs": [],
   "source": [
    "# \"HOA_Fee\" has null values\n",
    "# Create another variable which says whether the field is null\n",
    "housing_data[\"HOA_Missing\"] = housing_data[\"HOA_Fee\"].isna().astype(int)"
   ]
  },
  {
   "cell_type": "code",
   "execution_count": 68,
   "id": "5ae3069a",
   "metadata": {},
   "outputs": [
    {
     "data": {
      "text/plain": [
       "count    2200.000000\n",
       "mean      326.731205\n",
       "std       486.743921\n",
       "min         0.000000\n",
       "25%       115.375000\n",
       "50%       212.000000\n",
       "75%       350.000000\n",
       "max      9102.000000\n",
       "Name: HOA_Fee, dtype: float64"
      ]
     },
     "execution_count": 68,
     "metadata": {},
     "output_type": "execute_result"
    }
   ],
   "source": [
    "housing_data[housing_data[\"HOA_Missing\"]==0][\"HOA_Fee\"].describe()"
   ]
  },
  {
   "cell_type": "code",
   "execution_count": 70,
   "id": "5a7d4dbd",
   "metadata": {},
   "outputs": [
    {
     "data": {
      "text/plain": [
       "array(['N', 'Y'], dtype=object)"
      ]
     },
     "execution_count": 70,
     "metadata": {},
     "output_type": "execute_result"
    }
   ],
   "source": [
    "housing_data[\"Land_Lease_Fee\"].unique()"
   ]
  },
  {
   "cell_type": "code",
   "execution_count": 72,
   "id": "cc66e614",
   "metadata": {},
   "outputs": [
    {
     "data": {
      "text/plain": [
       "N    3015\n",
       "Y     102\n",
       "Name: Land_Lease_Fee, dtype: int64"
      ]
     },
     "execution_count": 72,
     "metadata": {},
     "output_type": "execute_result"
    }
   ],
   "source": [
    "housing_data[\"Land_Lease_Fee\"].value_counts()"
   ]
  },
  {
   "cell_type": "code",
   "execution_count": 74,
   "id": "e755645f",
   "metadata": {},
   "outputs": [
    {
     "data": {
      "text/plain": [
       "array(['Yes', nan], dtype=object)"
      ]
     },
     "execution_count": 74,
     "metadata": {},
     "output_type": "execute_result"
    }
   ],
   "source": [
    "housing_data[\"Clubhouse_Rec_Room\"].unique()"
   ]
  },
  {
   "cell_type": "code",
   "execution_count": 76,
   "id": "5d5e0b57",
   "metadata": {},
   "outputs": [],
   "source": [
    "housing_data[\"Clubhouse_Rec_Room\"] = housing_data[\"Clubhouse_Rec_Room\"].fillna(\"No\")"
   ]
  },
  {
   "cell_type": "code",
   "execution_count": 77,
   "id": "cb0f05a3",
   "metadata": {},
   "outputs": [
    {
     "data": {
      "text/plain": [
       "No     2246\n",
       "Yes     871\n",
       "Name: Clubhouse_Rec_Room, dtype: int64"
      ]
     },
     "execution_count": 77,
     "metadata": {},
     "output_type": "execute_result"
    }
   ],
   "source": [
    "housing_data[\"Clubhouse_Rec_Room\"].value_counts()"
   ]
  },
  {
   "cell_type": "code",
   "execution_count": 78,
   "id": "71308963",
   "metadata": {},
   "outputs": [
    {
     "data": {
      "text/plain": [
       "array(['BASEMENT Y/N:\\xa0N', 'BASEMENT Y/N:\\xa0Y'], dtype=object)"
      ]
     },
     "execution_count": 78,
     "metadata": {},
     "output_type": "execute_result"
    }
   ],
   "source": [
    "housing_data[\"Basement\"].unique()"
   ]
  },
  {
   "cell_type": "code",
   "execution_count": 80,
   "id": "e9a4465b",
   "metadata": {},
   "outputs": [],
   "source": [
    "housing_data[\"Basement\"] = housing_data[\"Basement\"].apply(lambda x: \"N\" if x == 'BASEMENT Y/N:\\xa0N' else \"Y\")"
   ]
  },
  {
   "cell_type": "code",
   "execution_count": 81,
   "id": "1399f66a",
   "metadata": {},
   "outputs": [
    {
     "data": {
      "text/plain": [
       "N    3074\n",
       "Y      43\n",
       "Name: Basement, dtype: int64"
      ]
     },
     "execution_count": 81,
     "metadata": {},
     "output_type": "execute_result"
    }
   ],
   "source": [
    "housing_data[\"Basement\"].value_counts()"
   ]
  },
  {
   "cell_type": "code",
   "execution_count": 82,
   "id": "69476faa",
   "metadata": {},
   "outputs": [
    {
     "data": {
      "text/plain": [
       "array(['Yes', nan], dtype=object)"
      ]
     },
     "execution_count": 82,
     "metadata": {},
     "output_type": "execute_result"
    }
   ],
   "source": [
    "housing_data[\"RV_Gate\"].unique()"
   ]
  },
  {
   "cell_type": "code",
   "execution_count": 84,
   "id": "1c29f5b4",
   "metadata": {},
   "outputs": [],
   "source": [
    "housing_data[\"RV_Gate\"] = housing_data[\"RV_Gate\"].fillna(\"No\")"
   ]
  },
  {
   "cell_type": "code",
   "execution_count": 85,
   "id": "02b9c0a8",
   "metadata": {},
   "outputs": [
    {
     "data": {
      "text/plain": [
       "No     2618\n",
       "Yes     499\n",
       "Name: RV_Gate, dtype: int64"
      ]
     },
     "execution_count": 85,
     "metadata": {},
     "output_type": "execute_result"
    }
   ],
   "source": [
    "housing_data[\"RV_Gate\"].value_counts()"
   ]
  },
  {
   "cell_type": "code",
   "execution_count": 87,
   "id": "fd4cc442",
   "metadata": {},
   "outputs": [],
   "source": [
    "housing_data[\"List_Price\"] = housing_data[\"List_Price\"].apply(lambda x: x.replace(\",\", \"\"))"
   ]
  },
  {
   "cell_type": "code",
   "execution_count": 88,
   "id": "d033381a",
   "metadata": {},
   "outputs": [],
   "source": [
    "housing_data[\"List_Price\"] = housing_data[\"List_Price\"].astype(int)"
   ]
  },
  {
   "cell_type": "code",
   "execution_count": 89,
   "id": "7f9e158c",
   "metadata": {},
   "outputs": [
    {
     "data": {
      "text/plain": [
       "count    3.117000e+03\n",
       "mean     6.485430e+05\n",
       "std      6.298170e+05\n",
       "min      1.000000e+04\n",
       "25%      3.680000e+05\n",
       "50%      4.800000e+05\n",
       "75%      6.970000e+05\n",
       "max      1.036400e+07\n",
       "Name: List_Price, dtype: float64"
      ]
     },
     "execution_count": 89,
     "metadata": {},
     "output_type": "execute_result"
    }
   ],
   "source": [
    "housing_data[\"List_Price\"].describe()"
   ]
  },
  {
   "cell_type": "code",
   "execution_count": 91,
   "id": "1563867e",
   "metadata": {},
   "outputs": [
    {
     "data": {
      "text/plain": [
       "count    3.117000e+03\n",
       "mean     6.352639e+05\n",
       "std      6.138111e+05\n",
       "min      1.000000e+04\n",
       "25%      3.600000e+05\n",
       "50%      4.750000e+05\n",
       "75%      6.808880e+05\n",
       "max      1.036400e+07\n",
       "Name: Sold_Price, dtype: float64"
      ]
     },
     "execution_count": 91,
     "metadata": {},
     "output_type": "execute_result"
    }
   ],
   "source": [
    "housing_data[\"Sold_Price\"] = housing_data[\"Sold_Price\"].apply(lambda x: x.replace(\",\", \"\"))\n",
    "housing_data[\"Sold_Price\"] = housing_data[\"Sold_Price\"].astype(int)\n",
    "housing_data[\"Sold_Price\"].describe()"
   ]
  },
  {
   "cell_type": "code",
   "execution_count": 93,
   "id": "6abd62ff",
   "metadata": {},
   "outputs": [
    {
     "data": {
      "text/plain": [
       "array(['High Rise', nan, '2-3-4 Plex', 'Clustered', 'String',\n",
       "       'Clustered · High Rise', '2-3-4 Plex · Clustered'], dtype=object)"
      ]
     },
     "execution_count": 93,
     "metadata": {},
     "output_type": "execute_result"
    }
   ],
   "source": [
    "housing_data[\"Building_Style\"].unique()"
   ]
  },
  {
   "cell_type": "code",
   "execution_count": 95,
   "id": "afa64345",
   "metadata": {},
   "outputs": [],
   "source": [
    "housing_data[\"Building_Style\"] = housing_data[\"Building_Style\"].fillna(\"Missing\")"
   ]
  },
  {
   "cell_type": "code",
   "execution_count": 97,
   "id": "40d52f06",
   "metadata": {},
   "outputs": [
    {
     "data": {
      "text/plain": [
       "array(['Yes', nan], dtype=object)"
      ]
     },
     "execution_count": 97,
     "metadata": {},
     "output_type": "execute_result"
    }
   ],
   "source": [
    "housing_data[\"Gated_Community\"].unique()"
   ]
  },
  {
   "cell_type": "code",
   "execution_count": 99,
   "id": "d50fc6ab",
   "metadata": {},
   "outputs": [],
   "source": [
    "housing_data[\"Gated_Community\"] = housing_data[\"Gated_Community\"].fillna(\"No\")"
   ]
  },
  {
   "cell_type": "code",
   "execution_count": 101,
   "id": "8a277059",
   "metadata": {},
   "outputs": [
    {
     "data": {
      "text/plain": [
       "array(['Yes', nan], dtype=object)"
      ]
     },
     "execution_count": 101,
     "metadata": {},
     "output_type": "execute_result"
    }
   ],
   "source": [
    "housing_data[\"Workout_Facility\"].unique()"
   ]
  },
  {
   "cell_type": "code",
   "execution_count": 102,
   "id": "57aff7fd",
   "metadata": {},
   "outputs": [],
   "source": [
    "housing_data[\"Workout_Facility\"] = housing_data[\"Workout_Facility\"].fillna(\"No\")"
   ]
  },
  {
   "cell_type": "code",
   "execution_count": 104,
   "id": "bc2b2435",
   "metadata": {},
   "outputs": [
    {
     "data": {
      "text/plain": [
       "2.0     1598\n",
       "0.0      777\n",
       "3.0      456\n",
       "1.0      138\n",
       "4.0       67\n",
       "2.5       57\n",
       "1.5        5\n",
       "6.0        5\n",
       "3.5        2\n",
       "18.0       2\n",
       "4.5        2\n",
       "10.0       2\n",
       "5.0        2\n",
       "6.5        1\n",
       "9.0        1\n",
       "14.0       1\n",
       "7.0        1\n",
       "Name: Garage_Spaces, dtype: int64"
      ]
     },
     "execution_count": 104,
     "metadata": {},
     "output_type": "execute_result"
    }
   ],
   "source": [
    "housing_data[\"Garage_Spaces\"].value_counts()"
   ]
  },
  {
   "cell_type": "code",
   "execution_count": 106,
   "id": "b72b0a7f",
   "metadata": {},
   "outputs": [
    {
     "data": {
      "text/plain": [
       "0.0    2412\n",
       "1.0     422\n",
       "2.0     258\n",
       "3.0      14\n",
       "4.0       7\n",
       "6.0       2\n",
       "1.5       2\n",
       "Name: Carport_Spaces, dtype: int64"
      ]
     },
     "execution_count": 106,
     "metadata": {},
     "output_type": "execute_result"
    }
   ],
   "source": [
    "housing_data[\"Carport_Spaces\"].value_counts()"
   ]
  },
  {
   "cell_type": "code",
   "execution_count": 107,
   "id": "fa658f28",
   "metadata": {},
   "outputs": [
    {
     "data": {
      "text/plain": [
       "array(['Conventional', 'VA', 'Cash', 'FHA', 'Other', 'Cash to Loan',\n",
       "       'Carryback', 'Exchange', 'USDA'], dtype=object)"
      ]
     },
     "execution_count": 107,
     "metadata": {},
     "output_type": "execute_result"
    }
   ],
   "source": [
    "housing_data[\"Loan_Type\"].unique()"
   ]
  },
  {
   "cell_type": "code",
   "execution_count": 108,
   "id": "688fd186",
   "metadata": {},
   "outputs": [
    {
     "data": {
      "text/plain": [
       "Conventional    1487\n",
       "Cash             878\n",
       "FHA              396\n",
       "Other            196\n",
       "VA               138\n",
       "Carryback         13\n",
       "Exchange           5\n",
       "Cash to Loan       2\n",
       "USDA               2\n",
       "Name: Loan_Type, dtype: int64"
      ]
     },
     "execution_count": 108,
     "metadata": {},
     "output_type": "execute_result"
    }
   ],
   "source": [
    "housing_data[\"Loan_Type\"].value_counts()"
   ]
  },
  {
   "cell_type": "code",
   "execution_count": 109,
   "id": "e09afffe",
   "metadata": {},
   "outputs": [
    {
     "data": {
      "text/plain": [
       "Fixed            1625\n",
       "Other             515\n",
       "Adjustable         13\n",
       "Balloon            10\n",
       "Interest Only       3\n",
       "Graduated           1\n",
       "Name: Payment_Type, dtype: int64"
      ]
     },
     "execution_count": 109,
     "metadata": {},
     "output_type": "execute_result"
    }
   ],
   "source": [
    "housing_data[\"Payment_Type\"].value_counts()"
   ]
  },
  {
   "cell_type": "code",
   "execution_count": 110,
   "id": "d1bc00cc",
   "metadata": {},
   "outputs": [
    {
     "data": {
      "text/plain": [
       "950"
      ]
     },
     "execution_count": 110,
     "metadata": {},
     "output_type": "execute_result"
    }
   ],
   "source": [
    "housing_data[\"Payment_Type\"].isna().sum()"
   ]
  },
  {
   "cell_type": "code",
   "execution_count": 111,
   "id": "bb1ff783",
   "metadata": {},
   "outputs": [],
   "source": [
    "housing_data[\"Payment_Type\"] = housing_data[\"Payment_Type\"].fillna(\"Missing\")"
   ]
  },
  {
   "cell_type": "code",
   "execution_count": 112,
   "id": "480ea5c0",
   "metadata": {},
   "outputs": [
    {
     "data": {
      "text/plain": [
       "Fixed            1625\n",
       "Missing           950\n",
       "Other             515\n",
       "Adjustable         13\n",
       "Balloon            10\n",
       "Interest Only       3\n",
       "Graduated           1\n",
       "Name: Payment_Type, dtype: int64"
      ]
     },
     "execution_count": 112,
     "metadata": {},
     "output_type": "execute_result"
    }
   ],
   "source": [
    "housing_data[\"Payment_Type\"].value_counts()"
   ]
  },
  {
   "cell_type": "code",
   "execution_count": 113,
   "id": "e34f80b2",
   "metadata": {},
   "outputs": [
    {
     "data": {
      "text/plain": [
       "count     3117.000000\n",
       "mean        84.598973\n",
       "std       1187.284533\n",
       "min          0.000000\n",
       "25%          0.000000\n",
       "50%          0.000000\n",
       "75%          0.000000\n",
       "max      34475.000000\n",
       "Name: Buyer_Concession_to_Seller, dtype: float64"
      ]
     },
     "execution_count": 113,
     "metadata": {},
     "output_type": "execute_result"
    }
   ],
   "source": [
    "housing_data[\"Buyer_Concession_to_Seller\"].describe()"
   ]
  },
  {
   "cell_type": "code",
   "execution_count": 115,
   "id": "a1d1226d",
   "metadata": {},
   "outputs": [
    {
     "data": {
      "text/plain": [
       "array(['$', '%'], dtype=object)"
      ]
     },
     "execution_count": 115,
     "metadata": {},
     "output_type": "execute_result"
    }
   ],
   "source": [
    "housing_data[\"Buyer_Concession_$/%\"].unique()"
   ]
  },
  {
   "cell_type": "code",
   "execution_count": 117,
   "id": "f83e4d28",
   "metadata": {},
   "outputs": [
    {
     "data": {
      "text/plain": [
       "array([0.0e+00, 3.0e+00, 5.0e-01, 2.5e+00, 1.0e+00, 1.0e+04, 1.0e+02,\n",
       "       2.0e+00])"
      ]
     },
     "execution_count": 117,
     "metadata": {},
     "output_type": "execute_result"
    }
   ],
   "source": [
    "housing_data.loc[housing_data[\"Buyer_Concession_$/%\"]==\"%\", \"Buyer_Concession_to_Seller\"].unique()"
   ]
  },
  {
   "cell_type": "code",
   "execution_count": 118,
   "id": "77a224a3",
   "metadata": {},
   "outputs": [],
   "source": [
    "def concession_calculator(concession_value, concession_type, \n",
    "                          list_price):\n",
    "    # convert concession into uniform $ price\n",
    "    if concession_type == \"$\":\n",
    "        return concession_value\n",
    "    elif concession_type == \"%\":\n",
    "        return list_price * concession_value / 100"
   ]
  },
  {
   "cell_type": "code",
   "execution_count": 122,
   "id": "73cff077",
   "metadata": {},
   "outputs": [],
   "source": [
    "housing_data[\"Buyer_Concession\"] = housing_data.apply(lambda x: concession_calculator(x[\"Buyer_Concession_to_Seller\"], x[\"Buyer_Concession_$/%\"], x[\"List_Price\"]), axis=1)"
   ]
  },
  {
   "cell_type": "code",
   "execution_count": 123,
   "id": "229a99bf",
   "metadata": {},
   "outputs": [
    {
     "data": {
      "text/plain": [
       "count    3.117000e+03\n",
       "mean     1.227330e+04\n",
       "std      6.716983e+05\n",
       "min      0.000000e+00\n",
       "25%      0.000000e+00\n",
       "50%      0.000000e+00\n",
       "75%      0.000000e+00\n",
       "max      3.750000e+07\n",
       "Name: Buyer_Concession, dtype: float64"
      ]
     },
     "execution_count": 123,
     "metadata": {},
     "output_type": "execute_result"
    }
   ],
   "source": [
    "housing_data[\"Buyer_Concession\"].describe()"
   ]
  },
  {
   "cell_type": "code",
   "execution_count": 124,
   "id": "092487db",
   "metadata": {},
   "outputs": [],
   "source": [
    "housing_data[\"Seller_Concession\"] = housing_data.apply(lambda x: concession_calculator(x[\"Seller_Concession_to_Buyer\"], x[\"Seller_Concession_$/%\"], x[\"List_Price\"]), axis=1)"
   ]
  },
  {
   "cell_type": "code",
   "execution_count": 125,
   "id": "a9e3612f",
   "metadata": {},
   "outputs": [
    {
     "data": {
      "text/plain": [
       "count    3.117000e+03\n",
       "mean     8.507295e+04\n",
       "std      1.662037e+06\n",
       "min      0.000000e+00\n",
       "25%      0.000000e+00\n",
       "50%      0.000000e+00\n",
       "75%      7.050000e+03\n",
       "max      4.206900e+07\n",
       "Name: Seller_Concession, dtype: float64"
      ]
     },
     "execution_count": 125,
     "metadata": {},
     "output_type": "execute_result"
    }
   ],
   "source": [
    "housing_data[\"Seller_Concession\"].describe()"
   ]
  },
  {
   "cell_type": "code",
   "execution_count": 126,
   "id": "c0e24360",
   "metadata": {},
   "outputs": [],
   "source": [
    "housing_data.drop([\"Buyer_Concession_to_Seller\", \n",
    "                   \"Buyer_Concession_$/%\", \n",
    "                   \"Seller_Concession_to_Buyer\", \n",
    "                   \"Seller_Concession_$/%\"], axis=1, inplace=True)"
   ]
  },
  {
   "cell_type": "code",
   "execution_count": 127,
   "id": "606e4390",
   "metadata": {},
   "outputs": [
    {
     "data": {
      "text/plain": [
       "(3117, 27)"
      ]
     },
     "execution_count": 127,
     "metadata": {},
     "output_type": "execute_result"
    }
   ],
   "source": [
    "housing_data.shape"
   ]
  },
  {
   "cell_type": "code",
   "execution_count": 128,
   "id": "6eba6824",
   "metadata": {},
   "outputs": [
    {
     "data": {
      "text/plain": [
       "Zip_Code                0\n",
       "Dwelling_Type           0\n",
       "Nr_Bedrooms             0\n",
       "Nr_Bathrooms            0\n",
       "Approx_SQFT             0\n",
       "Price_per_SqFt          0\n",
       "Dwelling_Styles         0\n",
       "Year_Built              0\n",
       "Approx_Lot_SqFt         0\n",
       "Pool                    0\n",
       "HOA_Fee               917\n",
       "Land_Lease_Fee          0\n",
       "Clubhouse_Rec_Room      0\n",
       "Basement                0\n",
       "RV_Gate                 0\n",
       "List_Price              0\n",
       "Sold_Price              0\n",
       "Building_Style          0\n",
       "Gated_Community         0\n",
       "Workout_Facility        0\n",
       "Garage_Spaces           0\n",
       "Carport_Spaces          0\n",
       "Loan_Type               0\n",
       "Payment_Type            0\n",
       "HOA_Missing             0\n",
       "Buyer_Concession        0\n",
       "Seller_Concession       0\n",
       "dtype: int64"
      ]
     },
     "execution_count": 128,
     "metadata": {},
     "output_type": "execute_result"
    }
   ],
   "source": [
    "housing_data.isna().sum()"
   ]
  },
  {
   "cell_type": "code",
   "execution_count": 129,
   "id": "6ccce2bf",
   "metadata": {},
   "outputs": [],
   "source": [
    "# Zip Code"
   ]
  },
  {
   "cell_type": "code",
   "execution_count": 135,
   "id": "3b150ee6",
   "metadata": {},
   "outputs": [
    {
     "data": {
      "image/png": "[encoded data removed]",
      "text/plain": [
       "<Figure size 1152x1152 with 1 Axes>"
      ]
     },
     "metadata": {},
     "output_type": "display_data"
    }
   ],
   "source": [
    "# Mean List_Price by Zip Code\n",
    "sns.set_theme(rc={'figure.figsize':(16,16)})\n",
    "plot = sns.barplot(data=housing_data, x=\"Zip_Code\", y=\"List_Price\", estimator=np.mean)\n",
    "plt.setp(plot.get_xticklabels(), rotation=90)\n",
    "plt.show()"
   ]
  },
  {
   "cell_type": "code",
   "execution_count": null,
   "id": "f7692c78",
   "metadata": {},
   "outputs": [],
   "source": [
    "# You can see the zip codes are already sorted\n",
    "# And there are clusters of zip codes where the list prices are higher\n",
    "# You can plot the same for \"Sold_Price\"\n",
    "# You can calculate per sq ft price and make the same plot as above\n"
   ]
  },
  {
   "cell_type": "code",
   "execution_count": 136,
   "id": "9bb9dc36",
   "metadata": {},
   "outputs": [
    {
     "data": {
      "text/html": [
       "<div>\n",
       "<style scoped>\n",
       "    .dataframe tbody tr th:only-of-type {\n",
       "        vertical-align: middle;\n",
       "    }\n",
       "\n",
       "    .dataframe tbody tr th {\n",
       "        vertical-align: top;\n",
       "    }\n",
       "\n",
       "    .dataframe thead th {\n",
       "        text-align: right;\n",
       "    }\n",
       "</style>\n",
       "<table border=\"1\" class=\"dataframe\">\n",
       "  <thead>\n",
       "    <tr style=\"text-align: right;\">\n",
       "      <th></th>\n",
       "      <th>Zip_Code</th>\n",
       "      <th>Dwelling_Type</th>\n",
       "      <th>Nr_Bedrooms</th>\n",
       "      <th>Nr_Bathrooms</th>\n",
       "      <th>Approx_SQFT</th>\n",
       "      <th>Price_per_SqFt</th>\n",
       "      <th>Dwelling_Styles</th>\n",
       "      <th>Year_Built</th>\n",
       "      <th>Approx_Lot_SqFt</th>\n",
       "      <th>Pool</th>\n",
       "      <th>...</th>\n",
       "      <th>Building_Style</th>\n",
       "      <th>Gated_Community</th>\n",
       "      <th>Workout_Facility</th>\n",
       "      <th>Garage_Spaces</th>\n",
       "      <th>Carport_Spaces</th>\n",
       "      <th>Loan_Type</th>\n",
       "      <th>Payment_Type</th>\n",
       "      <th>HOA_Missing</th>\n",
       "      <th>Buyer_Concession</th>\n",
       "      <th>Seller_Concession</th>\n",
       "    </tr>\n",
       "  </thead>\n",
       "  <tbody>\n",
       "    <tr>\n",
       "      <th>4</th>\n",
       "      <td>85003</td>\n",
       "      <td>AF</td>\n",
       "      <td>2</td>\n",
       "      <td>2.5</td>\n",
       "      <td>1510</td>\n",
       "      <td>314.56</td>\n",
       "      <td>Stacked</td>\n",
       "      <td>2007</td>\n",
       "      <td>654</td>\n",
       "      <td>Community</td>\n",
       "      <td>...</td>\n",
       "      <td>High Rise</td>\n",
       "      <td>No</td>\n",
       "      <td>Yes</td>\n",
       "      <td>2.0</td>\n",
       "      <td>0.0</td>\n",
       "      <td>Conventional</td>\n",
       "      <td>Fixed</td>\n",
       "      <td>0</td>\n",
       "      <td>0.0</td>\n",
       "      <td>17621.25</td>\n",
       "    </tr>\n",
       "    <tr>\n",
       "      <th>30</th>\n",
       "      <td>85008</td>\n",
       "      <td>SF</td>\n",
       "      <td>4</td>\n",
       "      <td>2.0</td>\n",
       "      <td>1562</td>\n",
       "      <td>220.87</td>\n",
       "      <td>Detached</td>\n",
       "      <td>1955</td>\n",
       "      <td>6756</td>\n",
       "      <td>None</td>\n",
       "      <td>...</td>\n",
       "      <td>Missing</td>\n",
       "      <td>No</td>\n",
       "      <td>No</td>\n",
       "      <td>0.0</td>\n",
       "      <td>1.0</td>\n",
       "      <td>Conventional</td>\n",
       "      <td>Other</td>\n",
       "      <td>0</td>\n",
       "      <td>0.0</td>\n",
       "      <td>8612.50</td>\n",
       "    </tr>\n",
       "    <tr>\n",
       "      <th>43</th>\n",
       "      <td>85008</td>\n",
       "      <td>TH</td>\n",
       "      <td>2</td>\n",
       "      <td>2.0</td>\n",
       "      <td>1206</td>\n",
       "      <td>290.21</td>\n",
       "      <td>Attached</td>\n",
       "      <td>2005</td>\n",
       "      <td>1146</td>\n",
       "      <td>Community</td>\n",
       "      <td>...</td>\n",
       "      <td>Missing</td>\n",
       "      <td>No</td>\n",
       "      <td>No</td>\n",
       "      <td>1.0</td>\n",
       "      <td>0.0</td>\n",
       "      <td>VA</td>\n",
       "      <td>Missing</td>\n",
       "      <td>1</td>\n",
       "      <td>0.0</td>\n",
       "      <td>1750.00</td>\n",
       "    </tr>\n",
       "    <tr>\n",
       "      <th>46</th>\n",
       "      <td>85008</td>\n",
       "      <td>SF</td>\n",
       "      <td>4</td>\n",
       "      <td>2.0</td>\n",
       "      <td>1366</td>\n",
       "      <td>296.48</td>\n",
       "      <td>Detached</td>\n",
       "      <td>1950</td>\n",
       "      <td>7780</td>\n",
       "      <td>None</td>\n",
       "      <td>...</td>\n",
       "      <td>Missing</td>\n",
       "      <td>No</td>\n",
       "      <td>No</td>\n",
       "      <td>0.0</td>\n",
       "      <td>1.0</td>\n",
       "      <td>VA</td>\n",
       "      <td>Missing</td>\n",
       "      <td>1</td>\n",
       "      <td>0.0</td>\n",
       "      <td>0.00</td>\n",
       "    </tr>\n",
       "    <tr>\n",
       "      <th>48</th>\n",
       "      <td>85008</td>\n",
       "      <td>SF</td>\n",
       "      <td>5</td>\n",
       "      <td>1.0</td>\n",
       "      <td>1454</td>\n",
       "      <td>244.15</td>\n",
       "      <td>Detached</td>\n",
       "      <td>1948</td>\n",
       "      <td>9535</td>\n",
       "      <td>None</td>\n",
       "      <td>...</td>\n",
       "      <td>Missing</td>\n",
       "      <td>No</td>\n",
       "      <td>No</td>\n",
       "      <td>0.0</td>\n",
       "      <td>2.0</td>\n",
       "      <td>Cash</td>\n",
       "      <td>Missing</td>\n",
       "      <td>1</td>\n",
       "      <td>0.0</td>\n",
       "      <td>4000.00</td>\n",
       "    </tr>\n",
       "    <tr>\n",
       "      <th>...</th>\n",
       "      <td>...</td>\n",
       "      <td>...</td>\n",
       "      <td>...</td>\n",
       "      <td>...</td>\n",
       "      <td>...</td>\n",
       "      <td>...</td>\n",
       "      <td>...</td>\n",
       "      <td>...</td>\n",
       "      <td>...</td>\n",
       "      <td>...</td>\n",
       "      <td>...</td>\n",
       "      <td>...</td>\n",
       "      <td>...</td>\n",
       "      <td>...</td>\n",
       "      <td>...</td>\n",
       "      <td>...</td>\n",
       "      <td>...</td>\n",
       "      <td>...</td>\n",
       "      <td>...</td>\n",
       "      <td>...</td>\n",
       "      <td>...</td>\n",
       "    </tr>\n",
       "    <tr>\n",
       "      <th>3093</th>\n",
       "      <td>85396</td>\n",
       "      <td>SF</td>\n",
       "      <td>2</td>\n",
       "      <td>2.0</td>\n",
       "      <td>1378</td>\n",
       "      <td>326.56</td>\n",
       "      <td>Detached</td>\n",
       "      <td>2022</td>\n",
       "      <td>4946</td>\n",
       "      <td>Community</td>\n",
       "      <td>...</td>\n",
       "      <td>Missing</td>\n",
       "      <td>No</td>\n",
       "      <td>No</td>\n",
       "      <td>2.0</td>\n",
       "      <td>0.0</td>\n",
       "      <td>Conventional</td>\n",
       "      <td>Missing</td>\n",
       "      <td>0</td>\n",
       "      <td>0.0</td>\n",
       "      <td>0.00</td>\n",
       "    </tr>\n",
       "    <tr>\n",
       "      <th>3106</th>\n",
       "      <td>85396</td>\n",
       "      <td>TH</td>\n",
       "      <td>2</td>\n",
       "      <td>2.5</td>\n",
       "      <td>1278</td>\n",
       "      <td>308.57</td>\n",
       "      <td>Detached</td>\n",
       "      <td>2023</td>\n",
       "      <td>3755</td>\n",
       "      <td>Community</td>\n",
       "      <td>...</td>\n",
       "      <td>Missing</td>\n",
       "      <td>No</td>\n",
       "      <td>No</td>\n",
       "      <td>2.0</td>\n",
       "      <td>0.0</td>\n",
       "      <td>Conventional</td>\n",
       "      <td>Missing</td>\n",
       "      <td>0</td>\n",
       "      <td>0.0</td>\n",
       "      <td>5000.00</td>\n",
       "    </tr>\n",
       "    <tr>\n",
       "      <th>3109</th>\n",
       "      <td>85396</td>\n",
       "      <td>SF</td>\n",
       "      <td>4</td>\n",
       "      <td>3.0</td>\n",
       "      <td>2684</td>\n",
       "      <td>162.07</td>\n",
       "      <td>Detached</td>\n",
       "      <td>2021</td>\n",
       "      <td>9218</td>\n",
       "      <td>None</td>\n",
       "      <td>...</td>\n",
       "      <td>Missing</td>\n",
       "      <td>No</td>\n",
       "      <td>No</td>\n",
       "      <td>2.0</td>\n",
       "      <td>0.0</td>\n",
       "      <td>FHA</td>\n",
       "      <td>Missing</td>\n",
       "      <td>0</td>\n",
       "      <td>0.0</td>\n",
       "      <td>12960.00</td>\n",
       "    </tr>\n",
       "    <tr>\n",
       "      <th>3113</th>\n",
       "      <td>85396</td>\n",
       "      <td>SF</td>\n",
       "      <td>2</td>\n",
       "      <td>3.0</td>\n",
       "      <td>1854</td>\n",
       "      <td>237.32</td>\n",
       "      <td>Detached</td>\n",
       "      <td>2007</td>\n",
       "      <td>5861</td>\n",
       "      <td>Community</td>\n",
       "      <td>...</td>\n",
       "      <td>Missing</td>\n",
       "      <td>No</td>\n",
       "      <td>No</td>\n",
       "      <td>2.0</td>\n",
       "      <td>0.0</td>\n",
       "      <td>Conventional</td>\n",
       "      <td>Missing</td>\n",
       "      <td>1</td>\n",
       "      <td>0.0</td>\n",
       "      <td>10000.00</td>\n",
       "    </tr>\n",
       "    <tr>\n",
       "      <th>3115</th>\n",
       "      <td>85396</td>\n",
       "      <td>MM</td>\n",
       "      <td>3</td>\n",
       "      <td>2.0</td>\n",
       "      <td>1121</td>\n",
       "      <td>316.68</td>\n",
       "      <td>Detached</td>\n",
       "      <td>2000</td>\n",
       "      <td>209872</td>\n",
       "      <td>None</td>\n",
       "      <td>...</td>\n",
       "      <td>Missing</td>\n",
       "      <td>No</td>\n",
       "      <td>No</td>\n",
       "      <td>0.0</td>\n",
       "      <td>0.0</td>\n",
       "      <td>Other</td>\n",
       "      <td>Missing</td>\n",
       "      <td>1</td>\n",
       "      <td>0.0</td>\n",
       "      <td>0.00</td>\n",
       "    </tr>\n",
       "  </tbody>\n",
       "</table>\n",
       "<p>462 rows × 27 columns</p>\n",
       "</div>"
      ],
      "text/plain": [
       "      Zip_Code Dwelling_Type  Nr_Bedrooms  Nr_Bathrooms  Approx_SQFT  \\\n",
       "4        85003            AF            2           2.5         1510   \n",
       "30       85008            SF            4           2.0         1562   \n",
       "43       85008            TH            2           2.0         1206   \n",
       "46       85008            SF            4           2.0         1366   \n",
       "48       85008            SF            5           1.0         1454   \n",
       "...        ...           ...          ...           ...          ...   \n",
       "3093     85396            SF            2           2.0         1378   \n",
       "3106     85396            TH            2           2.5         1278   \n",
       "3109     85396            SF            4           3.0         2684   \n",
       "3113     85396            SF            2           3.0         1854   \n",
       "3115     85396            MM            3           2.0         1121   \n",
       "\n",
       "      Price_per_SqFt Dwelling_Styles  Year_Built  Approx_Lot_SqFt       Pool  \\\n",
       "4             314.56         Stacked        2007              654  Community   \n",
       "30            220.87        Detached        1955             6756       None   \n",
       "43            290.21        Attached        2005             1146  Community   \n",
       "46            296.48        Detached        1950             7780       None   \n",
       "48            244.15        Detached        1948             9535       None   \n",
       "...              ...             ...         ...              ...        ...   \n",
       "3093          326.56        Detached        2022             4946  Community   \n",
       "3106          308.57        Detached        2023             3755  Community   \n",
       "3109          162.07        Detached        2021             9218       None   \n",
       "3113          237.32        Detached        2007             5861  Community   \n",
       "3115          316.68        Detached        2000           209872       None   \n",
       "\n",
       "      ...  Building_Style Gated_Community Workout_Facility Garage_Spaces  \\\n",
       "4     ...       High Rise              No              Yes           2.0   \n",
       "30    ...         Missing              No               No           0.0   \n",
       "43    ...         Missing              No               No           1.0   \n",
       "46    ...         Missing              No               No           0.0   \n",
       "48    ...         Missing              No               No           0.0   \n",
       "...   ...             ...             ...              ...           ...   \n",
       "3093  ...         Missing              No               No           2.0   \n",
       "3106  ...         Missing              No               No           2.0   \n",
       "3109  ...         Missing              No               No           2.0   \n",
       "3113  ...         Missing              No               No           2.0   \n",
       "3115  ...         Missing              No               No           0.0   \n",
       "\n",
       "     Carport_Spaces     Loan_Type  Payment_Type HOA_Missing Buyer_Concession  \\\n",
       "4               0.0  Conventional         Fixed           0              0.0   \n",
       "30              1.0  Conventional         Other           0              0.0   \n",
       "43              0.0            VA       Missing           1              0.0   \n",
       "46              1.0            VA       Missing           1              0.0   \n",
       "48              2.0          Cash       Missing           1              0.0   \n",
       "...             ...           ...           ...         ...              ...   \n",
       "3093            0.0  Conventional       Missing           0              0.0   \n",
       "3106            0.0  Conventional       Missing           0              0.0   \n",
       "3109            0.0           FHA       Missing           0              0.0   \n",
       "3113            0.0  Conventional       Missing           1              0.0   \n",
       "3115            0.0         Other       Missing           1              0.0   \n",
       "\n",
       "     Seller_Concession  \n",
       "4             17621.25  \n",
       "30             8612.50  \n",
       "43             1750.00  \n",
       "46                0.00  \n",
       "48             4000.00  \n",
       "...                ...  \n",
       "3093              0.00  \n",
       "3106           5000.00  \n",
       "3109          12960.00  \n",
       "3113          10000.00  \n",
       "3115              0.00  \n",
       "\n",
       "[462 rows x 27 columns]"
      ]
     },
     "execution_count": 136,
     "metadata": {},
     "output_type": "execute_result"
    }
   ],
   "source": [
    "# There are 27 rows where \"Sold_Price\" is higher than \"List Price\"\n",
    "housing_data[housing_data[\"List_Price\"] < housing_data[\"Sold_Price\"]]"
   ]
  },
  {
   "cell_type": "code",
   "execution_count": 137,
   "id": "acba751f",
   "metadata": {},
   "outputs": [],
   "source": [
    "# You can calculate the difference between \"List_Price\" and \"Sold_Price\"\n",
    "# and do the same plotting across zip codes"
   ]
  },
  {
   "cell_type": "code",
   "execution_count": null,
   "id": "7ae2c5ff",
   "metadata": {},
   "outputs": [],
   "source": []
  }
 ],
 "metadata": {
  "kernelspec": {
   "display_name": "Python 3 (ipykernel)",
   "language": "python",
   "name": "python3"
  },
  "language_info": {
   "codemirror_mode": {
    "name": "ipython",
    "version": 3
   },
   "file_extension": ".py",
   "mimetype": "text/x-python",
   "name": "python",
   "nbconvert_exporter": "python",
   "pygments_lexer": "ipython3",
   "version": "3.9.7"
  }
 },
 "nbformat": 4,
 "nbformat_minor": 5
}
