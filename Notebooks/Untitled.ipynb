{
 "cells": [
  {
   "cell_type": "code",
   "execution_count": 5,
   "id": "61708450",
   "metadata": {},
   "outputs": [],
   "source": [
    "#Code task 1#\n",
    "#Import pandas, matplotlib.pyplot, and seaborn in the correct lines below\n",
    "import pandas as pd\n",
    "import matplotlib.pyplot as plt\n",
    "import seaborn as sns\n",
    "import os\n",
    "\n",
    "\n"
   ]
  },
  {
   "cell_type": "code",
   "execution_count": 6,
   "id": "93437177",
   "metadata": {},
   "outputs": [],
   "source": [
    "housing_data = pd.read_csv(\"Maricopa_County_Housing_data.csv\")"
   ]
  },
  {
   "cell_type": "code",
   "execution_count": 7,
   "id": "90998038",
   "metadata": {},
   "outputs": [
    {
     "name": "stdout",
     "output_type": "stream",
     "text": [
      "<class 'pandas.core.frame.DataFrame'>\n",
      "RangeIndex: 3117 entries, 0 to 3116\n",
      "Data columns (total 29 columns):\n",
      " #   Column                      Non-Null Count  Dtype  \n",
      "---  ------                      --------------  -----  \n",
      " 0   Zip Code                    3117 non-null   int64  \n",
      " 1   Dwelling Type               3117 non-null   object \n",
      " 2   # Bedrooms                  3117 non-null   int64  \n",
      " 3   # Bathrooms                 3117 non-null   float64\n",
      " 4   Approx SQFT                 3117 non-null   object \n",
      " 5   Price/SqFt                  3117 non-null   object \n",
      " 6   Property Type               3117 non-null   object \n",
      " 7   Dwelling Styles             3117 non-null   object \n",
      " 8   Year Built                  3117 non-null   int64  \n",
      " 9   Approx Lot SqFt             3117 non-null   object \n",
      " 10  Pool                        2052 non-null   object \n",
      " 11  HOA Fee                     2200 non-null   float64\n",
      " 12  Land Lease Fee Y/N          3117 non-null   object \n",
      " 13  Clubhouse/Rec Room          871 non-null    object \n",
      " 14  Basement                    3117 non-null   object \n",
      " 15  RV Gate                     499 non-null    object \n",
      " 16  List Price                  3117 non-null   object \n",
      " 17  Sold Price                  3117 non-null   object \n",
      " 18  Building Style              232 non-null    object \n",
      " 19  Gated Community             723 non-null    object \n",
      " 20  Workout Facility            619 non-null    object \n",
      " 21  Garage Spaces               3117 non-null   float64\n",
      " 22  Carport Spaces              3117 non-null   float64\n",
      " 23  Loan Type                   3117 non-null   object \n",
      " 24  Payment Type                2167 non-null   object \n",
      " 25  Buyer Concession to Seller  3117 non-null   float64\n",
      " 26  Buyer Concession $/%        3117 non-null   object \n",
      " 27  Seller Concession to Buyer  3117 non-null   float64\n",
      " 28  Seller Concession $/%       3117 non-null   object \n",
      "dtypes: float64(6), int64(3), object(20)\n",
      "memory usage: 706.3+ KB\n"
     ]
    }
   ],
   "source": [
    "housing_data.info()"
   ]
  },
  {
   "cell_type": "code",
   "execution_count": null,
   "id": "d35a50fe",
   "metadata": {},
   "outputs": [],
   "source": []
  },
  {
   "cell_type": "code",
   "execution_count": null,
   "id": "9f2574d9",
   "metadata": {},
   "outputs": [],
   "source": []
  },
  {
   "cell_type": "code",
   "execution_count": null,
   "id": "db108b41",
   "metadata": {},
   "outputs": [],
   "source": []
  },
  {
   "cell_type": "code",
   "execution_count": null,
   "id": "c339f219",
   "metadata": {},
   "outputs": [],
   "source": []
  },
  {
   "cell_type": "code",
   "execution_count": null,
   "id": "1c9c7896",
   "metadata": {},
   "outputs": [],
   "source": []
  },
  {
   "cell_type": "code",
   "execution_count": null,
   "id": "057a3e49",
   "metadata": {},
   "outputs": [],
   "source": []
  },
  {
   "cell_type": "code",
   "execution_count": null,
   "id": "7eb5b322",
   "metadata": {},
   "outputs": [],
   "source": []
  },
  {
   "cell_type": "code",
   "execution_count": null,
   "id": "cbd785a2",
   "metadata": {},
   "outputs": [],
   "source": []
  }
 ],
 "metadata": {
  "kernelspec": {
   "display_name": "Python 3 (ipykernel)",
   "language": "python",
   "name": "python3"
  },
  "language_info": {
   "codemirror_mode": {
    "name": "ipython",
    "version": 3
   },
   "file_extension": ".py",
   "mimetype": "text/x-python",
   "name": "python",
   "nbconvert_exporter": "python",
   "pygments_lexer": "ipython3",
   "version": "3.11.4"
  }
 },
 "nbformat": 4,
 "nbformat_minor": 5
}
