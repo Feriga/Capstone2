{
 "cells": [
  {
   "cell_type": "code",
   "execution_count": 186,
   "id": "e886d4fe",
   "metadata": {},
   "outputs": [],
   "source": [
    "import pandas as pd\n",
    "import numpy as np\n",
    "import os\n",
    "import pickle\n",
    "import matplotlib.pyplot as plt\n",
    "import seaborn as sns\n",
    "from sklearn import __version__ as sklearn_version\n",
    "from sklearn.decomposition import PCA\n",
    "from sklearn.preprocessing import scale\n",
    "from sklearn.model_selection import train_test_split, cross_validate, GridSearchCV, learning_curve\n",
    "from sklearn.preprocessing import StandardScaler, MinMaxScaler\n",
    "from sklearn.dummy import DummyRegressor\n",
    "from sklearn.linear_model import LinearRegression\n",
    "from sklearn.ensemble import RandomForestRegressor\n",
    "from sklearn.metrics import r2_score, mean_squared_error, mean_absolute_error\n",
    "from sklearn.pipeline import make_pipeline\n",
    "from sklearn.impute import SimpleImputer\n",
    "from sklearn.feature_selection import SelectKBest, f_regression\n",
    "import datetime\n",
    "\n",
    "from IPython.core.interactiveshell import InteractiveShell\n",
    "InteractiveShell.ast_node_interactivity = \"all\"\n"
   ]
  },
  {
   "cell_type": "markdown",
   "id": "c15a0e42",
   "metadata": {},
   "source": [
    "Load Data"
   ]
  },
  {
   "cell_type": "code",
   "execution_count": 187,
   "id": "67a217a6",
   "metadata": {},
   "outputs": [],
   "source": [
    "df = pd.read_csv('housing_data_cleaned.csv')"
   ]
  },
  {
   "cell_type": "code",
   "execution_count": null,
   "id": "96dd3114",
   "metadata": {},
   "outputs": [],
   "source": []
  },
  {
   "cell_type": "code",
   "execution_count": 188,
   "id": "f5b4e556",
   "metadata": {},
   "outputs": [
    {
     "data": {
      "text/plain": [
       "Unnamed: 0              int64\n",
       "Zip_Code                int64\n",
       "Dwelling_Type          object\n",
       "Nr_Bedrooms             int64\n",
       "Nr_Bathrooms          float64\n",
       "Approx_SQFT             int64\n",
       "Price_per_SqFt        float64\n",
       "Dwelling_Styles        object\n",
       "Year_Built              int64\n",
       "Approx_Lot_SqFt         int64\n",
       "Pool                   object\n",
       "HOA_Fee               float64\n",
       "Land_Lease_Fee         object\n",
       "Clubhouse_Rec_Room     object\n",
       "Basement               object\n",
       "RV_Gate                object\n",
       "List_Price              int64\n",
       "Sold_Price              int64\n",
       "Building_Style         object\n",
       "Gated_Community        object\n",
       "Workout_Facility       object\n",
       "Garage_Spaces         float64\n",
       "Carport_Spaces        float64\n",
       "Loan_Type              object\n",
       "Payment_Type           object\n",
       "HOA_Missing             int64\n",
       "Buyer_Concession      float64\n",
       "Seller_Concession     float64\n",
       "diff_List_Sold          int64\n",
       "dtype: object"
      ]
     },
     "execution_count": 188,
     "metadata": {},
     "output_type": "execute_result"
    }
   ],
   "source": [
    "df.dtypes"
   ]
  },
  {
   "cell_type": "code",
   "execution_count": 189,
   "id": "958ae1b2",
   "metadata": {},
   "outputs": [],
   "source": [
    "# dropping columns 'List_Price', and 'diff_List_Sold' conducive to data leakage\n",
    "columns_to_drop = ['List_Price','diff_List_Sold','Price_per_SqFt']\n",
    "\n",
    "df.drop(columns_to_drop, axis=1, inplace=True)"
   ]
  },
  {
   "cell_type": "markdown",
   "id": "8804c141",
   "metadata": {},
   "source": [
    "**Find if any column contains NaN values** -- looks like 'HOA_Fee' contains NaN values"
   ]
  },
  {
   "cell_type": "code",
   "execution_count": 190,
   "id": "945d3a58",
   "metadata": {},
   "outputs": [
    {
     "data": {
      "text/plain": [
       "Unnamed: 0              int64\n",
       "Zip_Code                int64\n",
       "Dwelling_Type          object\n",
       "Nr_Bedrooms             int64\n",
       "Nr_Bathrooms          float64\n",
       "Approx_SQFT             int64\n",
       "Dwelling_Styles        object\n",
       "Year_Built              int64\n",
       "Approx_Lot_SqFt         int64\n",
       "Pool                   object\n",
       "HOA_Fee               float64\n",
       "Land_Lease_Fee         object\n",
       "Clubhouse_Rec_Room     object\n",
       "Basement               object\n",
       "RV_Gate                object\n",
       "Sold_Price              int64\n",
       "Building_Style         object\n",
       "Gated_Community        object\n",
       "Workout_Facility       object\n",
       "Garage_Spaces         float64\n",
       "Carport_Spaces        float64\n",
       "Loan_Type              object\n",
       "Payment_Type           object\n",
       "HOA_Missing             int64\n",
       "Buyer_Concession      float64\n",
       "Seller_Concession     float64\n",
       "dtype: object"
      ]
     },
     "execution_count": 190,
     "metadata": {},
     "output_type": "execute_result"
    }
   ],
   "source": [
    "df.dtypes"
   ]
  },
  {
   "cell_type": "code",
   "execution_count": 191,
   "id": "177732b1",
   "metadata": {},
   "outputs": [
    {
     "data": {
      "text/plain": [
       "['HOA_Fee']"
      ]
     },
     "execution_count": 191,
     "metadata": {},
     "output_type": "execute_result"
    }
   ],
   "source": [
    "df.columns[df.isnull().any()].tolist()"
   ]
  },
  {
   "cell_type": "code",
   "execution_count": 192,
   "id": "22e7398a",
   "metadata": {},
   "outputs": [],
   "source": [
    "# replace all NaN values with 0 in HOA_Fee column\n",
    "df['HOA_Fee'] = df['HOA_Fee'].fillna(0)  "
   ]
  },
  {
   "cell_type": "code",
   "execution_count": 193,
   "id": "339a92ef",
   "metadata": {},
   "outputs": [
    {
     "data": {
      "text/plain": [
       "[]"
      ]
     },
     "execution_count": 193,
     "metadata": {},
     "output_type": "execute_result"
    }
   ],
   "source": [
    "# sanity check for Nan values. \n",
    "df.columns[df.isnull().any()].tolist()\n",
    "# it looks good"
   ]
  },
  {
   "cell_type": "markdown",
   "id": "7aeb7dbf",
   "metadata": {},
   "source": [
    "### 1. Turn categorical values in numerical using get_dummies"
   ]
  },
  {
   "cell_type": "code",
   "execution_count": 194,
   "id": "93038fa0",
   "metadata": {},
   "outputs": [
    {
     "name": "stdout",
     "output_type": "stream",
     "text": [
      "<class 'pandas.core.frame.DataFrame'>\n",
      "RangeIndex: 3117 entries, 0 to 3116\n",
      "Data columns (total 12 columns):\n",
      " #   Column              Non-Null Count  Dtype \n",
      "---  ------              --------------  ----- \n",
      " 0   Dwelling_Type       3117 non-null   object\n",
      " 1   Dwelling_Styles     3117 non-null   object\n",
      " 2   Pool                3117 non-null   object\n",
      " 3   Land_Lease_Fee      3117 non-null   object\n",
      " 4   Clubhouse_Rec_Room  3117 non-null   object\n",
      " 5   Basement            3117 non-null   object\n",
      " 6   RV_Gate             3117 non-null   object\n",
      " 7   Building_Style      3117 non-null   object\n",
      " 8   Gated_Community     3117 non-null   object\n",
      " 9   Workout_Facility    3117 non-null   object\n",
      " 10  Loan_Type           3117 non-null   object\n",
      " 11  Payment_Type        3117 non-null   object\n",
      "dtypes: object(12)\n",
      "memory usage: 292.3+ KB\n"
     ]
    }
   ],
   "source": [
    "only_objects = df.select_dtypes('object').info()  # there are 12 columns of object type "
   ]
  },
  {
   "cell_type": "code",
   "execution_count": 195,
   "id": "5fd05053",
   "metadata": {},
   "outputs": [],
   "source": [
    "df = pd.get_dummies(df,columns=['Dwelling_Type'], dtype='int', prefix='Type')\n",
    "df = pd.get_dummies(df,columns=['Dwelling_Styles'], dtype='int',prefix='Style')\n",
    "df= pd.get_dummies(df,columns=['Pool'],dtype='int', prefix='Pool')\n",
    "df= pd.get_dummies(df,columns=['Land_Lease_Fee'],dtype='int', prefix='Land')\n",
    "df= pd.get_dummies(df,columns=['Clubhouse_Rec_Room'],dtype='int', prefix='Club')\n",
    "df= pd.get_dummies(df,columns=['Basement'], dtype='int',prefix='Base')\n",
    "df= pd.get_dummies(df,columns=['RV_Gate'], dtype='int', prefix='RV_Gate')\n",
    "df= pd.get_dummies(df,columns=['Building_Style'],dtype='int', prefix='Bldg_style')\n",
    "df= pd.get_dummies(df,columns=['Gated_Community'],dtype='int', prefix='Gated')\n",
    "df= pd.get_dummies(df,columns=['Workout_Facility'],dtype='int', prefix='Fittness')\n",
    "df= pd.get_dummies(df,columns=['Loan_Type'],dtype='int', prefix='Loan')\n",
    "df= pd.get_dummies(df,columns=['Payment_Type'],dtype='int', prefix='Payment')\n"
   ]
  },
  {
   "cell_type": "code",
   "execution_count": 196,
   "id": "29440e3b",
   "metadata": {},
   "outputs": [
    {
     "data": {
      "text/plain": [
       "(3117, 64)"
      ]
     },
     "execution_count": 196,
     "metadata": {},
     "output_type": "execute_result"
    }
   ],
   "source": [
    "df.shape"
   ]
  },
  {
   "cell_type": "code",
   "execution_count": 197,
   "id": "54285d9b",
   "metadata": {},
   "outputs": [
    {
     "name": "stdout",
     "output_type": "stream",
     "text": [
      "<class 'pandas.core.frame.DataFrame'>\n",
      "RangeIndex: 3117 entries, 0 to 3116\n",
      "Data columns (total 64 columns):\n",
      " #   Column                             Non-Null Count  Dtype  \n",
      "---  ------                             --------------  -----  \n",
      " 0   Unnamed: 0                         3117 non-null   int64  \n",
      " 1   Zip_Code                           3117 non-null   int64  \n",
      " 2   Nr_Bedrooms                        3117 non-null   int64  \n",
      " 3   Nr_Bathrooms                       3117 non-null   float64\n",
      " 4   Approx_SQFT                        3117 non-null   int64  \n",
      " 5   Year_Built                         3117 non-null   int64  \n",
      " 6   Approx_Lot_SqFt                    3117 non-null   int64  \n",
      " 7   HOA_Fee                            3117 non-null   float64\n",
      " 8   Sold_Price                         3117 non-null   int64  \n",
      " 9   Garage_Spaces                      3117 non-null   float64\n",
      " 10  Carport_Spaces                     3117 non-null   float64\n",
      " 11  HOA_Missing                        3117 non-null   int64  \n",
      " 12  Buyer_Concession                   3117 non-null   float64\n",
      " 13  Seller_Concession                  3117 non-null   float64\n",
      " 14  Type_AF                            3117 non-null   int32  \n",
      " 15  Type_GT                            3117 non-null   int32  \n",
      " 16  Type_LS                            3117 non-null   int32  \n",
      " 17  Type_MD                            3117 non-null   int32  \n",
      " 18  Type_MM                            3117 non-null   int32  \n",
      " 19  Type_PH                            3117 non-null   int32  \n",
      " 20  Type_SF                            3117 non-null   int32  \n",
      " 21  Type_TH                            3117 non-null   int32  \n",
      " 22  Style_Attached                     3117 non-null   int32  \n",
      " 23  Style_Detached                     3117 non-null   int32  \n",
      " 24  Style_Stacked                      3117 non-null   int32  \n",
      " 25  Pool_Both                          3117 non-null   int32  \n",
      " 26  Pool_Community                     3117 non-null   int32  \n",
      " 27  Pool_Private                       3117 non-null   int32  \n",
      " 28  Pool_no_pool                       3117 non-null   int32  \n",
      " 29  Land_N                             3117 non-null   int32  \n",
      " 30  Land_Y                             3117 non-null   int32  \n",
      " 31  Club_No                            3117 non-null   int32  \n",
      " 32  Club_Yes                           3117 non-null   int32  \n",
      " 33  Base_N                             3117 non-null   int32  \n",
      " 34  Base_Y                             3117 non-null   int32  \n",
      " 35  RV_Gate_No                         3117 non-null   int32  \n",
      " 36  RV_Gate_Yes                        3117 non-null   int32  \n",
      " 37  Bldg_style_2-3-4 Plex              3117 non-null   int32  \n",
      " 38  Bldg_style_2-3-4 Plex · Clustered  3117 non-null   int32  \n",
      " 39  Bldg_style_Clustered               3117 non-null   int32  \n",
      " 40  Bldg_style_Clustered · High Rise   3117 non-null   int32  \n",
      " 41  Bldg_style_High Rise               3117 non-null   int32  \n",
      " 42  Bldg_style_Missing                 3117 non-null   int32  \n",
      " 43  Bldg_style_String                  3117 non-null   int32  \n",
      " 44  Gated_No                           3117 non-null   int32  \n",
      " 45  Gated_Yes                          3117 non-null   int32  \n",
      " 46  Fittness_No                        3117 non-null   int32  \n",
      " 47  Fittness_Yes                       3117 non-null   int32  \n",
      " 48  Loan_Carryback                     3117 non-null   int32  \n",
      " 49  Loan_Cash                          3117 non-null   int32  \n",
      " 50  Loan_Cash to Loan                  3117 non-null   int32  \n",
      " 51  Loan_Conventional                  3117 non-null   int32  \n",
      " 52  Loan_Exchange                      3117 non-null   int32  \n",
      " 53  Loan_FHA                           3117 non-null   int32  \n",
      " 54  Loan_Other                         3117 non-null   int32  \n",
      " 55  Loan_USDA                          3117 non-null   int32  \n",
      " 56  Loan_VA                            3117 non-null   int32  \n",
      " 57  Payment_Adjustable                 3117 non-null   int32  \n",
      " 58  Payment_Balloon                    3117 non-null   int32  \n",
      " 59  Payment_Fixed                      3117 non-null   int32  \n",
      " 60  Payment_Graduated                  3117 non-null   int32  \n",
      " 61  Payment_Interest Only              3117 non-null   int32  \n",
      " 62  Payment_Missing                    3117 non-null   int32  \n",
      " 63  Payment_Other                      3117 non-null   int32  \n",
      "dtypes: float64(6), int32(50), int64(8)\n",
      "memory usage: 949.8 KB\n"
     ]
    }
   ],
   "source": [
    "df.info()"
   ]
  },
  {
   "cell_type": "markdown",
   "id": "84593188",
   "metadata": {},
   "source": [
    "## 2. Train/Test Split"
   ]
  },
  {
   "cell_type": "code",
   "execution_count": 198,
   "id": "65540fad",
   "metadata": {},
   "outputs": [
    {
     "data": {
      "text/plain": [
       "(2181.8999999999996, 935.0999999999999)"
      ]
     },
     "execution_count": 198,
     "metadata": {},
     "output_type": "execute_result"
    }
   ],
   "source": [
    "# manual checking for the partition sizes for 70/30 split\n",
    "len(df) * .7, len(df) * .3"
   ]
  },
  {
   "cell_type": "code",
   "execution_count": 199,
   "id": "a08bab38",
   "metadata": {},
   "outputs": [],
   "source": [
    "# partitioning the data into training and testing in 70/30 splits, with predicted value is \"Sold_Price\"\n",
    "\n",
    "X_train, X_test, y_train, y_test = train_test_split(df.drop(columns='Sold_Price'), \n",
    "                                                    df.Sold_Price, test_size=0.3, \n",
    "                                                    random_state=47)"
   ]
  },
  {
   "cell_type": "code",
   "execution_count": 200,
   "id": "3228a1c1",
   "metadata": {},
   "outputs": [
    {
     "data": {
      "text/plain": [
       "((2181, 63), (936, 63))"
      ]
     },
     "execution_count": 200,
     "metadata": {},
     "output_type": "execute_result"
    }
   ],
   "source": [
    "# partition sizes are consistent with the manual partitioning sizes calculated above\n",
    "X_train.shape, X_test.shape"
   ]
  },
  {
   "cell_type": "code",
   "execution_count": 201,
   "id": "5b477309",
   "metadata": {},
   "outputs": [
    {
     "data": {
      "text/plain": [
       "((2181,), (936,))"
      ]
     },
     "execution_count": 201,
     "metadata": {},
     "output_type": "execute_result"
    }
   ],
   "source": [
    "y_train.shape, y_test.shape"
   ]
  },
  {
   "cell_type": "code",
   "execution_count": 202,
   "id": "01cb61c6",
   "metadata": {},
   "outputs": [
    {
     "data": {
      "text/plain": [
       "Unnamed: 0                 int64\n",
       "Zip_Code                   int64\n",
       "Nr_Bedrooms                int64\n",
       "Nr_Bathrooms             float64\n",
       "Approx_SQFT                int64\n",
       "                          ...   \n",
       "Payment_Fixed              int32\n",
       "Payment_Graduated          int32\n",
       "Payment_Interest Only      int32\n",
       "Payment_Missing            int32\n",
       "Payment_Other              int32\n",
       "Length: 63, dtype: object"
      ]
     },
     "execution_count": 202,
     "metadata": {},
     "output_type": "execute_result"
    }
   ],
   "source": [
    "# Check the `dtypes` attribute of `X_train` to verify all features are numeric\n",
    "X_train.dtypes"
   ]
  },
  {
   "cell_type": "code",
   "execution_count": 203,
   "id": "1f50e0cd",
   "metadata": {},
   "outputs": [
    {
     "data": {
      "text/plain": [
       "Unnamed: 0                 int64\n",
       "Zip_Code                   int64\n",
       "Nr_Bedrooms                int64\n",
       "Nr_Bathrooms             float64\n",
       "Approx_SQFT                int64\n",
       "                          ...   \n",
       "Payment_Fixed              int32\n",
       "Payment_Graduated          int32\n",
       "Payment_Interest Only      int32\n",
       "Payment_Missing            int32\n",
       "Payment_Other              int32\n",
       "Length: 63, dtype: object"
      ]
     },
     "execution_count": 203,
     "metadata": {},
     "output_type": "execute_result"
    }
   ],
   "source": [
    "# Repeat this check for the test split in `X_test`\n",
    "X_test.dtypes"
   ]
  },
  {
   "cell_type": "markdown",
   "id": "e5bbcd4b",
   "metadata": {},
   "source": [
    "### Determine how good the mean is as a predictor. Consider \"Average Sold Price\" is the best guess"
   ]
  },
  {
   "cell_type": "code",
   "execution_count": 204,
   "id": "e494dc6a",
   "metadata": {},
   "outputs": [
    {
     "data": {
      "text/plain": [
       "649888.3635946814"
      ]
     },
     "execution_count": 204,
     "metadata": {},
     "output_type": "execute_result"
    }
   ],
   "source": [
    "#Calculate the mean of `y_train`\n",
    "train_mean = y_train.mean()\n",
    "train_mean"
   ]
  },
  {
   "cell_type": "code",
   "execution_count": 205,
   "id": "2a4d2719",
   "metadata": {},
   "outputs": [
    {
     "data": {
      "text/html": [
       "<style>#sk-container-id-11 {color: black;background-color: white;}#sk-container-id-11 pre{padding: 0;}#sk-container-id-11 div.sk-toggleable {background-color: white;}#sk-container-id-11 label.sk-toggleable__label {cursor: pointer;display: block;width: 100%;margin-bottom: 0;padding: 0.3em;box-sizing: border-box;text-align: center;}#sk-container-id-11 label.sk-toggleable__label-arrow:before {content: \"▸\";float: left;margin-right: 0.25em;color: #696969;}#sk-container-id-11 label.sk-toggleable__label-arrow:hover:before {color: black;}#sk-container-id-11 div.sk-estimator:hover label.sk-toggleable__label-arrow:before {color: black;}#sk-container-id-11 div.sk-toggleable__content {max-height: 0;max-width: 0;overflow: hidden;text-align: left;background-color: #f0f8ff;}#sk-container-id-11 div.sk-toggleable__content pre {margin: 0.2em;color: black;border-radius: 0.25em;background-color: #f0f8ff;}#sk-container-id-11 input.sk-toggleable__control:checked~div.sk-toggleable__content {max-height: 200px;max-width: 100%;overflow: auto;}#sk-container-id-11 input.sk-toggleable__control:checked~label.sk-toggleable__label-arrow:before {content: \"▾\";}#sk-container-id-11 div.sk-estimator input.sk-toggleable__control:checked~label.sk-toggleable__label {background-color: #d4ebff;}#sk-container-id-11 div.sk-label input.sk-toggleable__control:checked~label.sk-toggleable__label {background-color: #d4ebff;}#sk-container-id-11 input.sk-hidden--visually {border: 0;clip: rect(1px 1px 1px 1px);clip: rect(1px, 1px, 1px, 1px);height: 1px;margin: -1px;overflow: hidden;padding: 0;position: absolute;width: 1px;}#sk-container-id-11 div.sk-estimator {font-family: monospace;background-color: #f0f8ff;border: 1px dotted black;border-radius: 0.25em;box-sizing: border-box;margin-bottom: 0.5em;}#sk-container-id-11 div.sk-estimator:hover {background-color: #d4ebff;}#sk-container-id-11 div.sk-parallel-item::after {content: \"\";width: 100%;border-bottom: 1px solid gray;flex-grow: 1;}#sk-container-id-11 div.sk-label:hover label.sk-toggleable__label {background-color: #d4ebff;}#sk-container-id-11 div.sk-serial::before {content: \"\";position: absolute;border-left: 1px solid gray;box-sizing: border-box;top: 0;bottom: 0;left: 50%;z-index: 0;}#sk-container-id-11 div.sk-serial {display: flex;flex-direction: column;align-items: center;background-color: white;padding-right: 0.2em;padding-left: 0.2em;position: relative;}#sk-container-id-11 div.sk-item {position: relative;z-index: 1;}#sk-container-id-11 div.sk-parallel {display: flex;align-items: stretch;justify-content: center;background-color: white;position: relative;}#sk-container-id-11 div.sk-item::before, #sk-container-id-11 div.sk-parallel-item::before {content: \"\";position: absolute;border-left: 1px solid gray;box-sizing: border-box;top: 0;bottom: 0;left: 50%;z-index: -1;}#sk-container-id-11 div.sk-parallel-item {display: flex;flex-direction: column;z-index: 1;position: relative;background-color: white;}#sk-container-id-11 div.sk-parallel-item:first-child::after {align-self: flex-end;width: 50%;}#sk-container-id-11 div.sk-parallel-item:last-child::after {align-self: flex-start;width: 50%;}#sk-container-id-11 div.sk-parallel-item:only-child::after {width: 0;}#sk-container-id-11 div.sk-dashed-wrapped {border: 1px dashed gray;margin: 0 0.4em 0.5em 0.4em;box-sizing: border-box;padding-bottom: 0.4em;background-color: white;}#sk-container-id-11 div.sk-label label {font-family: monospace;font-weight: bold;display: inline-block;line-height: 1.2em;}#sk-container-id-11 div.sk-label-container {text-align: center;}#sk-container-id-11 div.sk-container {/* jupyter's `normalize.less` sets `[hidden] { display: none; }` but bootstrap.min.css set `[hidden] { display: none !important; }` so we also need the `!important` here to be able to override the default hidden behavior on the sphinx rendered scikit-learn.org. See: https://github.com/scikit-learn/scikit-learn/issues/21755 */display: inline-block !important;position: relative;}#sk-container-id-11 div.sk-text-repr-fallback {display: none;}</style><div id=\"sk-container-id-11\" class=\"sk-top-container\"><div class=\"sk-text-repr-fallback\"><pre>DummyRegressor()</pre><b>In a Jupyter environment, please rerun this cell to show the HTML representation or trust the notebook. <br />On GitHub, the HTML representation is unable to render, please try loading this page with nbviewer.org.</b></div><div class=\"sk-container\" hidden><div class=\"sk-item\"><div class=\"sk-estimator sk-toggleable\"><input class=\"sk-toggleable__control sk-hidden--visually\" id=\"sk-estimator-id-29\" type=\"checkbox\" checked><label for=\"sk-estimator-id-29\" class=\"sk-toggleable__label sk-toggleable__label-arrow\">DummyRegressor</label><div class=\"sk-toggleable__content\"><pre>DummyRegressor()</pre></div></div></div></div></div>"
      ],
      "text/plain": [
       "DummyRegressor()"
      ]
     },
     "execution_count": 205,
     "metadata": {},
     "output_type": "execute_result"
    },
    {
     "data": {
      "text/plain": [
       "array([[649888.36359468]])"
      ]
     },
     "execution_count": 205,
     "metadata": {},
     "output_type": "execute_result"
    }
   ],
   "source": [
    "# Calculate same thing by fitting the dummy regressor on the training data and calling mean strategy\n",
    "# Then print the object's `constant_` attribute and verify it's the same as the mean above\n",
    "\n",
    "dumb_reg = DummyRegressor(strategy='mean')\n",
    "dumb_reg.fit(X_train, y_train)\n",
    "dumb_reg.constant_"
   ]
  },
  {
   "cell_type": "markdown",
   "id": "f81a7123",
   "metadata": {},
   "source": [
    "How good is this? How closely does this match, or explain, the actual values? Metrics will help answering these questions"
   ]
  },
  {
   "cell_type": "markdown",
   "id": "2ec31967",
   "metadata": {},
   "source": [
    "### Metrics:  \n",
    "### R-squared or coefficient of determination"
   ]
  },
  {
   "cell_type": "code",
   "execution_count": 206,
   "id": "b6283b9c",
   "metadata": {},
   "outputs": [],
   "source": [
    "# Manually Calculate the R^2 \n",
    "def r_squared(y, ypred):\n",
    "    \"\"\"R-squared score.    \n",
    "    Calculate the R-squared, or coefficient of determination, of the input.\n",
    "    Arguments:\n",
    "               y -- the observed values\n",
    "               ypred -- the predicted values\n",
    "    \"\"\"\n",
    "    ybar = np.sum(y) / len(y)            # I know I could have used np.mean(y)\n",
    "    sum_sq_tot = np.sum((y - ybar)**2)   # total sum of squares error\n",
    "    sum_sq_res = np.sum((y - ypred)**2)  # residual sum of squares error\n",
    "    R2 = 1.0 - sum_sq_res / sum_sq_tot\n",
    "    return R2"
   ]
  },
  {
   "cell_type": "markdown",
   "id": "9276dcc7",
   "metadata": {},
   "source": [
    "Make the predictions by creating an array \"y_tr_pred\" of length equal to the size of the training set with each array element equal to the single value of the mean."
   ]
  },
  {
   "cell_type": "code",
   "execution_count": 207,
   "id": "daabfff9",
   "metadata": {},
   "outputs": [
    {
     "data": {
      "text/plain": [
       "array([649888.36359468, 649888.36359468, 649888.36359468, 649888.36359468,\n",
       "       649888.36359468])"
      ]
     },
     "execution_count": 207,
     "metadata": {},
     "output_type": "execute_result"
    }
   ],
   "source": [
    "y_tr_pred_ = train_mean * np.ones(len(y_train)) # np.ones(len(y_train)) creates an array of ones with the same length as y_train\n",
    "y_tr_pred_[:5]"
   ]
  },
  {
   "cell_type": "markdown",
   "id": "3054959e",
   "metadata": {},
   "source": [
    "I can obtain same thing using the sklearn dummy regressor baseline model: dumb_reg = DummyRegressor(strategy='mean')"
   ]
  },
  {
   "cell_type": "code",
   "execution_count": 208,
   "id": "68be7df3",
   "metadata": {},
   "outputs": [
    {
     "data": {
      "text/plain": [
       "array([649888.36359468, 649888.36359468, 649888.36359468, 649888.36359468,\n",
       "       649888.36359468])"
      ]
     },
     "execution_count": 208,
     "metadata": {},
     "output_type": "execute_result"
    }
   ],
   "source": [
    "y_tr_pred = dumb_reg.predict(X_train)\n",
    "y_tr_pred[:5]"
   ]
  },
  {
   "cell_type": "markdown",
   "id": "097abaf4",
   "metadata": {},
   "source": [
    "The DummyRegressor produces exactly the same results and saves me from having to mess about broadcasting the mean (or whichever other statistic is called. It also gives an object with fit() and predict() methods as well, which can be used as conveniently as any other sklearn estimator."
   ]
  },
  {
   "cell_type": "code",
   "execution_count": 209,
   "id": "79557a94",
   "metadata": {},
   "outputs": [
    {
     "data": {
      "text/plain": [
       "0.0"
      ]
     },
     "execution_count": 209,
     "metadata": {},
     "output_type": "execute_result"
    }
   ],
   "source": [
    "r_squared(y_train, y_tr_pred)  # call r_squared function defined previosuly, using arguments y_train, y_tr_pred"
   ]
  },
  {
   "cell_type": "markdown",
   "id": "26a64f75",
   "metadata": {},
   "source": [
    "As expected, if I use the average value as my prediction, I get an $R^2$ of zero _on the training set_. What if I use this \"model\" to predict unseen values from the test set? Of course, the \"model\" is trained on the training set; I still use the training set mean as my prediction."
   ]
  },
  {
   "cell_type": "code",
   "execution_count": 210,
   "id": "24420497",
   "metadata": {},
   "outputs": [
    {
     "data": {
      "text/plain": [
       "-0.0078084421886748245"
      ]
     },
     "execution_count": 210,
     "metadata": {},
     "output_type": "execute_result"
    }
   ],
   "source": [
    "y_te_pred = train_mean * np.ones(len(y_test))\n",
    "r_squared(y_test, y_te_pred)  # call r_squared function defined previosuly, using arguments y_test, y_te_pred"
   ]
  },
  {
   "cell_type": "markdown",
   "id": "fd1254a2",
   "metadata": {},
   "source": [
    "Performance on a test set is expected to be slightly worse than on the training set. As I'm getting an  𝑅2\n",
    "  of zero on the training set, there's nowhere to go but negative!  -0.0078"
   ]
  },
  {
   "cell_type": "code",
   "execution_count": null,
   "id": "53145039",
   "metadata": {},
   "outputs": [],
   "source": []
  },
  {
   "cell_type": "markdown",
   "id": "5e169110",
   "metadata": {},
   "source": [
    "Next: I use Metrics that summarise the difference between predicted and actual values which are mean absolute error and mean squared error."
   ]
  },
  {
   "cell_type": "markdown",
   "id": "cb8d34e4",
   "metadata": {},
   "source": [
    "This is very simply the average of the absolute errors:\n",
    "\n",
    "$$MAE = \\frac{1}{n}\\sum_i^n|y_i - \\hat{y}|$$\n",
    "\n",
    "𝑦̂ \n",
    "  are our predicted values for the depended variable"
   ]
  },
  {
   "cell_type": "code",
   "execution_count": 211,
   "id": "55d53980",
   "metadata": {},
   "outputs": [],
   "source": [
    "#Calculate the MAE according to formula above\n",
    "\n",
    "def mae(y, ypred):\n",
    "    \"\"\"Mean absolute error.    \n",
    "    Calculate the mean absolute error of the arguments\n",
    "    Arguments:\n",
    "                  y -- the observed values\n",
    "                  ypred -- the predicted values\n",
    "    \"\"\"\n",
    "    abs_error = np.abs(y - ypred)\n",
    "    mae = np.mean(abs_error)\n",
    "    return mae"
   ]
  },
  {
   "cell_type": "code",
   "execution_count": 212,
   "id": "d048b341",
   "metadata": {},
   "outputs": [
    {
     "data": {
      "text/plain": [
       "347574.7837341418"
      ]
     },
     "execution_count": 212,
     "metadata": {},
     "output_type": "execute_result"
    }
   ],
   "source": [
    "mae(y_train, y_tr_pred)"
   ]
  },
  {
   "cell_type": "code",
   "execution_count": 213,
   "id": "9bb1fe96",
   "metadata": {},
   "outputs": [
    {
     "data": {
      "text/plain": [
       "313711.9215035054"
      ]
     },
     "execution_count": 213,
     "metadata": {},
     "output_type": "execute_result"
    }
   ],
   "source": [
    "mae(y_test, y_te_pred)  "
   ]
  },
  {
   "cell_type": "markdown",
   "id": "acf97eb7",
   "metadata": {},
   "source": [
    "#### the MAE was less when used on test set compared to train set, which is against what was expected.  Test set is unseen so we generally expect Test MAE to be higher as it more difficult to perform well on unseen data.\n",
    " It might happen \"by chance\" that the test set is relatively easier (than the training set) for the model to score higher accuracy hence leading to lower Test MAE. Running 1000 different train/test splits or cross validations would be some exploration methods to further analyze. For now, I continue with sklearn metrics.\n",
    " \n"
   ]
  },
  {
   "cell_type": "markdown",
   "id": "9b9768fc",
   "metadata": {},
   "source": [
    "Mean absolute error is one of the most intuitive of all the metrics, this essentially says that, on average, expect to be off by around $313711 if the guessed Sold_Price was based on an average of known values."
   ]
  },
  {
   "cell_type": "markdown",
   "id": "6fbed13a",
   "metadata": {},
   "source": [
    "### Next metric: Mean Squared Error calculated below as :   \n",
    "\n",
    "$$MSE = \\frac{1}{n}\\sum_i^n(y_i - \\hat{y})^2$$\n",
    "\n",
    "MSE is a common metric (and an important one internally for optimizing machine learning models), this is simply the average of the square of the errors:"
   ]
  },
  {
   "cell_type": "code",
   "execution_count": 214,
   "id": "8f2eb822",
   "metadata": {},
   "outputs": [],
   "source": [
    "# Calculate the MSE according to formula above\n",
    "\n",
    "def mse(y, ypred):\n",
    "    \"\"\"Mean square error.     \n",
    "    Calculate the mean square error of the arguments\n",
    "    Arguments:\n",
    "            y -- the observed values\n",
    "            ypred -- the predicted values\n",
    "    \"\"\"\n",
    "    sq_error = (y - ypred)**2\n",
    "    mse = np.mean(sq_error)\n",
    "    return mse"
   ]
  },
  {
   "cell_type": "code",
   "execution_count": 215,
   "id": "320c9a73",
   "metadata": {},
   "outputs": [
    {
     "data": {
      "text/plain": [
       "407213445225.1448"
      ]
     },
     "execution_count": 215,
     "metadata": {},
     "output_type": "execute_result"
    }
   ],
   "source": [
    "mse(y_train, y_tr_pred)"
   ]
  },
  {
   "cell_type": "code",
   "execution_count": 216,
   "id": "eb45a387",
   "metadata": {},
   "outputs": [
    {
     "data": {
      "text/plain": [
       "306122830945.3079"
      ]
     },
     "execution_count": 216,
     "metadata": {},
     "output_type": "execute_result"
    }
   ],
   "source": [
    "mse(y_test, y_te_pred)"
   ]
  },
  {
   "cell_type": "markdown",
   "id": "6888934f",
   "metadata": {},
   "source": [
    "This result is consistent with the findings of MAE where against expectations, the MSE on test data was less than MSE on train data. Same conclusions apply here"
   ]
  },
  {
   "cell_type": "markdown",
   "id": "8db6129a",
   "metadata": {},
   "source": [
    "To convert this back to the measurement space, take the square root, to form the root mean square error thus:"
   ]
  },
  {
   "cell_type": "code",
   "execution_count": 217,
   "id": "07ef4254",
   "metadata": {},
   "outputs": [
    {
     "data": {
      "text/plain": [
       "array([638132.78024651, 553283.68035331])"
      ]
     },
     "execution_count": 217,
     "metadata": {},
     "output_type": "execute_result"
    }
   ],
   "source": [
    "np.sqrt([mse(y_train, y_tr_pred), mse(y_test, y_te_pred)])"
   ]
  },
  {
   "cell_type": "code",
   "execution_count": null,
   "id": "d0faa851",
   "metadata": {},
   "outputs": [],
   "source": []
  },
  {
   "cell_type": "markdown",
   "id": "b0daf334",
   "metadata": {},
   "source": [
    "### sklearn.metrics: Calculate R-squared and Mean Absolute Error using sklearn.metrics"
   ]
  },
  {
   "cell_type": "code",
   "execution_count": 218,
   "id": "d5154b6e",
   "metadata": {},
   "outputs": [
    {
     "data": {
      "text/plain": [
       "(0.0, -0.0078084421886748245)"
      ]
     },
     "execution_count": 218,
     "metadata": {},
     "output_type": "execute_result"
    }
   ],
   "source": [
    "# R-squared\n",
    "r2_score(y_train, y_tr_pred), r2_score(y_test, y_te_pred)"
   ]
  },
  {
   "cell_type": "code",
   "execution_count": 219,
   "id": "6b25a7c5",
   "metadata": {},
   "outputs": [
    {
     "data": {
      "text/plain": [
       "(347574.7837341418, 313711.9215035054)"
      ]
     },
     "execution_count": 219,
     "metadata": {},
     "output_type": "execute_result"
    }
   ],
   "source": [
    "# Mean absolute error\n",
    "mean_absolute_error(y_train, y_tr_pred), mean_absolute_error(y_test, y_te_pred)"
   ]
  },
  {
   "cell_type": "code",
   "execution_count": 220,
   "id": "c377bea1",
   "metadata": {},
   "outputs": [
    {
     "data": {
      "text/plain": [
       "(407213445225.1448, 306122830945.3079)"
      ]
     },
     "execution_count": 220,
     "metadata": {},
     "output_type": "execute_result"
    }
   ],
   "source": [
    "# Mean Squarred error\n",
    "mean_squared_error(y_train, y_tr_pred), mean_squared_error(y_test, y_te_pred)"
   ]
  },
  {
   "cell_type": "code",
   "execution_count": 221,
   "id": "405202c8",
   "metadata": {},
   "outputs": [
    {
     "data": {
      "text/plain": [
       "0.0"
      ]
     },
     "execution_count": 221,
     "metadata": {},
     "output_type": "execute_result"
    }
   ],
   "source": [
    "# train set - sklearn\n",
    "r2_score(y_train, y_tr_pred)"
   ]
  },
  {
   "cell_type": "code",
   "execution_count": 222,
   "id": "e39cc0f6",
   "metadata": {},
   "outputs": [
    {
     "data": {
      "text/plain": [
       "-0.0078084421886748245"
      ]
     },
     "execution_count": 222,
     "metadata": {},
     "output_type": "execute_result"
    }
   ],
   "source": [
    "# test set - sklearn\n",
    "r2_score(y_test, y_te_pred)"
   ]
  },
  {
   "cell_type": "markdown",
   "id": "55813a84",
   "metadata": {},
   "source": [
    "Conclusion:  The two error metrics MSE and MAE are employed. The MSE is typically larger than MAE, it penalizes larger errors more (because of the squaring operation). On the other hand MAE is more robust to the outliers sinmce it considers absolute differences. Results are conforming with expectations."
   ]
  },
  {
   "cell_type": "markdown",
   "id": "4eea3793",
   "metadata": {},
   "source": [
    "## Initial Models:  \n",
    "### Steps: \n",
    "#### 1)   Scaling, \n",
    "#### 2)    Train the model on the train split\n",
    "#### 3)    Make predictions using the model on both train and test splits\n",
    "#### 4)    Assess model performance"
   ]
  },
  {
   "cell_type": "code",
   "execution_count": 223,
   "id": "efe43c0a",
   "metadata": {},
   "outputs": [],
   "source": [
    "# As I have features measured in many different units, with numbers that vary by orders of magnitude, \n",
    "# I start off by scaling them to put them all on a consistent scale. The StandardScaler scales each feature to zero mean and \n",
    "# unit variance."
   ]
  },
  {
   "cell_type": "markdown",
   "id": "d5436d19",
   "metadata": {},
   "source": [
    "### 1) Scaling"
   ]
  },
  {
   "cell_type": "code",
   "execution_count": 224,
   "id": "03a3f566",
   "metadata": {},
   "outputs": [
    {
     "data": {
      "text/html": [
       "<style>#sk-container-id-12 {color: black;background-color: white;}#sk-container-id-12 pre{padding: 0;}#sk-container-id-12 div.sk-toggleable {background-color: white;}#sk-container-id-12 label.sk-toggleable__label {cursor: pointer;display: block;width: 100%;margin-bottom: 0;padding: 0.3em;box-sizing: border-box;text-align: center;}#sk-container-id-12 label.sk-toggleable__label-arrow:before {content: \"▸\";float: left;margin-right: 0.25em;color: #696969;}#sk-container-id-12 label.sk-toggleable__label-arrow:hover:before {color: black;}#sk-container-id-12 div.sk-estimator:hover label.sk-toggleable__label-arrow:before {color: black;}#sk-container-id-12 div.sk-toggleable__content {max-height: 0;max-width: 0;overflow: hidden;text-align: left;background-color: #f0f8ff;}#sk-container-id-12 div.sk-toggleable__content pre {margin: 0.2em;color: black;border-radius: 0.25em;background-color: #f0f8ff;}#sk-container-id-12 input.sk-toggleable__control:checked~div.sk-toggleable__content {max-height: 200px;max-width: 100%;overflow: auto;}#sk-container-id-12 input.sk-toggleable__control:checked~label.sk-toggleable__label-arrow:before {content: \"▾\";}#sk-container-id-12 div.sk-estimator input.sk-toggleable__control:checked~label.sk-toggleable__label {background-color: #d4ebff;}#sk-container-id-12 div.sk-label input.sk-toggleable__control:checked~label.sk-toggleable__label {background-color: #d4ebff;}#sk-container-id-12 input.sk-hidden--visually {border: 0;clip: rect(1px 1px 1px 1px);clip: rect(1px, 1px, 1px, 1px);height: 1px;margin: -1px;overflow: hidden;padding: 0;position: absolute;width: 1px;}#sk-container-id-12 div.sk-estimator {font-family: monospace;background-color: #f0f8ff;border: 1px dotted black;border-radius: 0.25em;box-sizing: border-box;margin-bottom: 0.5em;}#sk-container-id-12 div.sk-estimator:hover {background-color: #d4ebff;}#sk-container-id-12 div.sk-parallel-item::after {content: \"\";width: 100%;border-bottom: 1px solid gray;flex-grow: 1;}#sk-container-id-12 div.sk-label:hover label.sk-toggleable__label {background-color: #d4ebff;}#sk-container-id-12 div.sk-serial::before {content: \"\";position: absolute;border-left: 1px solid gray;box-sizing: border-box;top: 0;bottom: 0;left: 50%;z-index: 0;}#sk-container-id-12 div.sk-serial {display: flex;flex-direction: column;align-items: center;background-color: white;padding-right: 0.2em;padding-left: 0.2em;position: relative;}#sk-container-id-12 div.sk-item {position: relative;z-index: 1;}#sk-container-id-12 div.sk-parallel {display: flex;align-items: stretch;justify-content: center;background-color: white;position: relative;}#sk-container-id-12 div.sk-item::before, #sk-container-id-12 div.sk-parallel-item::before {content: \"\";position: absolute;border-left: 1px solid gray;box-sizing: border-box;top: 0;bottom: 0;left: 50%;z-index: -1;}#sk-container-id-12 div.sk-parallel-item {display: flex;flex-direction: column;z-index: 1;position: relative;background-color: white;}#sk-container-id-12 div.sk-parallel-item:first-child::after {align-self: flex-end;width: 50%;}#sk-container-id-12 div.sk-parallel-item:last-child::after {align-self: flex-start;width: 50%;}#sk-container-id-12 div.sk-parallel-item:only-child::after {width: 0;}#sk-container-id-12 div.sk-dashed-wrapped {border: 1px dashed gray;margin: 0 0.4em 0.5em 0.4em;box-sizing: border-box;padding-bottom: 0.4em;background-color: white;}#sk-container-id-12 div.sk-label label {font-family: monospace;font-weight: bold;display: inline-block;line-height: 1.2em;}#sk-container-id-12 div.sk-label-container {text-align: center;}#sk-container-id-12 div.sk-container {/* jupyter's `normalize.less` sets `[hidden] { display: none; }` but bootstrap.min.css set `[hidden] { display: none !important; }` so we also need the `!important` here to be able to override the default hidden behavior on the sphinx rendered scikit-learn.org. See: https://github.com/scikit-learn/scikit-learn/issues/21755 */display: inline-block !important;position: relative;}#sk-container-id-12 div.sk-text-repr-fallback {display: none;}</style><div id=\"sk-container-id-12\" class=\"sk-top-container\"><div class=\"sk-text-repr-fallback\"><pre>StandardScaler()</pre><b>In a Jupyter environment, please rerun this cell to show the HTML representation or trust the notebook. <br />On GitHub, the HTML representation is unable to render, please try loading this page with nbviewer.org.</b></div><div class=\"sk-container\" hidden><div class=\"sk-item\"><div class=\"sk-estimator sk-toggleable\"><input class=\"sk-toggleable__control sk-hidden--visually\" id=\"sk-estimator-id-30\" type=\"checkbox\" checked><label for=\"sk-estimator-id-30\" class=\"sk-toggleable__label sk-toggleable__label-arrow\">StandardScaler</label><div class=\"sk-toggleable__content\"><pre>StandardScaler()</pre></div></div></div></div></div>"
      ],
      "text/plain": [
       "StandardScaler()"
      ]
     },
     "execution_count": 224,
     "metadata": {},
     "output_type": "execute_result"
    }
   ],
   "source": [
    "# Call the StandardScaler`s fit method on `X_tr` to fit the scaler\n",
    "# then use it's `transform()` method to apply the scaling to both the train and test split\n",
    "# data (`X_tr` and `X_te`), naming the results `X_tr_scaled` and `X_te_scaled`, respectively\n",
    "scaler = StandardScaler()\n",
    "scaler.fit(X_train)\n",
    "X_tr_scaled = scaler.transform(X_train)\n",
    "X_te_scaled = scaler.transform(X_test)"
   ]
  },
  {
   "cell_type": "markdown",
   "id": "f496269d",
   "metadata": {},
   "source": [
    "### 2) Train the model on the train split"
   ]
  },
  {
   "cell_type": "code",
   "execution_count": 225,
   "id": "2c1b2e4b",
   "metadata": {},
   "outputs": [],
   "source": [
    "lm = LinearRegression().fit(X_tr_scaled, y_train)"
   ]
  },
  {
   "cell_type": "markdown",
   "id": "99b2ca3b",
   "metadata": {},
   "source": [
    "### 3)    Make predictions using the model on both train and test splits"
   ]
  },
  {
   "cell_type": "code",
   "execution_count": 226,
   "id": "76733aa7",
   "metadata": {},
   "outputs": [],
   "source": [
    "#Call the `predict()` method of the model (`lm`) on both the (scaled) train and test data\n",
    "#Assign the predictions to `y_tr_pred` and `y_te_pred`, respectively\n",
    "y_tr_pred = lm.predict(X_tr_scaled)\n",
    "y_te_pred = lm.predict(X_te_scaled)"
   ]
  },
  {
   "cell_type": "code",
   "execution_count": null,
   "id": "84511fe7",
   "metadata": {},
   "outputs": [],
   "source": []
  },
  {
   "cell_type": "markdown",
   "id": "c18e3ba1",
   "metadata": {},
   "source": [
    "### 4)    Assess model performance"
   ]
  },
  {
   "cell_type": "code",
   "execution_count": 227,
   "id": "f85d9c8f",
   "metadata": {},
   "outputs": [
    {
     "data": {
      "text/plain": [
       "(0.6787422518557924, 0.6207670233554294)"
      ]
     },
     "execution_count": 227,
     "metadata": {},
     "output_type": "execute_result"
    }
   ],
   "source": [
    "# r^2 - train, test\n",
    "result_r2 = r2_score(y_train, y_tr_pred), r2_score(y_test, y_te_pred)\n",
    "result_r2"
   ]
  },
  {
   "cell_type": "code",
   "execution_count": 228,
   "id": "bddc9fa3",
   "metadata": {},
   "outputs": [
    {
     "data": {
      "text/plain": [
       "(215710.04181268523, 193058.28533539004)"
      ]
     },
     "execution_count": 228,
     "metadata": {},
     "output_type": "execute_result"
    }
   ],
   "source": [
    "# calculate the mean absolute error scores using `sklearn`'s `mean_absolute_error` function\n",
    "# as I did above for R^2\n",
    "# MAE - train, test\n",
    "result_mae = mean_absolute_error(y_train, y_tr_pred), mean_absolute_error(y_test, y_te_pred)\n",
    "result_mae"
   ]
  },
  {
   "cell_type": "code",
   "execution_count": 229,
   "id": "c8c98116",
   "metadata": {},
   "outputs": [
    {
     "data": {
      "text/plain": [
       "(130820474427.07462, 115192399208.45775)"
      ]
     },
     "execution_count": 229,
     "metadata": {},
     "output_type": "execute_result"
    }
   ],
   "source": [
    "#And also I do the same using `sklearn`'s `mean_squared_error`\n",
    "# MSE - train, test\n",
    "result_mse = mean_squared_error(y_train, y_tr_pred), mean_squared_error(y_test, y_te_pred)\n",
    "result_mse"
   ]
  },
  {
   "cell_type": "markdown",
   "id": "21cedcea",
   "metadata": {},
   "source": [
    "### Pipelines"
   ]
  },
  {
   "cell_type": "code",
   "execution_count": 267,
   "id": "ab5c97f7",
   "metadata": {},
   "outputs": [],
   "source": [
    "#Code task 17#\n",
    "#Modify the `SelectKBest` step to use a value of 5 for k\n",
    "pipe5 = make_pipeline( \n",
    "    StandardScaler(),\n",
    "    SelectKBest(f_regression, k=5),\n",
    "    LinearRegression()\n",
    ")"
   ]
  },
  {
   "cell_type": "code",
   "execution_count": 268,
   "id": "d311cce1",
   "metadata": {},
   "outputs": [
    {
     "data": {
      "text/plain": [
       "sklearn.pipeline.Pipeline"
      ]
     },
     "execution_count": 268,
     "metadata": {},
     "output_type": "execute_result"
    }
   ],
   "source": [
    "type(pipe5)"
   ]
  },
  {
   "cell_type": "code",
   "execution_count": 269,
   "id": "1bc0f220",
   "metadata": {},
   "outputs": [
    {
     "data": {
      "text/plain": [
       "(True, True)"
      ]
     },
     "execution_count": 269,
     "metadata": {},
     "output_type": "execute_result"
    }
   ],
   "source": [
    "hasattr(pipe5, 'fit'), hasattr(pipe5, 'predict')"
   ]
  },
  {
   "cell_type": "code",
   "execution_count": 270,
   "id": "35e18115",
   "metadata": {},
   "outputs": [
    {
     "data": {
      "text/html": [
       "<div>\n",
       "<style scoped>\n",
       "    .dataframe tbody tr th:only-of-type {\n",
       "        vertical-align: middle;\n",
       "    }\n",
       "\n",
       "    .dataframe tbody tr th {\n",
       "        vertical-align: top;\n",
       "    }\n",
       "\n",
       "    .dataframe thead th {\n",
       "        text-align: right;\n",
       "    }\n",
       "</style>\n",
       "<table border=\"1\" class=\"dataframe\">\n",
       "  <thead>\n",
       "    <tr style=\"text-align: right;\">\n",
       "      <th></th>\n",
       "      <th>Unnamed: 0</th>\n",
       "      <th>Zip_Code</th>\n",
       "      <th>Nr_Bedrooms</th>\n",
       "      <th>Nr_Bathrooms</th>\n",
       "      <th>Approx_SQFT</th>\n",
       "      <th>Year_Built</th>\n",
       "      <th>Approx_Lot_SqFt</th>\n",
       "      <th>HOA_Fee</th>\n",
       "      <th>Garage_Spaces</th>\n",
       "      <th>Carport_Spaces</th>\n",
       "      <th>HOA_Missing</th>\n",
       "      <th>Buyer_Concession</th>\n",
       "      <th>Seller_Concession</th>\n",
       "      <th>Type_AF</th>\n",
       "      <th>Type_GT</th>\n",
       "      <th>Type_LS</th>\n",
       "      <th>Type_MD</th>\n",
       "      <th>Type_MM</th>\n",
       "      <th>Type_PH</th>\n",
       "      <th>Type_SF</th>\n",
       "      <th>Type_TH</th>\n",
       "      <th>Style_Attached</th>\n",
       "      <th>Style_Detached</th>\n",
       "      <th>Style_Stacked</th>\n",
       "      <th>Pool_Both</th>\n",
       "      <th>Pool_Community</th>\n",
       "      <th>Pool_Private</th>\n",
       "      <th>Pool_no_pool</th>\n",
       "      <th>Land_N</th>\n",
       "      <th>Land_Y</th>\n",
       "      <th>Club_No</th>\n",
       "      <th>Club_Yes</th>\n",
       "      <th>Base_N</th>\n",
       "      <th>Base_Y</th>\n",
       "      <th>RV_Gate_No</th>\n",
       "      <th>RV_Gate_Yes</th>\n",
       "      <th>Bldg_style_2-3-4 Plex</th>\n",
       "      <th>Bldg_style_2-3-4 Plex · Clustered</th>\n",
       "      <th>Bldg_style_Clustered</th>\n",
       "      <th>Bldg_style_Clustered · High Rise</th>\n",
       "      <th>Bldg_style_High Rise</th>\n",
       "      <th>Bldg_style_Missing</th>\n",
       "      <th>Bldg_style_String</th>\n",
       "      <th>Gated_No</th>\n",
       "      <th>Gated_Yes</th>\n",
       "      <th>Fittness_No</th>\n",
       "      <th>Fittness_Yes</th>\n",
       "      <th>Loan_Carryback</th>\n",
       "      <th>Loan_Cash</th>\n",
       "      <th>Loan_Cash to Loan</th>\n",
       "      <th>Loan_Conventional</th>\n",
       "      <th>Loan_Exchange</th>\n",
       "      <th>Loan_FHA</th>\n",
       "      <th>Loan_Other</th>\n",
       "      <th>Loan_USDA</th>\n",
       "      <th>Loan_VA</th>\n",
       "      <th>Payment_Adjustable</th>\n",
       "      <th>Payment_Balloon</th>\n",
       "      <th>Payment_Fixed</th>\n",
       "      <th>Payment_Graduated</th>\n",
       "      <th>Payment_Interest Only</th>\n",
       "      <th>Payment_Missing</th>\n",
       "      <th>Payment_Other</th>\n",
       "    </tr>\n",
       "  </thead>\n",
       "  <tbody>\n",
       "    <tr>\n",
       "      <th>count</th>\n",
       "      <td>2181.000000</td>\n",
       "      <td>2181.000000</td>\n",
       "      <td>2181.000000</td>\n",
       "      <td>2181.000000</td>\n",
       "      <td>2181.000000</td>\n",
       "      <td>2181.000000</td>\n",
       "      <td>2.181000e+03</td>\n",
       "      <td>2181.000000</td>\n",
       "      <td>2181.000000</td>\n",
       "      <td>2181.000000</td>\n",
       "      <td>2181.000000</td>\n",
       "      <td>2181.000000</td>\n",
       "      <td>2181.000000</td>\n",
       "      <td>2181.000000</td>\n",
       "      <td>2181.000000</td>\n",
       "      <td>2181.000000</td>\n",
       "      <td>2181.000000</td>\n",
       "      <td>2181.000000</td>\n",
       "      <td>2181.000000</td>\n",
       "      <td>2181.000000</td>\n",
       "      <td>2181.000000</td>\n",
       "      <td>2181.000000</td>\n",
       "      <td>2181.000000</td>\n",
       "      <td>2181.000000</td>\n",
       "      <td>2181.000000</td>\n",
       "      <td>2181.000000</td>\n",
       "      <td>2181.000000</td>\n",
       "      <td>2181.000000</td>\n",
       "      <td>2181.000000</td>\n",
       "      <td>2181.000000</td>\n",
       "      <td>2181.000000</td>\n",
       "      <td>2181.000000</td>\n",
       "      <td>2181.000000</td>\n",
       "      <td>2181.000000</td>\n",
       "      <td>2181.000000</td>\n",
       "      <td>2181.000000</td>\n",
       "      <td>2181.000000</td>\n",
       "      <td>2181.000000</td>\n",
       "      <td>2181.000000</td>\n",
       "      <td>2181.000000</td>\n",
       "      <td>2181.000000</td>\n",
       "      <td>2181.000000</td>\n",
       "      <td>2181.000000</td>\n",
       "      <td>2181.000000</td>\n",
       "      <td>2181.000000</td>\n",
       "      <td>2181.000000</td>\n",
       "      <td>2181.000000</td>\n",
       "      <td>2181.000000</td>\n",
       "      <td>2181.000000</td>\n",
       "      <td>2181.000000</td>\n",
       "      <td>2181.00000</td>\n",
       "      <td>2181.000000</td>\n",
       "      <td>2181.000000</td>\n",
       "      <td>2181.000000</td>\n",
       "      <td>2181.000000</td>\n",
       "      <td>2181.000000</td>\n",
       "      <td>2181.000000</td>\n",
       "      <td>2181.000000</td>\n",
       "      <td>2181.000000</td>\n",
       "      <td>2181.000000</td>\n",
       "      <td>2181.000000</td>\n",
       "      <td>2181.000000</td>\n",
       "      <td>2181.000000</td>\n",
       "    </tr>\n",
       "    <tr>\n",
       "      <th>mean</th>\n",
       "      <td>1573.140303</td>\n",
       "      <td>85171.525447</td>\n",
       "      <td>3.138010</td>\n",
       "      <td>2.341243</td>\n",
       "      <td>1973.842733</td>\n",
       "      <td>1993.134342</td>\n",
       "      <td>3.583340e+04</td>\n",
       "      <td>225.855488</td>\n",
       "      <td>1.732004</td>\n",
       "      <td>0.322788</td>\n",
       "      <td>0.294819</td>\n",
       "      <td>157.860844</td>\n",
       "      <td>4008.011667</td>\n",
       "      <td>0.070610</td>\n",
       "      <td>0.001376</td>\n",
       "      <td>0.000917</td>\n",
       "      <td>0.000459</td>\n",
       "      <td>0.058230</td>\n",
       "      <td>0.016506</td>\n",
       "      <td>0.745071</td>\n",
       "      <td>0.106832</td>\n",
       "      <td>0.138927</td>\n",
       "      <td>0.807428</td>\n",
       "      <td>0.053645</td>\n",
       "      <td>0.053645</td>\n",
       "      <td>0.370931</td>\n",
       "      <td>0.230628</td>\n",
       "      <td>0.344796</td>\n",
       "      <td>0.968363</td>\n",
       "      <td>0.031637</td>\n",
       "      <td>0.721229</td>\n",
       "      <td>0.278771</td>\n",
       "      <td>0.987620</td>\n",
       "      <td>0.012380</td>\n",
       "      <td>0.839065</td>\n",
       "      <td>0.160935</td>\n",
       "      <td>0.017423</td>\n",
       "      <td>0.000459</td>\n",
       "      <td>0.021550</td>\n",
       "      <td>0.000459</td>\n",
       "      <td>0.011004</td>\n",
       "      <td>0.929849</td>\n",
       "      <td>0.019257</td>\n",
       "      <td>0.777166</td>\n",
       "      <td>0.222834</td>\n",
       "      <td>0.803760</td>\n",
       "      <td>0.196240</td>\n",
       "      <td>0.004585</td>\n",
       "      <td>0.283356</td>\n",
       "      <td>0.000459</td>\n",
       "      <td>0.47868</td>\n",
       "      <td>0.001834</td>\n",
       "      <td>0.129757</td>\n",
       "      <td>0.059606</td>\n",
       "      <td>0.000459</td>\n",
       "      <td>0.041265</td>\n",
       "      <td>0.005502</td>\n",
       "      <td>0.004127</td>\n",
       "      <td>0.524989</td>\n",
       "      <td>0.000459</td>\n",
       "      <td>0.000917</td>\n",
       "      <td>0.304448</td>\n",
       "      <td>0.159560</td>\n",
       "    </tr>\n",
       "    <tr>\n",
       "      <th>std</th>\n",
       "      <td>891.280575</td>\n",
       "      <td>113.077119</td>\n",
       "      <td>0.978545</td>\n",
       "      <td>0.808631</td>\n",
       "      <td>952.506808</td>\n",
       "      <td>19.857585</td>\n",
       "      <td>1.194884e+06</td>\n",
       "      <td>423.660600</td>\n",
       "      <td>1.274054</td>\n",
       "      <td>0.676695</td>\n",
       "      <td>0.456066</td>\n",
       "      <td>1799.396340</td>\n",
       "      <td>6524.291861</td>\n",
       "      <td>0.256231</td>\n",
       "      <td>0.037071</td>\n",
       "      <td>0.030275</td>\n",
       "      <td>0.021413</td>\n",
       "      <td>0.234232</td>\n",
       "      <td>0.127441</td>\n",
       "      <td>0.435921</td>\n",
       "      <td>0.308970</td>\n",
       "      <td>0.345950</td>\n",
       "      <td>0.394410</td>\n",
       "      <td>0.225368</td>\n",
       "      <td>0.225368</td>\n",
       "      <td>0.483165</td>\n",
       "      <td>0.421331</td>\n",
       "      <td>0.475411</td>\n",
       "      <td>0.175071</td>\n",
       "      <td>0.175071</td>\n",
       "      <td>0.448498</td>\n",
       "      <td>0.448498</td>\n",
       "      <td>0.110598</td>\n",
       "      <td>0.110598</td>\n",
       "      <td>0.367556</td>\n",
       "      <td>0.367556</td>\n",
       "      <td>0.130872</td>\n",
       "      <td>0.021413</td>\n",
       "      <td>0.145241</td>\n",
       "      <td>0.021413</td>\n",
       "      <td>0.104346</td>\n",
       "      <td>0.255460</td>\n",
       "      <td>0.137459</td>\n",
       "      <td>0.416243</td>\n",
       "      <td>0.416243</td>\n",
       "      <td>0.397243</td>\n",
       "      <td>0.397243</td>\n",
       "      <td>0.067573</td>\n",
       "      <td>0.450731</td>\n",
       "      <td>0.021413</td>\n",
       "      <td>0.49966</td>\n",
       "      <td>0.042796</td>\n",
       "      <td>0.336113</td>\n",
       "      <td>0.236809</td>\n",
       "      <td>0.021413</td>\n",
       "      <td>0.198949</td>\n",
       "      <td>0.073989</td>\n",
       "      <td>0.064120</td>\n",
       "      <td>0.499490</td>\n",
       "      <td>0.021413</td>\n",
       "      <td>0.030275</td>\n",
       "      <td>0.460279</td>\n",
       "      <td>0.366281</td>\n",
       "    </tr>\n",
       "    <tr>\n",
       "      <th>min</th>\n",
       "      <td>3.000000</td>\n",
       "      <td>85003.000000</td>\n",
       "      <td>1.000000</td>\n",
       "      <td>1.000000</td>\n",
       "      <td>397.000000</td>\n",
       "      <td>1911.000000</td>\n",
       "      <td>0.000000e+00</td>\n",
       "      <td>0.000000</td>\n",
       "      <td>0.000000</td>\n",
       "      <td>0.000000</td>\n",
       "      <td>0.000000</td>\n",
       "      <td>0.000000</td>\n",
       "      <td>0.000000</td>\n",
       "      <td>0.000000</td>\n",
       "      <td>0.000000</td>\n",
       "      <td>0.000000</td>\n",
       "      <td>0.000000</td>\n",
       "      <td>0.000000</td>\n",
       "      <td>0.000000</td>\n",
       "      <td>0.000000</td>\n",
       "      <td>0.000000</td>\n",
       "      <td>0.000000</td>\n",
       "      <td>0.000000</td>\n",
       "      <td>0.000000</td>\n",
       "      <td>0.000000</td>\n",
       "      <td>0.000000</td>\n",
       "      <td>0.000000</td>\n",
       "      <td>0.000000</td>\n",
       "      <td>0.000000</td>\n",
       "      <td>0.000000</td>\n",
       "      <td>0.000000</td>\n",
       "      <td>0.000000</td>\n",
       "      <td>0.000000</td>\n",
       "      <td>0.000000</td>\n",
       "      <td>0.000000</td>\n",
       "      <td>0.000000</td>\n",
       "      <td>0.000000</td>\n",
       "      <td>0.000000</td>\n",
       "      <td>0.000000</td>\n",
       "      <td>0.000000</td>\n",
       "      <td>0.000000</td>\n",
       "      <td>0.000000</td>\n",
       "      <td>0.000000</td>\n",
       "      <td>0.000000</td>\n",
       "      <td>0.000000</td>\n",
       "      <td>0.000000</td>\n",
       "      <td>0.000000</td>\n",
       "      <td>0.000000</td>\n",
       "      <td>0.000000</td>\n",
       "      <td>0.000000</td>\n",
       "      <td>0.00000</td>\n",
       "      <td>0.000000</td>\n",
       "      <td>0.000000</td>\n",
       "      <td>0.000000</td>\n",
       "      <td>0.000000</td>\n",
       "      <td>0.000000</td>\n",
       "      <td>0.000000</td>\n",
       "      <td>0.000000</td>\n",
       "      <td>0.000000</td>\n",
       "      <td>0.000000</td>\n",
       "      <td>0.000000</td>\n",
       "      <td>0.000000</td>\n",
       "      <td>0.000000</td>\n",
       "    </tr>\n",
       "    <tr>\n",
       "      <th>25%</th>\n",
       "      <td>814.000000</td>\n",
       "      <td>85044.000000</td>\n",
       "      <td>2.000000</td>\n",
       "      <td>2.000000</td>\n",
       "      <td>1335.000000</td>\n",
       "      <td>1980.000000</td>\n",
       "      <td>4.156000e+03</td>\n",
       "      <td>0.000000</td>\n",
       "      <td>1.000000</td>\n",
       "      <td>0.000000</td>\n",
       "      <td>0.000000</td>\n",
       "      <td>0.000000</td>\n",
       "      <td>0.000000</td>\n",
       "      <td>0.000000</td>\n",
       "      <td>0.000000</td>\n",
       "      <td>0.000000</td>\n",
       "      <td>0.000000</td>\n",
       "      <td>0.000000</td>\n",
       "      <td>0.000000</td>\n",
       "      <td>0.000000</td>\n",
       "      <td>0.000000</td>\n",
       "      <td>0.000000</td>\n",
       "      <td>1.000000</td>\n",
       "      <td>0.000000</td>\n",
       "      <td>0.000000</td>\n",
       "      <td>0.000000</td>\n",
       "      <td>0.000000</td>\n",
       "      <td>0.000000</td>\n",
       "      <td>1.000000</td>\n",
       "      <td>0.000000</td>\n",
       "      <td>0.000000</td>\n",
       "      <td>0.000000</td>\n",
       "      <td>1.000000</td>\n",
       "      <td>0.000000</td>\n",
       "      <td>1.000000</td>\n",
       "      <td>0.000000</td>\n",
       "      <td>0.000000</td>\n",
       "      <td>0.000000</td>\n",
       "      <td>0.000000</td>\n",
       "      <td>0.000000</td>\n",
       "      <td>0.000000</td>\n",
       "      <td>1.000000</td>\n",
       "      <td>0.000000</td>\n",
       "      <td>1.000000</td>\n",
       "      <td>0.000000</td>\n",
       "      <td>1.000000</td>\n",
       "      <td>0.000000</td>\n",
       "      <td>0.000000</td>\n",
       "      <td>0.000000</td>\n",
       "      <td>0.000000</td>\n",
       "      <td>0.00000</td>\n",
       "      <td>0.000000</td>\n",
       "      <td>0.000000</td>\n",
       "      <td>0.000000</td>\n",
       "      <td>0.000000</td>\n",
       "      <td>0.000000</td>\n",
       "      <td>0.000000</td>\n",
       "      <td>0.000000</td>\n",
       "      <td>0.000000</td>\n",
       "      <td>0.000000</td>\n",
       "      <td>0.000000</td>\n",
       "      <td>0.000000</td>\n",
       "      <td>0.000000</td>\n",
       "    </tr>\n",
       "    <tr>\n",
       "      <th>50%</th>\n",
       "      <td>1580.000000</td>\n",
       "      <td>85207.000000</td>\n",
       "      <td>3.000000</td>\n",
       "      <td>2.000000</td>\n",
       "      <td>1790.000000</td>\n",
       "      <td>1995.000000</td>\n",
       "      <td>6.708000e+03</td>\n",
       "      <td>121.000000</td>\n",
       "      <td>2.000000</td>\n",
       "      <td>0.000000</td>\n",
       "      <td>0.000000</td>\n",
       "      <td>0.000000</td>\n",
       "      <td>0.000000</td>\n",
       "      <td>0.000000</td>\n",
       "      <td>0.000000</td>\n",
       "      <td>0.000000</td>\n",
       "      <td>0.000000</td>\n",
       "      <td>0.000000</td>\n",
       "      <td>0.000000</td>\n",
       "      <td>1.000000</td>\n",
       "      <td>0.000000</td>\n",
       "      <td>0.000000</td>\n",
       "      <td>1.000000</td>\n",
       "      <td>0.000000</td>\n",
       "      <td>0.000000</td>\n",
       "      <td>0.000000</td>\n",
       "      <td>0.000000</td>\n",
       "      <td>0.000000</td>\n",
       "      <td>1.000000</td>\n",
       "      <td>0.000000</td>\n",
       "      <td>1.000000</td>\n",
       "      <td>0.000000</td>\n",
       "      <td>1.000000</td>\n",
       "      <td>0.000000</td>\n",
       "      <td>1.000000</td>\n",
       "      <td>0.000000</td>\n",
       "      <td>0.000000</td>\n",
       "      <td>0.000000</td>\n",
       "      <td>0.000000</td>\n",
       "      <td>0.000000</td>\n",
       "      <td>0.000000</td>\n",
       "      <td>1.000000</td>\n",
       "      <td>0.000000</td>\n",
       "      <td>1.000000</td>\n",
       "      <td>0.000000</td>\n",
       "      <td>1.000000</td>\n",
       "      <td>0.000000</td>\n",
       "      <td>0.000000</td>\n",
       "      <td>0.000000</td>\n",
       "      <td>0.000000</td>\n",
       "      <td>0.00000</td>\n",
       "      <td>0.000000</td>\n",
       "      <td>0.000000</td>\n",
       "      <td>0.000000</td>\n",
       "      <td>0.000000</td>\n",
       "      <td>0.000000</td>\n",
       "      <td>0.000000</td>\n",
       "      <td>0.000000</td>\n",
       "      <td>1.000000</td>\n",
       "      <td>0.000000</td>\n",
       "      <td>0.000000</td>\n",
       "      <td>0.000000</td>\n",
       "      <td>0.000000</td>\n",
       "    </tr>\n",
       "    <tr>\n",
       "      <th>75%</th>\n",
       "      <td>2333.000000</td>\n",
       "      <td>85254.000000</td>\n",
       "      <td>4.000000</td>\n",
       "      <td>2.500000</td>\n",
       "      <td>2343.000000</td>\n",
       "      <td>2006.000000</td>\n",
       "      <td>9.235000e+03</td>\n",
       "      <td>275.000000</td>\n",
       "      <td>2.000000</td>\n",
       "      <td>0.000000</td>\n",
       "      <td>1.000000</td>\n",
       "      <td>0.000000</td>\n",
       "      <td>7187.500000</td>\n",
       "      <td>0.000000</td>\n",
       "      <td>0.000000</td>\n",
       "      <td>0.000000</td>\n",
       "      <td>0.000000</td>\n",
       "      <td>0.000000</td>\n",
       "      <td>0.000000</td>\n",
       "      <td>1.000000</td>\n",
       "      <td>0.000000</td>\n",
       "      <td>0.000000</td>\n",
       "      <td>1.000000</td>\n",
       "      <td>0.000000</td>\n",
       "      <td>0.000000</td>\n",
       "      <td>1.000000</td>\n",
       "      <td>0.000000</td>\n",
       "      <td>1.000000</td>\n",
       "      <td>1.000000</td>\n",
       "      <td>0.000000</td>\n",
       "      <td>1.000000</td>\n",
       "      <td>1.000000</td>\n",
       "      <td>1.000000</td>\n",
       "      <td>0.000000</td>\n",
       "      <td>1.000000</td>\n",
       "      <td>0.000000</td>\n",
       "      <td>0.000000</td>\n",
       "      <td>0.000000</td>\n",
       "      <td>0.000000</td>\n",
       "      <td>0.000000</td>\n",
       "      <td>0.000000</td>\n",
       "      <td>1.000000</td>\n",
       "      <td>0.000000</td>\n",
       "      <td>1.000000</td>\n",
       "      <td>0.000000</td>\n",
       "      <td>1.000000</td>\n",
       "      <td>0.000000</td>\n",
       "      <td>0.000000</td>\n",
       "      <td>1.000000</td>\n",
       "      <td>0.000000</td>\n",
       "      <td>1.00000</td>\n",
       "      <td>0.000000</td>\n",
       "      <td>0.000000</td>\n",
       "      <td>0.000000</td>\n",
       "      <td>0.000000</td>\n",
       "      <td>0.000000</td>\n",
       "      <td>0.000000</td>\n",
       "      <td>0.000000</td>\n",
       "      <td>1.000000</td>\n",
       "      <td>0.000000</td>\n",
       "      <td>0.000000</td>\n",
       "      <td>1.000000</td>\n",
       "      <td>0.000000</td>\n",
       "    </tr>\n",
       "    <tr>\n",
       "      <th>max</th>\n",
       "      <td>3115.000000</td>\n",
       "      <td>85396.000000</td>\n",
       "      <td>7.000000</td>\n",
       "      <td>7.000000</td>\n",
       "      <td>8151.000000</td>\n",
       "      <td>2024.000000</td>\n",
       "      <td>5.580036e+07</td>\n",
       "      <td>9102.000000</td>\n",
       "      <td>18.000000</td>\n",
       "      <td>6.000000</td>\n",
       "      <td>1.000000</td>\n",
       "      <td>50250.000000</td>\n",
       "      <td>57000.000000</td>\n",
       "      <td>1.000000</td>\n",
       "      <td>1.000000</td>\n",
       "      <td>1.000000</td>\n",
       "      <td>1.000000</td>\n",
       "      <td>1.000000</td>\n",
       "      <td>1.000000</td>\n",
       "      <td>1.000000</td>\n",
       "      <td>1.000000</td>\n",
       "      <td>1.000000</td>\n",
       "      <td>1.000000</td>\n",
       "      <td>1.000000</td>\n",
       "      <td>1.000000</td>\n",
       "      <td>1.000000</td>\n",
       "      <td>1.000000</td>\n",
       "      <td>1.000000</td>\n",
       "      <td>1.000000</td>\n",
       "      <td>1.000000</td>\n",
       "      <td>1.000000</td>\n",
       "      <td>1.000000</td>\n",
       "      <td>1.000000</td>\n",
       "      <td>1.000000</td>\n",
       "      <td>1.000000</td>\n",
       "      <td>1.000000</td>\n",
       "      <td>1.000000</td>\n",
       "      <td>1.000000</td>\n",
       "      <td>1.000000</td>\n",
       "      <td>1.000000</td>\n",
       "      <td>1.000000</td>\n",
       "      <td>1.000000</td>\n",
       "      <td>1.000000</td>\n",
       "      <td>1.000000</td>\n",
       "      <td>1.000000</td>\n",
       "      <td>1.000000</td>\n",
       "      <td>1.000000</td>\n",
       "      <td>1.000000</td>\n",
       "      <td>1.000000</td>\n",
       "      <td>1.000000</td>\n",
       "      <td>1.00000</td>\n",
       "      <td>1.000000</td>\n",
       "      <td>1.000000</td>\n",
       "      <td>1.000000</td>\n",
       "      <td>1.000000</td>\n",
       "      <td>1.000000</td>\n",
       "      <td>1.000000</td>\n",
       "      <td>1.000000</td>\n",
       "      <td>1.000000</td>\n",
       "      <td>1.000000</td>\n",
       "      <td>1.000000</td>\n",
       "      <td>1.000000</td>\n",
       "      <td>1.000000</td>\n",
       "    </tr>\n",
       "  </tbody>\n",
       "</table>\n",
       "</div>"
      ],
      "text/plain": [
       "        Unnamed: 0      Zip_Code  Nr_Bedrooms  Nr_Bathrooms  Approx_SQFT  \\\n",
       "count  2181.000000   2181.000000  2181.000000   2181.000000  2181.000000   \n",
       "mean   1573.140303  85171.525447     3.138010      2.341243  1973.842733   \n",
       "std     891.280575    113.077119     0.978545      0.808631   952.506808   \n",
       "min       3.000000  85003.000000     1.000000      1.000000   397.000000   \n",
       "25%     814.000000  85044.000000     2.000000      2.000000  1335.000000   \n",
       "50%    1580.000000  85207.000000     3.000000      2.000000  1790.000000   \n",
       "75%    2333.000000  85254.000000     4.000000      2.500000  2343.000000   \n",
       "max    3115.000000  85396.000000     7.000000      7.000000  8151.000000   \n",
       "\n",
       "        Year_Built  Approx_Lot_SqFt      HOA_Fee  Garage_Spaces  \\\n",
       "count  2181.000000     2.181000e+03  2181.000000    2181.000000   \n",
       "mean   1993.134342     3.583340e+04   225.855488       1.732004   \n",
       "std      19.857585     1.194884e+06   423.660600       1.274054   \n",
       "min    1911.000000     0.000000e+00     0.000000       0.000000   \n",
       "25%    1980.000000     4.156000e+03     0.000000       1.000000   \n",
       "50%    1995.000000     6.708000e+03   121.000000       2.000000   \n",
       "75%    2006.000000     9.235000e+03   275.000000       2.000000   \n",
       "max    2024.000000     5.580036e+07  9102.000000      18.000000   \n",
       "\n",
       "       Carport_Spaces  HOA_Missing  Buyer_Concession  Seller_Concession  \\\n",
       "count     2181.000000  2181.000000       2181.000000        2181.000000   \n",
       "mean         0.322788     0.294819        157.860844        4008.011667   \n",
       "std          0.676695     0.456066       1799.396340        6524.291861   \n",
       "min          0.000000     0.000000          0.000000           0.000000   \n",
       "25%          0.000000     0.000000          0.000000           0.000000   \n",
       "50%          0.000000     0.000000          0.000000           0.000000   \n",
       "75%          0.000000     1.000000          0.000000        7187.500000   \n",
       "max          6.000000     1.000000      50250.000000       57000.000000   \n",
       "\n",
       "           Type_AF      Type_GT      Type_LS      Type_MD      Type_MM  \\\n",
       "count  2181.000000  2181.000000  2181.000000  2181.000000  2181.000000   \n",
       "mean      0.070610     0.001376     0.000917     0.000459     0.058230   \n",
       "std       0.256231     0.037071     0.030275     0.021413     0.234232   \n",
       "min       0.000000     0.000000     0.000000     0.000000     0.000000   \n",
       "25%       0.000000     0.000000     0.000000     0.000000     0.000000   \n",
       "50%       0.000000     0.000000     0.000000     0.000000     0.000000   \n",
       "75%       0.000000     0.000000     0.000000     0.000000     0.000000   \n",
       "max       1.000000     1.000000     1.000000     1.000000     1.000000   \n",
       "\n",
       "           Type_PH      Type_SF      Type_TH  Style_Attached  Style_Detached  \\\n",
       "count  2181.000000  2181.000000  2181.000000     2181.000000     2181.000000   \n",
       "mean      0.016506     0.745071     0.106832        0.138927        0.807428   \n",
       "std       0.127441     0.435921     0.308970        0.345950        0.394410   \n",
       "min       0.000000     0.000000     0.000000        0.000000        0.000000   \n",
       "25%       0.000000     0.000000     0.000000        0.000000        1.000000   \n",
       "50%       0.000000     1.000000     0.000000        0.000000        1.000000   \n",
       "75%       0.000000     1.000000     0.000000        0.000000        1.000000   \n",
       "max       1.000000     1.000000     1.000000        1.000000        1.000000   \n",
       "\n",
       "       Style_Stacked    Pool_Both  Pool_Community  Pool_Private  Pool_no_pool  \\\n",
       "count    2181.000000  2181.000000     2181.000000   2181.000000   2181.000000   \n",
       "mean        0.053645     0.053645        0.370931      0.230628      0.344796   \n",
       "std         0.225368     0.225368        0.483165      0.421331      0.475411   \n",
       "min         0.000000     0.000000        0.000000      0.000000      0.000000   \n",
       "25%         0.000000     0.000000        0.000000      0.000000      0.000000   \n",
       "50%         0.000000     0.000000        0.000000      0.000000      0.000000   \n",
       "75%         0.000000     0.000000        1.000000      0.000000      1.000000   \n",
       "max         1.000000     1.000000        1.000000      1.000000      1.000000   \n",
       "\n",
       "            Land_N       Land_Y      Club_No     Club_Yes       Base_N  \\\n",
       "count  2181.000000  2181.000000  2181.000000  2181.000000  2181.000000   \n",
       "mean      0.968363     0.031637     0.721229     0.278771     0.987620   \n",
       "std       0.175071     0.175071     0.448498     0.448498     0.110598   \n",
       "min       0.000000     0.000000     0.000000     0.000000     0.000000   \n",
       "25%       1.000000     0.000000     0.000000     0.000000     1.000000   \n",
       "50%       1.000000     0.000000     1.000000     0.000000     1.000000   \n",
       "75%       1.000000     0.000000     1.000000     1.000000     1.000000   \n",
       "max       1.000000     1.000000     1.000000     1.000000     1.000000   \n",
       "\n",
       "            Base_Y   RV_Gate_No  RV_Gate_Yes  Bldg_style_2-3-4 Plex  \\\n",
       "count  2181.000000  2181.000000  2181.000000            2181.000000   \n",
       "mean      0.012380     0.839065     0.160935               0.017423   \n",
       "std       0.110598     0.367556     0.367556               0.130872   \n",
       "min       0.000000     0.000000     0.000000               0.000000   \n",
       "25%       0.000000     1.000000     0.000000               0.000000   \n",
       "50%       0.000000     1.000000     0.000000               0.000000   \n",
       "75%       0.000000     1.000000     0.000000               0.000000   \n",
       "max       1.000000     1.000000     1.000000               1.000000   \n",
       "\n",
       "       Bldg_style_2-3-4 Plex · Clustered  Bldg_style_Clustered  \\\n",
       "count                        2181.000000           2181.000000   \n",
       "mean                            0.000459              0.021550   \n",
       "std                             0.021413              0.145241   \n",
       "min                             0.000000              0.000000   \n",
       "25%                             0.000000              0.000000   \n",
       "50%                             0.000000              0.000000   \n",
       "75%                             0.000000              0.000000   \n",
       "max                             1.000000              1.000000   \n",
       "\n",
       "       Bldg_style_Clustered · High Rise  Bldg_style_High Rise  \\\n",
       "count                       2181.000000           2181.000000   \n",
       "mean                           0.000459              0.011004   \n",
       "std                            0.021413              0.104346   \n",
       "min                            0.000000              0.000000   \n",
       "25%                            0.000000              0.000000   \n",
       "50%                            0.000000              0.000000   \n",
       "75%                            0.000000              0.000000   \n",
       "max                            1.000000              1.000000   \n",
       "\n",
       "       Bldg_style_Missing  Bldg_style_String     Gated_No    Gated_Yes  \\\n",
       "count         2181.000000        2181.000000  2181.000000  2181.000000   \n",
       "mean             0.929849           0.019257     0.777166     0.222834   \n",
       "std              0.255460           0.137459     0.416243     0.416243   \n",
       "min              0.000000           0.000000     0.000000     0.000000   \n",
       "25%              1.000000           0.000000     1.000000     0.000000   \n",
       "50%              1.000000           0.000000     1.000000     0.000000   \n",
       "75%              1.000000           0.000000     1.000000     0.000000   \n",
       "max              1.000000           1.000000     1.000000     1.000000   \n",
       "\n",
       "       Fittness_No  Fittness_Yes  Loan_Carryback    Loan_Cash  \\\n",
       "count  2181.000000   2181.000000     2181.000000  2181.000000   \n",
       "mean      0.803760      0.196240        0.004585     0.283356   \n",
       "std       0.397243      0.397243        0.067573     0.450731   \n",
       "min       0.000000      0.000000        0.000000     0.000000   \n",
       "25%       1.000000      0.000000        0.000000     0.000000   \n",
       "50%       1.000000      0.000000        0.000000     0.000000   \n",
       "75%       1.000000      0.000000        0.000000     1.000000   \n",
       "max       1.000000      1.000000        1.000000     1.000000   \n",
       "\n",
       "       Loan_Cash to Loan  Loan_Conventional  Loan_Exchange     Loan_FHA  \\\n",
       "count        2181.000000         2181.00000    2181.000000  2181.000000   \n",
       "mean            0.000459            0.47868       0.001834     0.129757   \n",
       "std             0.021413            0.49966       0.042796     0.336113   \n",
       "min             0.000000            0.00000       0.000000     0.000000   \n",
       "25%             0.000000            0.00000       0.000000     0.000000   \n",
       "50%             0.000000            0.00000       0.000000     0.000000   \n",
       "75%             0.000000            1.00000       0.000000     0.000000   \n",
       "max             1.000000            1.00000       1.000000     1.000000   \n",
       "\n",
       "        Loan_Other    Loan_USDA      Loan_VA  Payment_Adjustable  \\\n",
       "count  2181.000000  2181.000000  2181.000000         2181.000000   \n",
       "mean      0.059606     0.000459     0.041265            0.005502   \n",
       "std       0.236809     0.021413     0.198949            0.073989   \n",
       "min       0.000000     0.000000     0.000000            0.000000   \n",
       "25%       0.000000     0.000000     0.000000            0.000000   \n",
       "50%       0.000000     0.000000     0.000000            0.000000   \n",
       "75%       0.000000     0.000000     0.000000            0.000000   \n",
       "max       1.000000     1.000000     1.000000            1.000000   \n",
       "\n",
       "       Payment_Balloon  Payment_Fixed  Payment_Graduated  \\\n",
       "count      2181.000000    2181.000000        2181.000000   \n",
       "mean          0.004127       0.524989           0.000459   \n",
       "std           0.064120       0.499490           0.021413   \n",
       "min           0.000000       0.000000           0.000000   \n",
       "25%           0.000000       0.000000           0.000000   \n",
       "50%           0.000000       1.000000           0.000000   \n",
       "75%           0.000000       1.000000           0.000000   \n",
       "max           1.000000       1.000000           1.000000   \n",
       "\n",
       "       Payment_Interest Only  Payment_Missing  Payment_Other  \n",
       "count            2181.000000      2181.000000    2181.000000  \n",
       "mean                0.000917         0.304448       0.159560  \n",
       "std                 0.030275         0.460279       0.366281  \n",
       "min                 0.000000         0.000000       0.000000  \n",
       "25%                 0.000000         0.000000       0.000000  \n",
       "50%                 0.000000         0.000000       0.000000  \n",
       "75%                 0.000000         1.000000       0.000000  \n",
       "max                 1.000000         1.000000       1.000000  "
      ]
     },
     "execution_count": 270,
     "metadata": {},
     "output_type": "execute_result"
    }
   ],
   "source": [
    "pd.options.display.max_columns=None\n",
    "X_train.describe()\n"
   ]
  },
  {
   "cell_type": "code",
   "execution_count": null,
   "id": "36e0de35",
   "metadata": {},
   "outputs": [],
   "source": []
  },
  {
   "cell_type": "markdown",
   "id": "063568fa",
   "metadata": {},
   "source": [
    "### Fit the pipeline"
   ]
  },
  {
   "cell_type": "code",
   "execution_count": 271,
   "id": "1946f183",
   "metadata": {},
   "outputs": [
    {
     "data": {
      "text/html": [
       "<style>#sk-container-id-16 {color: black;background-color: white;}#sk-container-id-16 pre{padding: 0;}#sk-container-id-16 div.sk-toggleable {background-color: white;}#sk-container-id-16 label.sk-toggleable__label {cursor: pointer;display: block;width: 100%;margin-bottom: 0;padding: 0.3em;box-sizing: border-box;text-align: center;}#sk-container-id-16 label.sk-toggleable__label-arrow:before {content: \"▸\";float: left;margin-right: 0.25em;color: #696969;}#sk-container-id-16 label.sk-toggleable__label-arrow:hover:before {color: black;}#sk-container-id-16 div.sk-estimator:hover label.sk-toggleable__label-arrow:before {color: black;}#sk-container-id-16 div.sk-toggleable__content {max-height: 0;max-width: 0;overflow: hidden;text-align: left;background-color: #f0f8ff;}#sk-container-id-16 div.sk-toggleable__content pre {margin: 0.2em;color: black;border-radius: 0.25em;background-color: #f0f8ff;}#sk-container-id-16 input.sk-toggleable__control:checked~div.sk-toggleable__content {max-height: 200px;max-width: 100%;overflow: auto;}#sk-container-id-16 input.sk-toggleable__control:checked~label.sk-toggleable__label-arrow:before {content: \"▾\";}#sk-container-id-16 div.sk-estimator input.sk-toggleable__control:checked~label.sk-toggleable__label {background-color: #d4ebff;}#sk-container-id-16 div.sk-label input.sk-toggleable__control:checked~label.sk-toggleable__label {background-color: #d4ebff;}#sk-container-id-16 input.sk-hidden--visually {border: 0;clip: rect(1px 1px 1px 1px);clip: rect(1px, 1px, 1px, 1px);height: 1px;margin: -1px;overflow: hidden;padding: 0;position: absolute;width: 1px;}#sk-container-id-16 div.sk-estimator {font-family: monospace;background-color: #f0f8ff;border: 1px dotted black;border-radius: 0.25em;box-sizing: border-box;margin-bottom: 0.5em;}#sk-container-id-16 div.sk-estimator:hover {background-color: #d4ebff;}#sk-container-id-16 div.sk-parallel-item::after {content: \"\";width: 100%;border-bottom: 1px solid gray;flex-grow: 1;}#sk-container-id-16 div.sk-label:hover label.sk-toggleable__label {background-color: #d4ebff;}#sk-container-id-16 div.sk-serial::before {content: \"\";position: absolute;border-left: 1px solid gray;box-sizing: border-box;top: 0;bottom: 0;left: 50%;z-index: 0;}#sk-container-id-16 div.sk-serial {display: flex;flex-direction: column;align-items: center;background-color: white;padding-right: 0.2em;padding-left: 0.2em;position: relative;}#sk-container-id-16 div.sk-item {position: relative;z-index: 1;}#sk-container-id-16 div.sk-parallel {display: flex;align-items: stretch;justify-content: center;background-color: white;position: relative;}#sk-container-id-16 div.sk-item::before, #sk-container-id-16 div.sk-parallel-item::before {content: \"\";position: absolute;border-left: 1px solid gray;box-sizing: border-box;top: 0;bottom: 0;left: 50%;z-index: -1;}#sk-container-id-16 div.sk-parallel-item {display: flex;flex-direction: column;z-index: 1;position: relative;background-color: white;}#sk-container-id-16 div.sk-parallel-item:first-child::after {align-self: flex-end;width: 50%;}#sk-container-id-16 div.sk-parallel-item:last-child::after {align-self: flex-start;width: 50%;}#sk-container-id-16 div.sk-parallel-item:only-child::after {width: 0;}#sk-container-id-16 div.sk-dashed-wrapped {border: 1px dashed gray;margin: 0 0.4em 0.5em 0.4em;box-sizing: border-box;padding-bottom: 0.4em;background-color: white;}#sk-container-id-16 div.sk-label label {font-family: monospace;font-weight: bold;display: inline-block;line-height: 1.2em;}#sk-container-id-16 div.sk-label-container {text-align: center;}#sk-container-id-16 div.sk-container {/* jupyter's `normalize.less` sets `[hidden] { display: none; }` but bootstrap.min.css set `[hidden] { display: none !important; }` so we also need the `!important` here to be able to override the default hidden behavior on the sphinx rendered scikit-learn.org. See: https://github.com/scikit-learn/scikit-learn/issues/21755 */display: inline-block !important;position: relative;}#sk-container-id-16 div.sk-text-repr-fallback {display: none;}</style><div id=\"sk-container-id-16\" class=\"sk-top-container\"><div class=\"sk-text-repr-fallback\"><pre>Pipeline(steps=[(&#x27;standardscaler&#x27;, StandardScaler()),\n",
       "                (&#x27;selectkbest&#x27;,\n",
       "                 SelectKBest(k=5,\n",
       "                             score_func=&lt;function f_regression at 0x000001BE78F1DF80&gt;)),\n",
       "                (&#x27;linearregression&#x27;, LinearRegression())])</pre><b>In a Jupyter environment, please rerun this cell to show the HTML representation or trust the notebook. <br />On GitHub, the HTML representation is unable to render, please try loading this page with nbviewer.org.</b></div><div class=\"sk-container\" hidden><div class=\"sk-item sk-dashed-wrapped\"><div class=\"sk-label-container\"><div class=\"sk-label sk-toggleable\"><input class=\"sk-toggleable__control sk-hidden--visually\" id=\"sk-estimator-id-45\" type=\"checkbox\" ><label for=\"sk-estimator-id-45\" class=\"sk-toggleable__label sk-toggleable__label-arrow\">Pipeline</label><div class=\"sk-toggleable__content\"><pre>Pipeline(steps=[(&#x27;standardscaler&#x27;, StandardScaler()),\n",
       "                (&#x27;selectkbest&#x27;,\n",
       "                 SelectKBest(k=5,\n",
       "                             score_func=&lt;function f_regression at 0x000001BE78F1DF80&gt;)),\n",
       "                (&#x27;linearregression&#x27;, LinearRegression())])</pre></div></div></div><div class=\"sk-serial\"><div class=\"sk-item\"><div class=\"sk-estimator sk-toggleable\"><input class=\"sk-toggleable__control sk-hidden--visually\" id=\"sk-estimator-id-46\" type=\"checkbox\" ><label for=\"sk-estimator-id-46\" class=\"sk-toggleable__label sk-toggleable__label-arrow\">StandardScaler</label><div class=\"sk-toggleable__content\"><pre>StandardScaler()</pre></div></div></div><div class=\"sk-item\"><div class=\"sk-estimator sk-toggleable\"><input class=\"sk-toggleable__control sk-hidden--visually\" id=\"sk-estimator-id-47\" type=\"checkbox\" ><label for=\"sk-estimator-id-47\" class=\"sk-toggleable__label sk-toggleable__label-arrow\">SelectKBest</label><div class=\"sk-toggleable__content\"><pre>SelectKBest(k=5, score_func=&lt;function f_regression at 0x000001BE78F1DF80&gt;)</pre></div></div></div><div class=\"sk-item\"><div class=\"sk-estimator sk-toggleable\"><input class=\"sk-toggleable__control sk-hidden--visually\" id=\"sk-estimator-id-48\" type=\"checkbox\" ><label for=\"sk-estimator-id-48\" class=\"sk-toggleable__label sk-toggleable__label-arrow\">LinearRegression</label><div class=\"sk-toggleable__content\"><pre>LinearRegression()</pre></div></div></div></div></div></div></div>"
      ],
      "text/plain": [
       "Pipeline(steps=[('standardscaler', StandardScaler()),\n",
       "                ('selectkbest',\n",
       "                 SelectKBest(k=5,\n",
       "                             score_func=<function f_regression at 0x000001BE78F1DF80>)),\n",
       "                ('linearregression', LinearRegression())])"
      ]
     },
     "execution_count": 271,
     "metadata": {},
     "output_type": "execute_result"
    }
   ],
   "source": [
    "#Call the pipe's `fit()` method with `X_train` and `y_train` as arguments\n",
    "pipe5.fit(X_train,y_train)"
   ]
  },
  {
   "cell_type": "markdown",
   "id": "288af7d0",
   "metadata": {},
   "source": [
    "#### Make predictions on the train and test sets"
   ]
  },
  {
   "cell_type": "code",
   "execution_count": 272,
   "id": "f8371a88",
   "metadata": {},
   "outputs": [],
   "source": [
    "y_tr_pred = pipe5.predict(X_train)\n",
    "y_te_pred = pipe5.predict(X_test)"
   ]
  },
  {
   "cell_type": "markdown",
   "id": "6fa6881d",
   "metadata": {},
   "source": [
    "#### Assess performance"
   ]
  },
  {
   "cell_type": "code",
   "execution_count": 273,
   "id": "ba9cf851",
   "metadata": {},
   "outputs": [
    {
     "data": {
      "text/plain": [
       "(0.6487095644198582, 0.59574265845152)"
      ]
     },
     "execution_count": 273,
     "metadata": {},
     "output_type": "execute_result"
    }
   ],
   "source": [
    "r2_score(y_train, y_tr_pred), r2_score(y_test, y_te_pred)"
   ]
  },
  {
   "cell_type": "code",
   "execution_count": 274,
   "id": "7717b966",
   "metadata": {},
   "outputs": [
    {
     "data": {
      "text/plain": [
       "(218657.65798696448, 199089.77869434387)"
      ]
     },
     "execution_count": 274,
     "metadata": {},
     "output_type": "execute_result"
    }
   ],
   "source": [
    "result_mae = mean_absolute_error(y_train, y_tr_pred), mean_absolute_error(y_test, y_te_pred)\n",
    "result_mae"
   ]
  },
  {
   "cell_type": "code",
   "execution_count": 275,
   "id": "57b6a937",
   "metadata": {},
   "outputs": [
    {
     "data": {
      "text/plain": [
       "(143050188547.23132, 122793575291.44106)"
      ]
     },
     "execution_count": 275,
     "metadata": {},
     "output_type": "execute_result"
    }
   ],
   "source": [
    "result_mse = mean_squared_error(y_train, y_tr_pred), mean_squared_error(y_test, y_te_pred)\n",
    "result_mse"
   ]
  },
  {
   "cell_type": "markdown",
   "id": "501b312b",
   "metadata": {},
   "source": [
    "### Assessing performance using cross-validation"
   ]
  },
  {
   "cell_type": "code",
   "execution_count": null,
   "id": "cd6f6e54",
   "metadata": {},
   "outputs": [],
   "source": []
  },
  {
   "cell_type": "code",
   "execution_count": 276,
   "id": "8cedd693",
   "metadata": {},
   "outputs": [],
   "source": [
    "cv_results = cross_validate(pipe15, X_train, y_train, cv=5)"
   ]
  },
  {
   "cell_type": "code",
   "execution_count": 277,
   "id": "5c4dfd7d",
   "metadata": {},
   "outputs": [
    {
     "data": {
      "text/plain": [
       "array([0.6891245 , 0.6951945 , 0.66614678, 0.58246098, 0.586157  ])"
      ]
     },
     "execution_count": 277,
     "metadata": {},
     "output_type": "execute_result"
    }
   ],
   "source": [
    "cv_scores = cv_results['test_score']\n",
    "cv_scores"
   ]
  },
  {
   "cell_type": "code",
   "execution_count": 278,
   "id": "5b29c6a1",
   "metadata": {},
   "outputs": [
    {
     "data": {
      "text/plain": [
       "(0.6438167520294027, 0.049558597109610796)"
      ]
     },
     "execution_count": 278,
     "metadata": {},
     "output_type": "execute_result"
    }
   ],
   "source": [
    "np.mean(cv_scores), np.std(cv_scores)"
   ]
  },
  {
   "cell_type": "code",
   "execution_count": 306,
   "id": "0cc53424",
   "metadata": {},
   "outputs": [
    {
     "data": {
      "text/plain": [
       "array([0.54, 0.74])"
      ]
     },
     "execution_count": 306,
     "metadata": {},
     "output_type": "execute_result"
    }
   ],
   "source": [
    "np.round((np.mean(cv_scores) - 2 * np.std(cv_scores), np.mean(cv_scores) + 2 * np.std(cv_scores)), 2)"
   ]
  },
  {
   "cell_type": "markdown",
   "id": "72814d70",
   "metadata": {},
   "source": [
    "### Hyperparameter search using GridSearchCV"
   ]
  },
  {
   "cell_type": "code",
   "execution_count": 322,
   "id": "39a9a7f8",
   "metadata": {},
   "outputs": [
    {
     "data": {
      "text/plain": [
       "dict_keys(['memory', 'steps', 'verbose', 'standardscaler', 'selectkbest', 'linearregression', 'standardscaler__copy', 'standardscaler__with_mean', 'standardscaler__with_std', 'selectkbest__k', 'selectkbest__score_func', 'linearregression__copy_X', 'linearregression__fit_intercept', 'linearregression__n_jobs', 'linearregression__positive'])"
      ]
     },
     "execution_count": 322,
     "metadata": {},
     "output_type": "execute_result"
    }
   ],
   "source": [
    "#Call `pipe`'s `get_params()` method to get a dict of available parameters and print their names\n",
    "#using dict's `keys()` method\n",
    "pipe5.get_params().keys()"
   ]
  },
  {
   "cell_type": "code",
   "execution_count": 329,
   "id": "6eb01f25",
   "metadata": {},
   "outputs": [],
   "source": [
    "k = [k+1 for k in range(len(X_train.columns))]\n",
    "grid_params = {'selectkbest__k': k}"
   ]
  },
  {
   "cell_type": "code",
   "execution_count": 330,
   "id": "6b222462",
   "metadata": {},
   "outputs": [
    {
     "data": {
      "text/plain": [
       "{'selectkbest__k': [1,\n",
       "  2,\n",
       "  3,\n",
       "  4,\n",
       "  5,\n",
       "  6,\n",
       "  7,\n",
       "  8,\n",
       "  9,\n",
       "  10,\n",
       "  11,\n",
       "  12,\n",
       "  13,\n",
       "  14,\n",
       "  15,\n",
       "  16,\n",
       "  17,\n",
       "  18,\n",
       "  19,\n",
       "  20,\n",
       "  21,\n",
       "  22,\n",
       "  23,\n",
       "  24,\n",
       "  25,\n",
       "  26,\n",
       "  27,\n",
       "  28,\n",
       "  29,\n",
       "  30,\n",
       "  31,\n",
       "  32,\n",
       "  33,\n",
       "  34,\n",
       "  35,\n",
       "  36,\n",
       "  37,\n",
       "  38,\n",
       "  39,\n",
       "  40,\n",
       "  41,\n",
       "  42,\n",
       "  43,\n",
       "  44,\n",
       "  45,\n",
       "  46,\n",
       "  47,\n",
       "  48,\n",
       "  49,\n",
       "  50,\n",
       "  51,\n",
       "  52,\n",
       "  53,\n",
       "  54,\n",
       "  55,\n",
       "  56,\n",
       "  57,\n",
       "  58,\n",
       "  59,\n",
       "  60,\n",
       "  61,\n",
       "  62,\n",
       "  63]}"
      ]
     },
     "execution_count": 330,
     "metadata": {},
     "output_type": "execute_result"
    }
   ],
   "source": [
    "grid_params"
   ]
  },
  {
   "cell_type": "code",
   "execution_count": 331,
   "id": "27bde10b",
   "metadata": {},
   "outputs": [],
   "source": [
    "lr_grid_cv = GridSearchCV(pipe5, param_grid=grid_params, cv=5, n_jobs=-1)"
   ]
  },
  {
   "cell_type": "code",
   "execution_count": 332,
   "id": "c62a80a6",
   "metadata": {},
   "outputs": [
    {
     "data": {
      "text/html": [
       "<style>#sk-container-id-21 {color: black;background-color: white;}#sk-container-id-21 pre{padding: 0;}#sk-container-id-21 div.sk-toggleable {background-color: white;}#sk-container-id-21 label.sk-toggleable__label {cursor: pointer;display: block;width: 100%;margin-bottom: 0;padding: 0.3em;box-sizing: border-box;text-align: center;}#sk-container-id-21 label.sk-toggleable__label-arrow:before {content: \"▸\";float: left;margin-right: 0.25em;color: #696969;}#sk-container-id-21 label.sk-toggleable__label-arrow:hover:before {color: black;}#sk-container-id-21 div.sk-estimator:hover label.sk-toggleable__label-arrow:before {color: black;}#sk-container-id-21 div.sk-toggleable__content {max-height: 0;max-width: 0;overflow: hidden;text-align: left;background-color: #f0f8ff;}#sk-container-id-21 div.sk-toggleable__content pre {margin: 0.2em;color: black;border-radius: 0.25em;background-color: #f0f8ff;}#sk-container-id-21 input.sk-toggleable__control:checked~div.sk-toggleable__content {max-height: 200px;max-width: 100%;overflow: auto;}#sk-container-id-21 input.sk-toggleable__control:checked~label.sk-toggleable__label-arrow:before {content: \"▾\";}#sk-container-id-21 div.sk-estimator input.sk-toggleable__control:checked~label.sk-toggleable__label {background-color: #d4ebff;}#sk-container-id-21 div.sk-label input.sk-toggleable__control:checked~label.sk-toggleable__label {background-color: #d4ebff;}#sk-container-id-21 input.sk-hidden--visually {border: 0;clip: rect(1px 1px 1px 1px);clip: rect(1px, 1px, 1px, 1px);height: 1px;margin: -1px;overflow: hidden;padding: 0;position: absolute;width: 1px;}#sk-container-id-21 div.sk-estimator {font-family: monospace;background-color: #f0f8ff;border: 1px dotted black;border-radius: 0.25em;box-sizing: border-box;margin-bottom: 0.5em;}#sk-container-id-21 div.sk-estimator:hover {background-color: #d4ebff;}#sk-container-id-21 div.sk-parallel-item::after {content: \"\";width: 100%;border-bottom: 1px solid gray;flex-grow: 1;}#sk-container-id-21 div.sk-label:hover label.sk-toggleable__label {background-color: #d4ebff;}#sk-container-id-21 div.sk-serial::before {content: \"\";position: absolute;border-left: 1px solid gray;box-sizing: border-box;top: 0;bottom: 0;left: 50%;z-index: 0;}#sk-container-id-21 div.sk-serial {display: flex;flex-direction: column;align-items: center;background-color: white;padding-right: 0.2em;padding-left: 0.2em;position: relative;}#sk-container-id-21 div.sk-item {position: relative;z-index: 1;}#sk-container-id-21 div.sk-parallel {display: flex;align-items: stretch;justify-content: center;background-color: white;position: relative;}#sk-container-id-21 div.sk-item::before, #sk-container-id-21 div.sk-parallel-item::before {content: \"\";position: absolute;border-left: 1px solid gray;box-sizing: border-box;top: 0;bottom: 0;left: 50%;z-index: -1;}#sk-container-id-21 div.sk-parallel-item {display: flex;flex-direction: column;z-index: 1;position: relative;background-color: white;}#sk-container-id-21 div.sk-parallel-item:first-child::after {align-self: flex-end;width: 50%;}#sk-container-id-21 div.sk-parallel-item:last-child::after {align-self: flex-start;width: 50%;}#sk-container-id-21 div.sk-parallel-item:only-child::after {width: 0;}#sk-container-id-21 div.sk-dashed-wrapped {border: 1px dashed gray;margin: 0 0.4em 0.5em 0.4em;box-sizing: border-box;padding-bottom: 0.4em;background-color: white;}#sk-container-id-21 div.sk-label label {font-family: monospace;font-weight: bold;display: inline-block;line-height: 1.2em;}#sk-container-id-21 div.sk-label-container {text-align: center;}#sk-container-id-21 div.sk-container {/* jupyter's `normalize.less` sets `[hidden] { display: none; }` but bootstrap.min.css set `[hidden] { display: none !important; }` so we also need the `!important` here to be able to override the default hidden behavior on the sphinx rendered scikit-learn.org. See: https://github.com/scikit-learn/scikit-learn/issues/21755 */display: inline-block !important;position: relative;}#sk-container-id-21 div.sk-text-repr-fallback {display: none;}</style><div id=\"sk-container-id-21\" class=\"sk-top-container\"><div class=\"sk-text-repr-fallback\"><pre>GridSearchCV(cv=5,\n",
       "             estimator=Pipeline(steps=[(&#x27;standardscaler&#x27;, StandardScaler()),\n",
       "                                       (&#x27;selectkbest&#x27;,\n",
       "                                        SelectKBest(k=5,\n",
       "                                                    score_func=&lt;function f_regression at 0x000001BE78F1DF80&gt;)),\n",
       "                                       (&#x27;linearregression&#x27;,\n",
       "                                        LinearRegression())]),\n",
       "             n_jobs=-1,\n",
       "             param_grid={&#x27;selectkbest__k&#x27;: [1, 2, 3, 4, 5, 6, 7, 8, 9, 10, 11,\n",
       "                                            12, 13, 14, 15, 16, 17, 18, 19, 20,\n",
       "                                            21, 22, 23, 24, 25, 26, 27, 28, 29,\n",
       "                                            30, ...]})</pre><b>In a Jupyter environment, please rerun this cell to show the HTML representation or trust the notebook. <br />On GitHub, the HTML representation is unable to render, please try loading this page with nbviewer.org.</b></div><div class=\"sk-container\" hidden><div class=\"sk-item sk-dashed-wrapped\"><div class=\"sk-label-container\"><div class=\"sk-label sk-toggleable\"><input class=\"sk-toggleable__control sk-hidden--visually\" id=\"sk-estimator-id-69\" type=\"checkbox\" ><label for=\"sk-estimator-id-69\" class=\"sk-toggleable__label sk-toggleable__label-arrow\">GridSearchCV</label><div class=\"sk-toggleable__content\"><pre>GridSearchCV(cv=5,\n",
       "             estimator=Pipeline(steps=[(&#x27;standardscaler&#x27;, StandardScaler()),\n",
       "                                       (&#x27;selectkbest&#x27;,\n",
       "                                        SelectKBest(k=5,\n",
       "                                                    score_func=&lt;function f_regression at 0x000001BE78F1DF80&gt;)),\n",
       "                                       (&#x27;linearregression&#x27;,\n",
       "                                        LinearRegression())]),\n",
       "             n_jobs=-1,\n",
       "             param_grid={&#x27;selectkbest__k&#x27;: [1, 2, 3, 4, 5, 6, 7, 8, 9, 10, 11,\n",
       "                                            12, 13, 14, 15, 16, 17, 18, 19, 20,\n",
       "                                            21, 22, 23, 24, 25, 26, 27, 28, 29,\n",
       "                                            30, ...]})</pre></div></div></div><div class=\"sk-parallel\"><div class=\"sk-parallel-item\"><div class=\"sk-item\"><div class=\"sk-label-container\"><div class=\"sk-label sk-toggleable\"><input class=\"sk-toggleable__control sk-hidden--visually\" id=\"sk-estimator-id-70\" type=\"checkbox\" ><label for=\"sk-estimator-id-70\" class=\"sk-toggleable__label sk-toggleable__label-arrow\">estimator: Pipeline</label><div class=\"sk-toggleable__content\"><pre>Pipeline(steps=[(&#x27;standardscaler&#x27;, StandardScaler()),\n",
       "                (&#x27;selectkbest&#x27;,\n",
       "                 SelectKBest(k=5,\n",
       "                             score_func=&lt;function f_regression at 0x000001BE78F1DF80&gt;)),\n",
       "                (&#x27;linearregression&#x27;, LinearRegression())])</pre></div></div></div><div class=\"sk-serial\"><div class=\"sk-item\"><div class=\"sk-serial\"><div class=\"sk-item\"><div class=\"sk-estimator sk-toggleable\"><input class=\"sk-toggleable__control sk-hidden--visually\" id=\"sk-estimator-id-71\" type=\"checkbox\" ><label for=\"sk-estimator-id-71\" class=\"sk-toggleable__label sk-toggleable__label-arrow\">StandardScaler</label><div class=\"sk-toggleable__content\"><pre>StandardScaler()</pre></div></div></div><div class=\"sk-item\"><div class=\"sk-estimator sk-toggleable\"><input class=\"sk-toggleable__control sk-hidden--visually\" id=\"sk-estimator-id-72\" type=\"checkbox\" ><label for=\"sk-estimator-id-72\" class=\"sk-toggleable__label sk-toggleable__label-arrow\">SelectKBest</label><div class=\"sk-toggleable__content\"><pre>SelectKBest(k=5, score_func=&lt;function f_regression at 0x000001BE78F1DF80&gt;)</pre></div></div></div><div class=\"sk-item\"><div class=\"sk-estimator sk-toggleable\"><input class=\"sk-toggleable__control sk-hidden--visually\" id=\"sk-estimator-id-73\" type=\"checkbox\" ><label for=\"sk-estimator-id-73\" class=\"sk-toggleable__label sk-toggleable__label-arrow\">LinearRegression</label><div class=\"sk-toggleable__content\"><pre>LinearRegression()</pre></div></div></div></div></div></div></div></div></div></div></div></div>"
      ],
      "text/plain": [
       "GridSearchCV(cv=5,\n",
       "             estimator=Pipeline(steps=[('standardscaler', StandardScaler()),\n",
       "                                       ('selectkbest',\n",
       "                                        SelectKBest(k=5,\n",
       "                                                    score_func=<function f_regression at 0x000001BE78F1DF80>)),\n",
       "                                       ('linearregression',\n",
       "                                        LinearRegression())]),\n",
       "             n_jobs=-1,\n",
       "             param_grid={'selectkbest__k': [1, 2, 3, 4, 5, 6, 7, 8, 9, 10, 11,\n",
       "                                            12, 13, 14, 15, 16, 17, 18, 19, 20,\n",
       "                                            21, 22, 23, 24, 25, 26, 27, 28, 29,\n",
       "                                            30, ...]})"
      ]
     },
     "execution_count": 332,
     "metadata": {},
     "output_type": "execute_result"
    }
   ],
   "source": [
    "lr_grid_cv.fit(X_train, y_train)"
   ]
  },
  {
   "cell_type": "markdown",
   "id": "0a3e0b38",
   "metadata": {},
   "source": []
  },
  {
   "cell_type": "code",
   "execution_count": 333,
   "id": "9dea96ba",
   "metadata": {},
   "outputs": [],
   "source": [
    "score_mean = lr_grid_cv.cv_results_['mean_test_score']\n",
    "score_std = lr_grid_cv.cv_results_['std_test_score']\n",
    "cv_k = [k for k in lr_grid_cv.cv_results_['param_selectkbest__k']]"
   ]
  },
  {
   "cell_type": "code",
   "execution_count": 334,
   "id": "566a6a9b",
   "metadata": {},
   "outputs": [
    {
     "data": {
      "text/plain": [
       "{'selectkbest__k': 53}"
      ]
     },
     "execution_count": 334,
     "metadata": {},
     "output_type": "execute_result"
    }
   ],
   "source": [
    "#Print the `best_params_` attribute of `lr_grid_cv`\n",
    "lr_grid_cv.best_params_"
   ]
  },
  {
   "cell_type": "code",
   "execution_count": null,
   "id": "6907bc5c",
   "metadata": {},
   "outputs": [],
   "source": []
  },
  {
   "cell_type": "code",
   "execution_count": 335,
   "id": "89d45ea4",
   "metadata": {},
   "outputs": [
    {
     "data": {
      "image/png": "[encoded data removed]",
      "text/plain": [
       "<Figure size 1000x500 with 1 Axes>"
      ]
     },
     "metadata": {},
     "output_type": "display_data"
    }
   ],
   "source": [
    "#Assign the value of k from the above dict of `best_params_` and assign it to `best_k`\n",
    "best_k = lr_grid_cv.best_params_['selectkbest__k']\n",
    "plt.subplots(figsize=(10, 5))\n",
    "plt.errorbar(cv_k, score_mean, yerr=score_std)\n",
    "plt.axvline(x=best_k, c='r', ls='--', alpha=.5)\n",
    "plt.xlabel('k')\n",
    "plt.ylabel('CV score (r-squared)')\n",
    "plt.title('Pipeline mean CV score (error bars +/- 1sd)');"
   ]
  },
  {
   "cell_type": "code",
   "execution_count": 336,
   "id": "94dd540c",
   "metadata": {},
   "outputs": [],
   "source": [
    "selected = lr_grid_cv.best_estimator_.named_steps.selectkbest.get_support()"
   ]
  },
  {
   "cell_type": "code",
   "execution_count": 337,
   "id": "c8cd1034",
   "metadata": {},
   "outputs": [
    {
     "data": {
      "text/plain": [
       "Style_Detached                       1.201221e+19\n",
       "Style_Attached                       1.053629e+19\n",
       "Style_Stacked                        6.863825e+18\n",
       "RV_Gate_No                           2.206625e+18\n",
       "RV_Gate_Yes                          2.206625e+18\n",
       "Payment_Fixed                        7.536473e+17\n",
       "Land_N                               7.344534e+17\n",
       "Land_Y                               7.344534e+17\n",
       "Payment_Missing                      6.944842e+17\n",
       "Payment_Other                        5.526579e+17\n",
       "Gated_Yes                            4.781783e+17\n",
       "Gated_No                             4.781783e+17\n",
       "Payment_Adjustable                   1.116364e+17\n",
       "Payment_Balloon                      9.674682e+16\n",
       "Fittness_No                          5.425889e+16\n",
       "Fittness_Yes                         5.425889e+16\n",
       "Payment_Interest Only                4.568032e+16\n",
       "Payment_Graduated                    3.230828e+16\n",
       "Approx_SQFT                          5.460178e+05\n",
       "Unnamed: 0                           1.467635e+05\n",
       "Nr_Bathrooms                         9.975594e+04\n",
       "Loan_Cash                            3.302400e+04\n",
       "Loan_Other                           2.457600e+04\n",
       "Bldg_style_High Rise                 1.664000e+04\n",
       "Loan_FHA                             1.331200e+04\n",
       "Bldg_style_Missing                   5.120000e+03\n",
       "Approx_Lot_SqFt                      3.374211e+03\n",
       "Type_MD                              1.348380e+03\n",
       "Bldg_style_2-3-4 Plex · Clustered    1.024000e+03\n",
       "HOA_Fee                              5.732431e+02\n",
       "Type_GT                             -7.401194e+02\n",
       "Bldg_style_2-3-4 Plex               -1.024000e+03\n",
       "Bldg_style_String                   -4.864000e+03\n",
       "Loan_VA                             -5.120000e+03\n",
       "Seller_Concession                   -1.030184e+04\n",
       "Type_PH                             -1.314433e+04\n",
       "Carport_Spaces                      -1.704391e+04\n",
       "Year_Built                          -3.265436e+04\n",
       "Type_AF                             -4.673652e+04\n",
       "Garage_Spaces                       -4.912079e+04\n",
       "Type_TH                             -5.862079e+04\n",
       "Type_MM                             -7.536004e+04\n",
       "Type_SF                             -1.125895e+05\n",
       "Zip_Code                            -1.513885e+05\n",
       "Nr_Bedrooms                         -1.932798e+05\n",
       "Pool_Both                           -8.609113e+17\n",
       "Pool_Private                        -1.609499e+18\n",
       "Pool_no_pool                        -1.816083e+18\n",
       "Pool_Community                      -1.845704e+18\n",
       "Club_No                             -2.054782e+18\n",
       "Club_Yes                            -2.054782e+18\n",
       "Base_N                              -6.308948e+18\n",
       "Base_Y                              -6.308948e+18\n",
       "dtype: float64"
      ]
     },
     "execution_count": 337,
     "metadata": {},
     "output_type": "execute_result"
    }
   ],
   "source": [
    "#Get the linear model coefficients from the `coef_` attribute and store in `coefs`,\n",
    "#get the matching feature names from the column names of the dataframe,\n",
    "#and display the results as a pandas Series with `coefs` as the values and `features` as the index,\n",
    "#sorting the values in descending order\n",
    "coefs = lr_grid_cv.best_estimator_.named_steps.linearregression.coef_\n",
    "features = X_train.columns[selected]\n",
    "pd.Series(coefs, index=features).sort_values(ascending=False)"
   ]
  },
  {
   "cell_type": "markdown",
   "id": "bd39fbfc",
   "metadata": {},
   "source": [
    "### Random Forest Model"
   ]
  },
  {
   "cell_type": "markdown",
   "id": "c2c49d48",
   "metadata": {},
   "source": [
    "#### Define the pipeline"
   ]
  },
  {
   "cell_type": "code",
   "execution_count": 338,
   "id": "e53ac55f",
   "metadata": {},
   "outputs": [],
   "source": [
    "#Define a pipeline comprising the steps:\n",
    "#SimpleImputer() with a strategy of 'median'\n",
    "#StandardScaler(),\n",
    "#and then RandomForestRegressor() with a random state of 47\n",
    "RF_pipe = make_pipeline(\n",
    "    StandardScaler(),\n",
    "    RandomForestRegressor(random_state=47)\n",
    ")"
   ]
  },
  {
   "cell_type": "markdown",
   "id": "f1c3fcff",
   "metadata": {},
   "source": [
    "#### Fit and assess performance using cross-validation"
   ]
  },
  {
   "cell_type": "code",
   "execution_count": 339,
   "id": "459b9aef",
   "metadata": {},
   "outputs": [],
   "source": [
    "#Call `cross_validate` to estimate the pipeline's performance.\n",
    "#Pass it the random forest pipe object, `X_train` and `y_train`,\n",
    "#and get it to use 5-fold cross-validation\n",
    "rf_default_cv_results = cross_validate(RF_pipe, X_train, y_train, cv=5)"
   ]
  },
  {
   "cell_type": "code",
   "execution_count": 340,
   "id": "50751f24",
   "metadata": {},
   "outputs": [
    {
     "data": {
      "text/plain": [
       "array([0.77760362, 0.82047775, 0.81603759, 0.76456221, 0.64973281])"
      ]
     },
     "execution_count": 340,
     "metadata": {},
     "output_type": "execute_result"
    }
   ],
   "source": [
    "rf_cv_scores = rf_default_cv_results['test_score']\n",
    "rf_cv_scores"
   ]
  },
  {
   "cell_type": "code",
   "execution_count": 341,
   "id": "5879dfb1",
   "metadata": {},
   "outputs": [
    {
     "data": {
      "text/plain": [
       "(0.7656827972525606, 0.06184796445999225)"
      ]
     },
     "execution_count": 341,
     "metadata": {},
     "output_type": "execute_result"
    }
   ],
   "source": [
    "np.mean(rf_cv_scores), np.std(rf_cv_scores)"
   ]
  },
  {
   "cell_type": "markdown",
   "id": "569e0046",
   "metadata": {},
   "source": [
    "### Hyperparameter search using GridSearchCV"
   ]
  },
  {
   "cell_type": "code",
   "execution_count": 343,
   "id": "f4459d7c",
   "metadata": {},
   "outputs": [
    {
     "data": {
      "text/plain": [
       "{'randomforestregressor__n_estimators': [10,\n",
       "  12,\n",
       "  16,\n",
       "  20,\n",
       "  26,\n",
       "  33,\n",
       "  42,\n",
       "  54,\n",
       "  69,\n",
       "  88,\n",
       "  112,\n",
       "  143,\n",
       "  183,\n",
       "  233,\n",
       "  297,\n",
       "  379,\n",
       "  483,\n",
       "  615,\n",
       "  784,\n",
       "  1000],\n",
       " 'standardscaler': [StandardScaler(), None]}"
      ]
     },
     "execution_count": 343,
     "metadata": {},
     "output_type": "execute_result"
    }
   ],
   "source": [
    "n_est = [int(n) for n in np.logspace(start=1, stop=3, num=20)]\n",
    "grid_params = {\n",
    "        'randomforestregressor__n_estimators': n_est,\n",
    "        'standardscaler': [StandardScaler(), None],\n",
    "        }\n",
    "grid_params"
   ]
  },
  {
   "cell_type": "code",
   "execution_count": 344,
   "id": "3ea9acd5",
   "metadata": {},
   "outputs": [],
   "source": [
    "#Call `GridSearchCV` with the random forest pipeline, passing in the above `grid_params`\n",
    "#dict for parameters to evaluate, 5-fold cross-validation, and all available CPU cores (if desired)\n",
    "rf_grid_cv = GridSearchCV(RF_pipe, param_grid=grid_params, cv=5, n_jobs=-1)"
   ]
  },
  {
   "cell_type": "code",
   "execution_count": 345,
   "id": "25f6a4bf",
   "metadata": {},
   "outputs": [
    {
     "data": {
      "text/html": [
       "<style>#sk-container-id-22 {color: black;background-color: white;}#sk-container-id-22 pre{padding: 0;}#sk-container-id-22 div.sk-toggleable {background-color: white;}#sk-container-id-22 label.sk-toggleable__label {cursor: pointer;display: block;width: 100%;margin-bottom: 0;padding: 0.3em;box-sizing: border-box;text-align: center;}#sk-container-id-22 label.sk-toggleable__label-arrow:before {content: \"▸\";float: left;margin-right: 0.25em;color: #696969;}#sk-container-id-22 label.sk-toggleable__label-arrow:hover:before {color: black;}#sk-container-id-22 div.sk-estimator:hover label.sk-toggleable__label-arrow:before {color: black;}#sk-container-id-22 div.sk-toggleable__content {max-height: 0;max-width: 0;overflow: hidden;text-align: left;background-color: #f0f8ff;}#sk-container-id-22 div.sk-toggleable__content pre {margin: 0.2em;color: black;border-radius: 0.25em;background-color: #f0f8ff;}#sk-container-id-22 input.sk-toggleable__control:checked~div.sk-toggleable__content {max-height: 200px;max-width: 100%;overflow: auto;}#sk-container-id-22 input.sk-toggleable__control:checked~label.sk-toggleable__label-arrow:before {content: \"▾\";}#sk-container-id-22 div.sk-estimator input.sk-toggleable__control:checked~label.sk-toggleable__label {background-color: #d4ebff;}#sk-container-id-22 div.sk-label input.sk-toggleable__control:checked~label.sk-toggleable__label {background-color: #d4ebff;}#sk-container-id-22 input.sk-hidden--visually {border: 0;clip: rect(1px 1px 1px 1px);clip: rect(1px, 1px, 1px, 1px);height: 1px;margin: -1px;overflow: hidden;padding: 0;position: absolute;width: 1px;}#sk-container-id-22 div.sk-estimator {font-family: monospace;background-color: #f0f8ff;border: 1px dotted black;border-radius: 0.25em;box-sizing: border-box;margin-bottom: 0.5em;}#sk-container-id-22 div.sk-estimator:hover {background-color: #d4ebff;}#sk-container-id-22 div.sk-parallel-item::after {content: \"\";width: 100%;border-bottom: 1px solid gray;flex-grow: 1;}#sk-container-id-22 div.sk-label:hover label.sk-toggleable__label {background-color: #d4ebff;}#sk-container-id-22 div.sk-serial::before {content: \"\";position: absolute;border-left: 1px solid gray;box-sizing: border-box;top: 0;bottom: 0;left: 50%;z-index: 0;}#sk-container-id-22 div.sk-serial {display: flex;flex-direction: column;align-items: center;background-color: white;padding-right: 0.2em;padding-left: 0.2em;position: relative;}#sk-container-id-22 div.sk-item {position: relative;z-index: 1;}#sk-container-id-22 div.sk-parallel {display: flex;align-items: stretch;justify-content: center;background-color: white;position: relative;}#sk-container-id-22 div.sk-item::before, #sk-container-id-22 div.sk-parallel-item::before {content: \"\";position: absolute;border-left: 1px solid gray;box-sizing: border-box;top: 0;bottom: 0;left: 50%;z-index: -1;}#sk-container-id-22 div.sk-parallel-item {display: flex;flex-direction: column;z-index: 1;position: relative;background-color: white;}#sk-container-id-22 div.sk-parallel-item:first-child::after {align-self: flex-end;width: 50%;}#sk-container-id-22 div.sk-parallel-item:last-child::after {align-self: flex-start;width: 50%;}#sk-container-id-22 div.sk-parallel-item:only-child::after {width: 0;}#sk-container-id-22 div.sk-dashed-wrapped {border: 1px dashed gray;margin: 0 0.4em 0.5em 0.4em;box-sizing: border-box;padding-bottom: 0.4em;background-color: white;}#sk-container-id-22 div.sk-label label {font-family: monospace;font-weight: bold;display: inline-block;line-height: 1.2em;}#sk-container-id-22 div.sk-label-container {text-align: center;}#sk-container-id-22 div.sk-container {/* jupyter's `normalize.less` sets `[hidden] { display: none; }` but bootstrap.min.css set `[hidden] { display: none !important; }` so we also need the `!important` here to be able to override the default hidden behavior on the sphinx rendered scikit-learn.org. See: https://github.com/scikit-learn/scikit-learn/issues/21755 */display: inline-block !important;position: relative;}#sk-container-id-22 div.sk-text-repr-fallback {display: none;}</style><div id=\"sk-container-id-22\" class=\"sk-top-container\"><div class=\"sk-text-repr-fallback\"><pre>GridSearchCV(cv=5,\n",
       "             estimator=Pipeline(steps=[(&#x27;standardscaler&#x27;, StandardScaler()),\n",
       "                                       (&#x27;randomforestregressor&#x27;,\n",
       "                                        RandomForestRegressor(random_state=47))]),\n",
       "             n_jobs=-1,\n",
       "             param_grid={&#x27;randomforestregressor__n_estimators&#x27;: [10, 12, 16, 20,\n",
       "                                                                 26, 33, 42, 54,\n",
       "                                                                 69, 88, 112,\n",
       "                                                                 143, 183, 233,\n",
       "                                                                 297, 379, 483,\n",
       "                                                                 615, 784,\n",
       "                                                                 1000],\n",
       "                         &#x27;standardscaler&#x27;: [StandardScaler(), None]})</pre><b>In a Jupyter environment, please rerun this cell to show the HTML representation or trust the notebook. <br />On GitHub, the HTML representation is unable to render, please try loading this page with nbviewer.org.</b></div><div class=\"sk-container\" hidden><div class=\"sk-item sk-dashed-wrapped\"><div class=\"sk-label-container\"><div class=\"sk-label sk-toggleable\"><input class=\"sk-toggleable__control sk-hidden--visually\" id=\"sk-estimator-id-74\" type=\"checkbox\" ><label for=\"sk-estimator-id-74\" class=\"sk-toggleable__label sk-toggleable__label-arrow\">GridSearchCV</label><div class=\"sk-toggleable__content\"><pre>GridSearchCV(cv=5,\n",
       "             estimator=Pipeline(steps=[(&#x27;standardscaler&#x27;, StandardScaler()),\n",
       "                                       (&#x27;randomforestregressor&#x27;,\n",
       "                                        RandomForestRegressor(random_state=47))]),\n",
       "             n_jobs=-1,\n",
       "             param_grid={&#x27;randomforestregressor__n_estimators&#x27;: [10, 12, 16, 20,\n",
       "                                                                 26, 33, 42, 54,\n",
       "                                                                 69, 88, 112,\n",
       "                                                                 143, 183, 233,\n",
       "                                                                 297, 379, 483,\n",
       "                                                                 615, 784,\n",
       "                                                                 1000],\n",
       "                         &#x27;standardscaler&#x27;: [StandardScaler(), None]})</pre></div></div></div><div class=\"sk-parallel\"><div class=\"sk-parallel-item\"><div class=\"sk-item\"><div class=\"sk-label-container\"><div class=\"sk-label sk-toggleable\"><input class=\"sk-toggleable__control sk-hidden--visually\" id=\"sk-estimator-id-75\" type=\"checkbox\" ><label for=\"sk-estimator-id-75\" class=\"sk-toggleable__label sk-toggleable__label-arrow\">estimator: Pipeline</label><div class=\"sk-toggleable__content\"><pre>Pipeline(steps=[(&#x27;standardscaler&#x27;, StandardScaler()),\n",
       "                (&#x27;randomforestregressor&#x27;,\n",
       "                 RandomForestRegressor(random_state=47))])</pre></div></div></div><div class=\"sk-serial\"><div class=\"sk-item\"><div class=\"sk-serial\"><div class=\"sk-item\"><div class=\"sk-estimator sk-toggleable\"><input class=\"sk-toggleable__control sk-hidden--visually\" id=\"sk-estimator-id-76\" type=\"checkbox\" ><label for=\"sk-estimator-id-76\" class=\"sk-toggleable__label sk-toggleable__label-arrow\">StandardScaler</label><div class=\"sk-toggleable__content\"><pre>StandardScaler()</pre></div></div></div><div class=\"sk-item\"><div class=\"sk-estimator sk-toggleable\"><input class=\"sk-toggleable__control sk-hidden--visually\" id=\"sk-estimator-id-77\" type=\"checkbox\" ><label for=\"sk-estimator-id-77\" class=\"sk-toggleable__label sk-toggleable__label-arrow\">RandomForestRegressor</label><div class=\"sk-toggleable__content\"><pre>RandomForestRegressor(random_state=47)</pre></div></div></div></div></div></div></div></div></div></div></div></div>"
      ],
      "text/plain": [
       "GridSearchCV(cv=5,\n",
       "             estimator=Pipeline(steps=[('standardscaler', StandardScaler()),\n",
       "                                       ('randomforestregressor',\n",
       "                                        RandomForestRegressor(random_state=47))]),\n",
       "             n_jobs=-1,\n",
       "             param_grid={'randomforestregressor__n_estimators': [10, 12, 16, 20,\n",
       "                                                                 26, 33, 42, 54,\n",
       "                                                                 69, 88, 112,\n",
       "                                                                 143, 183, 233,\n",
       "                                                                 297, 379, 483,\n",
       "                                                                 615, 784,\n",
       "                                                                 1000],\n",
       "                         'standardscaler': [StandardScaler(), None]})"
      ]
     },
     "execution_count": 345,
     "metadata": {},
     "output_type": "execute_result"
    }
   ],
   "source": [
    "#Now call the `GridSearchCV`'s `fit()` method with `X_train` and `y_train` as arguments\n",
    "#to actually start the grid search. This may take a minute or two.\n",
    "rf_grid_cv.fit(X_train, y_train)"
   ]
  },
  {
   "cell_type": "code",
   "execution_count": 346,
   "id": "3c87e599",
   "metadata": {},
   "outputs": [
    {
     "data": {
      "text/plain": [
       "{'randomforestregressor__n_estimators': 112,\n",
       " 'standardscaler': StandardScaler()}"
      ]
     },
     "execution_count": 346,
     "metadata": {},
     "output_type": "execute_result"
    }
   ],
   "source": [
    "#Print the best params (`best_params_` attribute) from the grid search\n",
    "rf_grid_cv.best_params_"
   ]
  },
  {
   "cell_type": "code",
   "execution_count": 76,
   "id": "dbd31112",
   "metadata": {},
   "outputs": [
    {
     "data": {
      "text/plain": [
       "array([0.77734116, 0.81865622, 0.81868139, 0.76498567, 0.65513212])"
      ]
     },
     "execution_count": 76,
     "metadata": {},
     "output_type": "execute_result"
    }
   ],
   "source": [
    "rf_best_cv_results = cross_validate(rf_grid_cv.best_estimator_, X_train, y_train, cv=5)\n",
    "rf_best_scores = rf_best_cv_results['test_score']\n",
    "rf_best_scores"
   ]
  },
  {
   "cell_type": "code",
   "execution_count": 347,
   "id": "04b873ba",
   "metadata": {},
   "outputs": [
    {
     "ename": "NameError",
     "evalue": "name 'rf_best_scores' is not defined",
     "output_type": "error",
     "traceback": [
      "\u001b[1;31m---------------------------------------------------------------------------\u001b[0m",
      "\u001b[1;31mNameError\u001b[0m                                 Traceback (most recent call last)",
      "Cell \u001b[1;32mIn[347], line 1\u001b[0m\n\u001b[1;32m----> 1\u001b[0m np\u001b[38;5;241m.\u001b[39mmean(rf_best_scores), np\u001b[38;5;241m.\u001b[39mstd(rf_best_scores)\n",
      "\u001b[1;31mNameError\u001b[0m: name 'rf_best_scores' is not defined"
     ]
    }
   ],
   "source": [
    "np.mean(rf_best_scores), np.std(rf_best_scores)"
   ]
  },
  {
   "cell_type": "code",
   "execution_count": 348,
   "id": "7b8c72d8",
   "metadata": {},
   "outputs": [
    {
     "data": {
      "image/png": "[encoded data removed]",
      "text/plain": [
       "<Figure size 1000x500 with 1 Axes>"
      ]
     },
     "metadata": {},
     "output_type": "display_data"
    }
   ],
   "source": [
    "#Plot a barplot of the random forest's feature importances,\n",
    "#assigning the `feature_importances_` attribute of \n",
    "#`rf_grid_cv.best_estimator_.named_steps.randomforestregressor` to the name `imps` to then\n",
    "#create a pandas Series object of the feature importances, with the index given by the\n",
    "#training data column names, sorting the values in descending order\n",
    "plt.subplots(figsize=(10, 5))\n",
    "imps = rf_grid_cv.best_estimator_.named_steps.randomforestregressor.feature_importances_\n",
    "rf_feat_imps = pd.Series(imps, index=X_train.columns).sort_values(ascending=False)\n",
    "rf_feat_imps.plot(kind='bar')\n",
    "plt.xlabel('features')\n",
    "plt.ylabel('importance')\n",
    "plt.title('Best random forest regressor feature importances');"
   ]
  },
  {
   "cell_type": "markdown",
   "id": "c0cff79b",
   "metadata": {},
   "source": [
    "### Final Model Selection"
   ]
  },
  {
   "cell_type": "markdown",
   "id": "abe35ce0",
   "metadata": {},
   "source": [
    "### Linear regression model performance"
   ]
  },
  {
   "cell_type": "code",
   "execution_count": 349,
   "id": "601ae686",
   "metadata": {},
   "outputs": [],
   "source": [
    "# 'neg_mean_absolute_error' uses the (negative of) the mean absolute error\n",
    "lr_neg_mae = cross_validate(lr_grid_cv.best_estimator_, X_train, y_train, \n",
    "                            scoring='neg_mean_absolute_error', cv=5, n_jobs=-1)"
   ]
  },
  {
   "cell_type": "code",
   "execution_count": 361,
   "id": "ca0984ce",
   "metadata": {},
   "outputs": [
    {
     "data": {
      "text/plain": [
       "(223020.8932859357, 6665.877992458061)"
      ]
     },
     "execution_count": 361,
     "metadata": {},
     "output_type": "execute_result"
    }
   ],
   "source": [
    "lr_mae_mean = np.mean(-1 * lr_neg_mae['test_score'])\n",
    "lr_mae_std = np.std(-1 * lr_neg_mae['test_score'])\n",
    "lr_mae_mean, lr_mae_std"
   ]
  },
  {
   "cell_type": "code",
   "execution_count": 362,
   "id": "435879ee",
   "metadata": {},
   "outputs": [
    {
     "data": {
      "text/plain": [
       "192875.54454821761"
      ]
     },
     "execution_count": 362,
     "metadata": {},
     "output_type": "execute_result"
    }
   ],
   "source": [
    "mean_absolute_error(y_test, lr_grid_cv.best_estimator_.predict(X_test))"
   ]
  },
  {
   "cell_type": "markdown",
   "id": "72c8a504",
   "metadata": {},
   "source": [
    "### Random forest regression model performance"
   ]
  },
  {
   "cell_type": "code",
   "execution_count": 363,
   "id": "f2b3a483",
   "metadata": {},
   "outputs": [],
   "source": [
    "rf_neg_mae = cross_validate(rf_grid_cv.best_estimator_, X_train, y_train, \n",
    "                            scoring='neg_mean_absolute_error', cv=5, n_jobs=-1)"
   ]
  },
  {
   "cell_type": "code",
   "execution_count": 364,
   "id": "78cf8570",
   "metadata": {},
   "outputs": [
    {
     "data": {
      "text/plain": [
       "(129268.16523906933, 5195.834502771763)"
      ]
     },
     "execution_count": 364,
     "metadata": {},
     "output_type": "execute_result"
    }
   ],
   "source": [
    "rf_mae_mean = np.mean(-1 * rf_neg_mae['test_score'])\n",
    "rf_mae_std = np.std(-1 * rf_neg_mae['test_score'])\n",
    "rf_mae_mean, rf_mae_std"
   ]
  },
  {
   "cell_type": "code",
   "execution_count": 365,
   "id": "79081b17",
   "metadata": {},
   "outputs": [
    {
     "data": {
      "text/plain": [
       "101292.3134157509"
      ]
     },
     "execution_count": 365,
     "metadata": {},
     "output_type": "execute_result"
    }
   ],
   "source": [
    "mean_absolute_error(y_test, rf_grid_cv.best_estimator_.predict(X_test))"
   ]
  },
  {
   "cell_type": "markdown",
   "id": "9b852753",
   "metadata": {},
   "source": [
    "## Conclusion"
   ]
  },
  {
   "cell_type": "markdown",
   "id": "80859b8e",
   "metadata": {},
   "source": [
    "The random forest model has a lower cross-validation mean absolute error by almost $90000. It also exhibits less variability. Verifying performance on the test set produces performance consistent with the cross-validation results."
   ]
  },
  {
   "cell_type": "markdown",
   "id": "5b68b172",
   "metadata": {},
   "source": [
    "### Data quantity assessment"
   ]
  },
  {
   "cell_type": "code",
   "execution_count": 366,
   "id": "217d77e9",
   "metadata": {},
   "outputs": [],
   "source": [
    "fractions = [.2, .25, .3, .35, .4, .45, .5, .6, .75, .8, 1.0]\n",
    "train_size, train_scores, test_scores = learning_curve(pipe15, X_train, y_train, train_sizes=fractions)\n",
    "train_scores_mean = np.mean(train_scores, axis=1)\n",
    "train_scores_std = np.std(train_scores, axis=1)\n",
    "test_scores_mean = np.mean(test_scores, axis=1)\n",
    "test_scores_std = np.std(test_scores, axis=1)"
   ]
  },
  {
   "cell_type": "code",
   "execution_count": 367,
   "id": "ab33c78a",
   "metadata": {},
   "outputs": [
    {
     "data": {
      "image/png": "[encoded data removed]",
      "text/plain": [
       "<Figure size 1000x500 with 1 Axes>"
      ]
     },
     "metadata": {},
     "output_type": "display_data"
    }
   ],
   "source": [
    "plt.subplots(figsize=(10, 5))\n",
    "plt.errorbar(train_size, test_scores_mean, yerr=test_scores_std)\n",
    "plt.xlabel('Training set size')\n",
    "plt.ylabel('CV scores')\n",
    "plt.title('Cross-validation score as training set size increases');"
   ]
  },
  {
   "cell_type": "markdown",
   "id": "072e0d76",
   "metadata": {},
   "source": [
    "This shows that I seem to have plenty of data. There's an initial rapid improvement in model scores as one would expect, but it's essentially levelled off by around a sample size of 450-500."
   ]
  },
  {
   "cell_type": "markdown",
   "id": "0cae3451",
   "metadata": {},
   "source": [
    "Save best model object from pipeline"
   ]
  },
  {
   "cell_type": "code",
   "execution_count": 357,
   "id": "0c889fe1",
   "metadata": {},
   "outputs": [],
   "source": [
    "#Let's call this model version '1.0'\n",
    "best_model = rf_grid_cv.best_estimator_\n",
    "best_model.version = 1.0\n",
    "best_model.pandas_version = pd.__version__\n",
    "best_model.numpy_version = np.__version__\n",
    "best_model.sklearn_version = sklearn_version\n",
    "best_model.X_columns = [col for col in X_train.columns]\n",
    "best_model.build_datetime = datetime.datetime.now()"
   ]
  },
  {
   "cell_type": "code",
   "execution_count": 358,
   "id": "cbc30970",
   "metadata": {},
   "outputs": [],
   "source": [
    "import pandas as pd\n",
    "import os\n",
    "import pickle\n",
    "    \n",
    "    \n",
    "# This utility was created because students were getting confused when they ran \n",
    "# their notebooks twice, the previous write-to-file code would do nothing and say  \n",
    "# nothing. The students thought the file was over-written when in fact, it was not -\n",
    "# generating hidden bugs in subsequent notebooks.\n",
    "\n",
    "def save_file(data, fname, dname):\n",
    "    \"\"\"Save a datafile (data) to a specific location (dname) and filename (fname)\n",
    "    \n",
    "    Currently valid formats are limited to CSV or PKL.\"\"\"\n",
    "    \n",
    "    if not os.path.exists(dname):\n",
    "        os.mkdir(dname)\n",
    "        print(f'Directory {dname} was created.')\n",
    "        \n",
    "    fpath = os.path.join(dname, fname)\n",
    "    \n",
    "    \n",
    "    if os.path.exists(fpath):\n",
    "        print(\"A file already exists with this name.\\n\")\n",
    "\n",
    "        yesno = None\n",
    "        while yesno != \"Y\" and yesno != \"N\":\n",
    "            yesno = input('Do you want to overwrite? (Y/N)').strip()[0].capitalize()\n",
    "            if yesno == \"Y\":\n",
    "                print(f'Writing file.  \"{fpath}\"')\n",
    "                _save_file(data, fpath)\n",
    "                break  # Not required\n",
    "            elif yesno == \"N\":\n",
    "                print('\\nPlease re-run this cell with a new filename.')\n",
    "                break  # Not required\n",
    "            else:\n",
    "                print('\\nUnknown input, please enter \"Y\" or \"N\".')\n",
    "\n",
    "    else:  # path does not exist, ok to save the file\n",
    "        print(f'Writing file.  \"{fpath}\"')\n",
    "        _save_file(data, fpath)\n",
    "        \n",
    "        \n",
    "        \n",
    "        \n",
    "        \n",
    "        \n",
    "def _save_file(data, fpath):\n",
    "    valid_ftypes = ['.csv', '.pkl']\n",
    "    \n",
    "    assert (fpath[-4:] in valid_ftypes), \"Invalid file type.  Use '.csv' or '.pkl'\"\n",
    "\n",
    "    # Figure out what kind of file we're dealing with by name\n",
    "    if fpath[-3:] == 'csv':\n",
    "        data.to_csv(fpath, index=False)\n",
    "    elif fpath[-3:] == 'pkl':\n",
    "        with open(fpath, 'wb') as f:\n",
    "            pickle.dump(data, f)\n",
    "            "
   ]
  },
  {
   "cell_type": "code",
   "execution_count": 360,
   "id": "73ff40fb",
   "metadata": {},
   "outputs": [
    {
     "name": "stdout",
     "output_type": "stream",
     "text": [
      "A file already exists with this name.\n",
      "\n",
      "Do you want to overwrite? (Y/N)Y\n",
      "Writing file.  \"../Models\\housing_pricing_model.pkl\"\n"
     ]
    }
   ],
   "source": [
    "# save the model\n",
    "\n",
    "modelpath = '../Models'\n",
    "save_file(best_model, 'housing_pricing_model.pkl', modelpath)"
   ]
  },
  {
   "cell_type": "markdown",
   "id": "caaddad6",
   "metadata": {},
   "source": [
    "## Summary"
   ]
  },
  {
   "cell_type": "markdown",
   "id": "eb4855c7",
   "metadata": {},
   "source": [
    "Summary preprocessing and training\n",
    "\n",
    "In this notebook I focused on pre-processing and training a model to obtain the Sold_Price ticket based on most significant listing features. To gain a baseline idea of performance of the model, first I use the average Sold_Price as a predictor and assess its performance. This first model represents the baseline performance comparison for subsequent models. \n",
    "To prevent data leakage, I removed the following columns:\n",
    "\n",
    "    -\tList_Price\n",
    "    -\tdiff_List_Sold\n",
    "    -\tPrice_per_SqFt\n",
    "\n",
    "These columns contained the sold price, implicitly.\n",
    "\n",
    "Next, I searched for NaN values in the dataset. HOA_Fee feature was the only one containin NaN values. I replaced those with zero. \n",
    "\n",
    "Next, I used dummy variables to turn 11 features with categorical values into numerical. The dataframe shape is now (3117, 64) for a total of 64 columns (features) \n",
    "\n",
    "Next, I partitioned the data in a training and a test data set using a 70/30 train/test split. Target variable is Sold_Price. \n",
    "\n",
    "The average Sold_Price is $649888 for trained data (X_train, y_train), calculated both with mean() method and by using DummyRegressor class from sklearn  calling (strategy = ‘mean’) This is a baseline to compare against.\n",
    "\n",
    "**Metrics:**\n",
    "To assess prediction errors. The R_squared, MAE and MSE metrics were considered and were calculated using both functions defining the metrics and the built in sklearn.metrics module \n",
    "\n",
    "#### First Metric considered: R-squared (coef of determination)\n",
    "\n",
    "Using mean value of Sold_Price for `predict` method in scikit-learn (sklearn) I obtain a predicted Sold_Price value of 649888 (target value)\n",
    "\n",
    "Evidently, if error between the mean value and predicted mean value is zero (649888 – 649888)\n",
    "Therefore, the R_squared(y_train, y_tr_pred) = 0\n",
    "\n",
    "Following the same steps on the test set, I obtain R_squared = -0.078 as expected, since the calculation is done on unseen data. \n",
    "\n",
    "#### Second Metric considered: MAE (Mean Absolute Error)\n",
    "\n",
    "    mae(y_train, y_tr_pred) = 347574.78\n",
    "    \n",
    "    mae(y_test, y_te_pred) = 313711.92, \n",
    "\n",
    "which is surprisingly less then mae calculated on train data. This can be attributed to chance. A cross validation method performed on 1000 different train/test splits can shed more light on interpretation of this result.\n",
    "\n",
    "#### Third Metric considered: MSE (Mean Squarred Error)\n",
    "\n",
    "    mae(y_train, y_tr_pred) = 407213445225\n",
    "    \n",
    "    mae(y_test, y_te_pred) = 306122830945\n",
    "\n",
    "same conclusion as for Mae.\n",
    "\n",
    "### Initial Models\n",
    "\n",
    "#### First model:  Linear Regression\n",
    "\n",
    "To build models I have to process the dataframe by scaling, training the model, make predictions, and assess the model performance. \n",
    "\n",
    "Target values were predicted by linear regression model as `y_tr_pred` and `y_te_pred` for training and test data, respectively. \n",
    "\n",
    "Assessing the linear model performance by using the 3 metrics R_squared, MAE, and MSE, I get the results below:\n",
    "\n",
    "    R_squared(y_train, y_tr_pred) = 0.678\n",
    "    \n",
    "    R_squared(y_test, y_te_pred) = 0.62\n",
    "    \n",
    "\n",
    "    mae(y_train, y_tr_pred) = 215710\n",
    "    \n",
    "    mae(y_test, y_te_pred) = 193058\n",
    "    \n",
    "\n",
    "    mse(y_train, y_tr_pred) = 130820474427\n",
    "    \n",
    "    mse(y_test, y_te_pred) = 115192399208\n",
    "    \n",
    "\n",
    "Next I use a pipeline to combine a sequence of data transformation steps. I use a features selection function in the pipeline to select the 5 best features. The feature ranking selection is performed using the f_regression statistical method (based on F-statistic)\n",
    "Assessing the model performance by using the 3 metrics R_squared, MAE, and MSE\n",
    "\n",
    "    R_squared(y_train, y_tr_pred) = 0.648\n",
    "    \n",
    "    R_squared(y_test, y_te_pred) = 0.595\n",
    "\n",
    "\n",
    "    mae(y_train, y_tr_pred) = 218657\n",
    "    \n",
    "    mae(y_test, y_te_pred) = 199089\n",
    "\n",
    "\n",
    "    mse(y_train, y_tr_pred) = 143050188547\n",
    "    \n",
    "    mse(y_test, y_te_pred) = 122793575291\n",
    "\n",
    "These metrics results with 5 best features are worse than linear regression model where all features were used.\n",
    "\n",
    "### Refining the Linear model (with the 5 best features)\n",
    "\n",
    "To optimize model performance, I use 5 folds cross validation on the linear regression model with 5 best 5 features.\n",
    "The 5 folds ‘test_score’ results are:\n",
    "\n",
    "    array([0.6891245 , 0.6951945 , 0.66614678, 0.58246098, 0.586157  ])\n",
    "\n",
    " with a mean value of 0.64 and standard deviation of 0.049\n",
    "A 95% confidence interval (plus minus 2 stdev) is 0.54 and 0.74.\n",
    "\n",
    "### Hyperparameter search using GridSearchCV\n",
    "\n",
    "The gridsearch found 53 best hyper parameters (best estimators) out of 63 features\n",
    "\n",
    "\n",
    "#### Second model:  Random Forest\n",
    "\n",
    "A 5 folds cross validation resulted in following cv_scores:\n",
    "\n",
    "    array([0.77760362, 0.82047775, 0.81603759, 0.76456221, 0.64973281])\n",
    "\n",
    "with a mean value of 0.76 and standard deviation of 0.061\n",
    "\n",
    "### Hyperparameter search in Random Forest model using GridSearchCV\n",
    "\n",
    "A total of 10 best estimators out of 63 features. \n",
    "\n",
    "A 5 folds cross validation resulted in following rf_cv_scores:\n",
    "\n",
    "    array([0.77734116, 0.81865622, 0.81868139, 0.76498567, 0.65513212])\n",
    "\n",
    "with a mean value of 0.76 and standard deviation of 0.059, only slight improvement in stdev.\n",
    "\n",
    "### Final Model selection\n",
    "\n",
    "Using negative of mean absolute error\n",
    "Linear regression: \n",
    "\n",
    "    mean test scores: 223020, \n",
    "    \n",
    "    mean stdev = 6665\n",
    "    \n",
    "    mae = 192875\n",
    "\n",
    "\n",
    "Random Forest regression performance test: \n",
    "\n",
    "    mean test scores: 129268, \n",
    "    \n",
    "    mean stdev = 5195\n",
    "    \n",
    "    mae = 101292\n",
    "\n",
    "The random forest model has a lower cross-validation mean absolute error by almost $90000. It also exhibits less variability. Verifying performance on the test set produces performance consistent with the cross-validation results.\n",
    "\n",
    "### Data quantity assessment\n",
    "Cross validation score as training set size increases shows  I seem to have plenty of data. There's an initial rapid improvement in model scores as one would expect, but it's essentially levelled off by around a sample size of 450-500.\n"
   ]
  },
  {
   "cell_type": "code",
   "execution_count": null,
   "id": "cf1e2c79",
   "metadata": {},
   "outputs": [],
   "source": []
  }
 ],
 "metadata": {
  "kernelspec": {
   "display_name": "Python 3 (ipykernel)",
   "language": "python",
   "name": "python3"
  },
  "language_info": {
   "codemirror_mode": {
    "name": "ipython",
    "version": 3
   },
   "file_extension": ".py",
   "mimetype": "text/x-python",
   "name": "python",
   "nbconvert_exporter": "python",
   "pygments_lexer": "ipython3",
   "version": "3.11.7"
  }
 },
 "nbformat": 4,
 "nbformat_minor": 5
}
