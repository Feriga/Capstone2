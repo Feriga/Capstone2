{
 "cells": [
  {
   "cell_type": "code",
   "execution_count": 5,
   "id": "67d011d8",
   "metadata": {},
   "outputs": [],
   "source": [
    "import pandas as pd\n",
    "import numpy as np\n",
    "import os\n",
    "import pickle\n",
    "import matplotlib.pyplot as plt\n",
    "import seaborn as sns\n",
    "from sklearn import __version__ as sklearn_version\n",
    "from sklearn.model_selection import cross_validate"
   ]
  },
  {
   "cell_type": "code",
   "execution_count": 6,
   "id": "9d470110",
   "metadata": {},
   "outputs": [
    {
     "name": "stdout",
     "output_type": "stream",
     "text": [
      "Expected model version doesn't match version loaded\n"
     ]
    }
   ],
   "source": [
    "# This isn't exactly production-grade, but a quick check for development\n",
    "# These checks can save some head-scratching in development when moving from\n",
    "# one python environment to another, for example\n",
    "expected_model_version = '1.0'\n",
    "model_path = '../models/housing_pricing_model.pkl'\n",
    "if os.path.exists(model_path):\n",
    "    with open(model_path, 'rb') as f:\n",
    "        model = pickle.load(f)\n",
    "    if model.version != expected_model_version:\n",
    "        print(\"Expected model version doesn't match version loaded\")\n",
    "    if model.sklearn_version != sklearn_version:\n",
    "        print(\"Warning: model created under different sklearn version\")\n",
    "else:\n",
    "    print(\"Expected model not found\")"
   ]
  },
  {
   "cell_type": "markdown",
   "id": "9d1a3120",
   "metadata": {},
   "source": [
    "## Load Data<a id='5.5_Load_Data'></a>"
   ]
  },
  {
   "cell_type": "code",
   "execution_count": 20,
   "id": "7083f88c",
   "metadata": {},
   "outputs": [
    {
     "data": {
      "text/html": [
       "<div>\n",
       "<style scoped>\n",
       "    .dataframe tbody tr th:only-of-type {\n",
       "        vertical-align: middle;\n",
       "    }\n",
       "\n",
       "    .dataframe tbody tr th {\n",
       "        vertical-align: top;\n",
       "    }\n",
       "\n",
       "    .dataframe thead th {\n",
       "        text-align: right;\n",
       "    }\n",
       "</style>\n",
       "<table border=\"1\" class=\"dataframe\">\n",
       "  <thead>\n",
       "    <tr style=\"text-align: right;\">\n",
       "      <th></th>\n",
       "      <th>Zip_Code</th>\n",
       "      <th>Nr_Bedrooms</th>\n",
       "      <th>Nr_Bathrooms</th>\n",
       "      <th>Approx_SQFT</th>\n",
       "      <th>Year_Built</th>\n",
       "      <th>Approx_Lot_SqFt</th>\n",
       "      <th>HOA_Fee</th>\n",
       "      <th>Sold_Price</th>\n",
       "      <th>Garage_Spaces</th>\n",
       "      <th>Carport_Spaces</th>\n",
       "      <th>...</th>\n",
       "      <th>Loan_Other</th>\n",
       "      <th>Loan_USDA</th>\n",
       "      <th>Loan_VA</th>\n",
       "      <th>Payment_Adjustable</th>\n",
       "      <th>Payment_Balloon</th>\n",
       "      <th>Payment_Fixed</th>\n",
       "      <th>Payment_Graduated</th>\n",
       "      <th>Payment_Interest Only</th>\n",
       "      <th>Payment_Missing</th>\n",
       "      <th>Payment_Other</th>\n",
       "    </tr>\n",
       "  </thead>\n",
       "  <tbody>\n",
       "    <tr>\n",
       "      <th>0</th>\n",
       "      <td>85003</td>\n",
       "      <td>1</td>\n",
       "      <td>1.00</td>\n",
       "      <td>720</td>\n",
       "      <td>1964</td>\n",
       "      <td>652</td>\n",
       "      <td>567.00</td>\n",
       "      <td>245000</td>\n",
       "      <td>0.0</td>\n",
       "      <td>1.0</td>\n",
       "      <td>...</td>\n",
       "      <td>0</td>\n",
       "      <td>0</td>\n",
       "      <td>0</td>\n",
       "      <td>0</td>\n",
       "      <td>0</td>\n",
       "      <td>1</td>\n",
       "      <td>0</td>\n",
       "      <td>0</td>\n",
       "      <td>0</td>\n",
       "      <td>0</td>\n",
       "    </tr>\n",
       "    <tr>\n",
       "      <th>1</th>\n",
       "      <td>85003</td>\n",
       "      <td>1</td>\n",
       "      <td>1.00</td>\n",
       "      <td>755</td>\n",
       "      <td>2005</td>\n",
       "      <td>751</td>\n",
       "      <td>631.00</td>\n",
       "      <td>325000</td>\n",
       "      <td>0.0</td>\n",
       "      <td>0.0</td>\n",
       "      <td>...</td>\n",
       "      <td>0</td>\n",
       "      <td>0</td>\n",
       "      <td>1</td>\n",
       "      <td>0</td>\n",
       "      <td>0</td>\n",
       "      <td>1</td>\n",
       "      <td>0</td>\n",
       "      <td>0</td>\n",
       "      <td>0</td>\n",
       "      <td>0</td>\n",
       "    </tr>\n",
       "    <tr>\n",
       "      <th>2</th>\n",
       "      <td>85003</td>\n",
       "      <td>4</td>\n",
       "      <td>3.00</td>\n",
       "      <td>3415</td>\n",
       "      <td>1940</td>\n",
       "      <td>11696</td>\n",
       "      <td>555.63</td>\n",
       "      <td>1500000</td>\n",
       "      <td>2.0</td>\n",
       "      <td>0.0</td>\n",
       "      <td>...</td>\n",
       "      <td>0</td>\n",
       "      <td>0</td>\n",
       "      <td>0</td>\n",
       "      <td>0</td>\n",
       "      <td>0</td>\n",
       "      <td>1</td>\n",
       "      <td>0</td>\n",
       "      <td>0</td>\n",
       "      <td>0</td>\n",
       "      <td>0</td>\n",
       "    </tr>\n",
       "    <tr>\n",
       "      <th>3</th>\n",
       "      <td>85003</td>\n",
       "      <td>1</td>\n",
       "      <td>1.00</td>\n",
       "      <td>710</td>\n",
       "      <td>2005</td>\n",
       "      <td>0</td>\n",
       "      <td>671.17</td>\n",
       "      <td>310000</td>\n",
       "      <td>0.0</td>\n",
       "      <td>0.0</td>\n",
       "      <td>...</td>\n",
       "      <td>0</td>\n",
       "      <td>0</td>\n",
       "      <td>0</td>\n",
       "      <td>1</td>\n",
       "      <td>0</td>\n",
       "      <td>0</td>\n",
       "      <td>0</td>\n",
       "      <td>0</td>\n",
       "      <td>0</td>\n",
       "      <td>0</td>\n",
       "    </tr>\n",
       "    <tr>\n",
       "      <th>4</th>\n",
       "      <td>85003</td>\n",
       "      <td>2</td>\n",
       "      <td>2.50</td>\n",
       "      <td>1510</td>\n",
       "      <td>2007</td>\n",
       "      <td>654</td>\n",
       "      <td>567.93</td>\n",
       "      <td>475000</td>\n",
       "      <td>2.0</td>\n",
       "      <td>0.0</td>\n",
       "      <td>...</td>\n",
       "      <td>0</td>\n",
       "      <td>0</td>\n",
       "      <td>0</td>\n",
       "      <td>0</td>\n",
       "      <td>0</td>\n",
       "      <td>1</td>\n",
       "      <td>0</td>\n",
       "      <td>0</td>\n",
       "      <td>0</td>\n",
       "      <td>0</td>\n",
       "    </tr>\n",
       "    <tr>\n",
       "      <th>5</th>\n",
       "      <td>85003</td>\n",
       "      <td>1</td>\n",
       "      <td>1.00</td>\n",
       "      <td>893</td>\n",
       "      <td>2016</td>\n",
       "      <td>820</td>\n",
       "      <td>1280.40</td>\n",
       "      <td>600000</td>\n",
       "      <td>1.0</td>\n",
       "      <td>0.0</td>\n",
       "      <td>...</td>\n",
       "      <td>0</td>\n",
       "      <td>0</td>\n",
       "      <td>0</td>\n",
       "      <td>0</td>\n",
       "      <td>0</td>\n",
       "      <td>1</td>\n",
       "      <td>0</td>\n",
       "      <td>0</td>\n",
       "      <td>0</td>\n",
       "      <td>0</td>\n",
       "    </tr>\n",
       "    <tr>\n",
       "      <th>6</th>\n",
       "      <td>85004</td>\n",
       "      <td>2</td>\n",
       "      <td>1.75</td>\n",
       "      <td>1456</td>\n",
       "      <td>1964</td>\n",
       "      <td>148</td>\n",
       "      <td>761.81</td>\n",
       "      <td>505000</td>\n",
       "      <td>1.0</td>\n",
       "      <td>0.0</td>\n",
       "      <td>...</td>\n",
       "      <td>0</td>\n",
       "      <td>0</td>\n",
       "      <td>0</td>\n",
       "      <td>0</td>\n",
       "      <td>0</td>\n",
       "      <td>1</td>\n",
       "      <td>0</td>\n",
       "      <td>0</td>\n",
       "      <td>0</td>\n",
       "      <td>0</td>\n",
       "    </tr>\n",
       "    <tr>\n",
       "      <th>7</th>\n",
       "      <td>85004</td>\n",
       "      <td>2</td>\n",
       "      <td>2.50</td>\n",
       "      <td>1463</td>\n",
       "      <td>2007</td>\n",
       "      <td>1558</td>\n",
       "      <td>693.77</td>\n",
       "      <td>557000</td>\n",
       "      <td>1.0</td>\n",
       "      <td>0.0</td>\n",
       "      <td>...</td>\n",
       "      <td>0</td>\n",
       "      <td>0</td>\n",
       "      <td>0</td>\n",
       "      <td>0</td>\n",
       "      <td>0</td>\n",
       "      <td>1</td>\n",
       "      <td>0</td>\n",
       "      <td>0</td>\n",
       "      <td>0</td>\n",
       "      <td>0</td>\n",
       "    </tr>\n",
       "    <tr>\n",
       "      <th>8</th>\n",
       "      <td>85004</td>\n",
       "      <td>2</td>\n",
       "      <td>2.00</td>\n",
       "      <td>1624</td>\n",
       "      <td>2004</td>\n",
       "      <td>924</td>\n",
       "      <td>1280.40</td>\n",
       "      <td>575000</td>\n",
       "      <td>2.0</td>\n",
       "      <td>0.0</td>\n",
       "      <td>...</td>\n",
       "      <td>0</td>\n",
       "      <td>0</td>\n",
       "      <td>0</td>\n",
       "      <td>0</td>\n",
       "      <td>0</td>\n",
       "      <td>1</td>\n",
       "      <td>0</td>\n",
       "      <td>0</td>\n",
       "      <td>0</td>\n",
       "      <td>0</td>\n",
       "    </tr>\n",
       "    <tr>\n",
       "      <th>9</th>\n",
       "      <td>85004</td>\n",
       "      <td>2</td>\n",
       "      <td>1.75</td>\n",
       "      <td>1456</td>\n",
       "      <td>1964</td>\n",
       "      <td>148</td>\n",
       "      <td>761.81</td>\n",
       "      <td>505000</td>\n",
       "      <td>1.0</td>\n",
       "      <td>0.0</td>\n",
       "      <td>...</td>\n",
       "      <td>0</td>\n",
       "      <td>0</td>\n",
       "      <td>0</td>\n",
       "      <td>0</td>\n",
       "      <td>0</td>\n",
       "      <td>1</td>\n",
       "      <td>0</td>\n",
       "      <td>0</td>\n",
       "      <td>0</td>\n",
       "      <td>0</td>\n",
       "    </tr>\n",
       "  </tbody>\n",
       "</table>\n",
       "<p>10 rows × 63 columns</p>\n",
       "</div>"
      ],
      "text/plain": [
       "   Zip_Code  Nr_Bedrooms  Nr_Bathrooms  Approx_SQFT  Year_Built  \\\n",
       "0     85003            1          1.00          720        1964   \n",
       "1     85003            1          1.00          755        2005   \n",
       "2     85003            4          3.00         3415        1940   \n",
       "3     85003            1          1.00          710        2005   \n",
       "4     85003            2          2.50         1510        2007   \n",
       "5     85003            1          1.00          893        2016   \n",
       "6     85004            2          1.75         1456        1964   \n",
       "7     85004            2          2.50         1463        2007   \n",
       "8     85004            2          2.00         1624        2004   \n",
       "9     85004            2          1.75         1456        1964   \n",
       "\n",
       "   Approx_Lot_SqFt  HOA_Fee  Sold_Price  Garage_Spaces  Carport_Spaces  ...  \\\n",
       "0              652   567.00      245000            0.0             1.0  ...   \n",
       "1              751   631.00      325000            0.0             0.0  ...   \n",
       "2            11696   555.63     1500000            2.0             0.0  ...   \n",
       "3                0   671.17      310000            0.0             0.0  ...   \n",
       "4              654   567.93      475000            2.0             0.0  ...   \n",
       "5              820  1280.40      600000            1.0             0.0  ...   \n",
       "6              148   761.81      505000            1.0             0.0  ...   \n",
       "7             1558   693.77      557000            1.0             0.0  ...   \n",
       "8              924  1280.40      575000            2.0             0.0  ...   \n",
       "9              148   761.81      505000            1.0             0.0  ...   \n",
       "\n",
       "   Loan_Other  Loan_USDA  Loan_VA  Payment_Adjustable  Payment_Balloon  \\\n",
       "0           0          0        0                   0                0   \n",
       "1           0          0        1                   0                0   \n",
       "2           0          0        0                   0                0   \n",
       "3           0          0        0                   1                0   \n",
       "4           0          0        0                   0                0   \n",
       "5           0          0        0                   0                0   \n",
       "6           0          0        0                   0                0   \n",
       "7           0          0        0                   0                0   \n",
       "8           0          0        0                   0                0   \n",
       "9           0          0        0                   0                0   \n",
       "\n",
       "   Payment_Fixed  Payment_Graduated  Payment_Interest Only  Payment_Missing  \\\n",
       "0              1                  0                      0                0   \n",
       "1              1                  0                      0                0   \n",
       "2              1                  0                      0                0   \n",
       "3              0                  0                      0                0   \n",
       "4              1                  0                      0                0   \n",
       "5              1                  0                      0                0   \n",
       "6              1                  0                      0                0   \n",
       "7              1                  0                      0                0   \n",
       "8              1                  0                      0                0   \n",
       "9              1                  0                      0                0   \n",
       "\n",
       "   Payment_Other  \n",
       "0              0  \n",
       "1              0  \n",
       "2              0  \n",
       "3              0  \n",
       "4              0  \n",
       "5              0  \n",
       "6              0  \n",
       "7              0  \n",
       "8              0  \n",
       "9              0  \n",
       "\n",
       "[10 rows x 63 columns]"
      ]
     },
     "execution_count": 20,
     "metadata": {},
     "output_type": "execute_result"
    }
   ],
   "source": [
    "housing_data = pd.read_csv('../data/housing_data_step3_features.csv')\n",
    "housing_data.head(10)"
   ]
  },
  {
   "cell_type": "markdown",
   "id": "c64ae586",
   "metadata": {},
   "source": [
    "Create a variable containing all listings sold for $600,000"
   ]
  },
  {
   "cell_type": "code",
   "execution_count": 21,
   "id": "4c546e64",
   "metadata": {},
   "outputs": [],
   "source": [
    "Sold_Price_600000 = housing_data[housing_data.Sold_Price == 600000]"
   ]
  },
  {
   "cell_type": "code",
   "execution_count": 22,
   "id": "297b4069",
   "metadata": {},
   "outputs": [
    {
     "data": {
      "text/html": [
       "<div>\n",
       "<style scoped>\n",
       "    .dataframe tbody tr th:only-of-type {\n",
       "        vertical-align: middle;\n",
       "    }\n",
       "\n",
       "    .dataframe tbody tr th {\n",
       "        vertical-align: top;\n",
       "    }\n",
       "\n",
       "    .dataframe thead th {\n",
       "        text-align: right;\n",
       "    }\n",
       "</style>\n",
       "<table border=\"1\" class=\"dataframe\">\n",
       "  <thead>\n",
       "    <tr style=\"text-align: right;\">\n",
       "      <th></th>\n",
       "      <th>5</th>\n",
       "      <th>488</th>\n",
       "      <th>503</th>\n",
       "      <th>846</th>\n",
       "      <th>1359</th>\n",
       "      <th>1821</th>\n",
       "      <th>1957</th>\n",
       "      <th>1982</th>\n",
       "      <th>2044</th>\n",
       "      <th>2147</th>\n",
       "      <th>2199</th>\n",
       "      <th>2509</th>\n",
       "      <th>2554</th>\n",
       "      <th>2610</th>\n",
       "      <th>2659</th>\n",
       "      <th>2679</th>\n",
       "      <th>2786</th>\n",
       "    </tr>\n",
       "  </thead>\n",
       "  <tbody>\n",
       "    <tr>\n",
       "      <th>Zip_Code</th>\n",
       "      <td>85003.0</td>\n",
       "      <td>85028.0</td>\n",
       "      <td>85028.0</td>\n",
       "      <td>85048.0</td>\n",
       "      <td>85202.0</td>\n",
       "      <td>85212.0</td>\n",
       "      <td>85225.0</td>\n",
       "      <td>85225.0</td>\n",
       "      <td>85233.0</td>\n",
       "      <td>85249.0</td>\n",
       "      <td>85249.0</td>\n",
       "      <td>85257.0</td>\n",
       "      <td>85258.0</td>\n",
       "      <td>85259.0</td>\n",
       "      <td>85260.0</td>\n",
       "      <td>85260.0</td>\n",
       "      <td>85268.0</td>\n",
       "    </tr>\n",
       "    <tr>\n",
       "      <th>Nr_Bedrooms</th>\n",
       "      <td>1.0</td>\n",
       "      <td>4.0</td>\n",
       "      <td>3.0</td>\n",
       "      <td>3.0</td>\n",
       "      <td>3.0</td>\n",
       "      <td>4.0</td>\n",
       "      <td>4.0</td>\n",
       "      <td>4.0</td>\n",
       "      <td>4.0</td>\n",
       "      <td>3.0</td>\n",
       "      <td>3.0</td>\n",
       "      <td>3.0</td>\n",
       "      <td>2.0</td>\n",
       "      <td>3.0</td>\n",
       "      <td>3.0</td>\n",
       "      <td>3.0</td>\n",
       "      <td>3.0</td>\n",
       "    </tr>\n",
       "    <tr>\n",
       "      <th>Nr_Bathrooms</th>\n",
       "      <td>1.0</td>\n",
       "      <td>2.5</td>\n",
       "      <td>2.0</td>\n",
       "      <td>2.5</td>\n",
       "      <td>2.0</td>\n",
       "      <td>3.5</td>\n",
       "      <td>2.5</td>\n",
       "      <td>2.0</td>\n",
       "      <td>2.0</td>\n",
       "      <td>2.0</td>\n",
       "      <td>2.0</td>\n",
       "      <td>2.0</td>\n",
       "      <td>2.0</td>\n",
       "      <td>2.0</td>\n",
       "      <td>2.0</td>\n",
       "      <td>2.0</td>\n",
       "      <td>2.5</td>\n",
       "    </tr>\n",
       "    <tr>\n",
       "      <th>Approx_SQFT</th>\n",
       "      <td>893.0</td>\n",
       "      <td>2072.0</td>\n",
       "      <td>1706.0</td>\n",
       "      <td>2331.0</td>\n",
       "      <td>1672.0</td>\n",
       "      <td>3050.0</td>\n",
       "      <td>2957.0</td>\n",
       "      <td>2288.0</td>\n",
       "      <td>1818.0</td>\n",
       "      <td>2185.0</td>\n",
       "      <td>1845.0</td>\n",
       "      <td>1604.0</td>\n",
       "      <td>1104.0</td>\n",
       "      <td>1735.0</td>\n",
       "      <td>1938.0</td>\n",
       "      <td>1938.0</td>\n",
       "      <td>2132.0</td>\n",
       "    </tr>\n",
       "    <tr>\n",
       "      <th>Year_Built</th>\n",
       "      <td>2016.0</td>\n",
       "      <td>1971.0</td>\n",
       "      <td>1971.0</td>\n",
       "      <td>1986.0</td>\n",
       "      <td>1976.0</td>\n",
       "      <td>2020.0</td>\n",
       "      <td>1993.0</td>\n",
       "      <td>1999.0</td>\n",
       "      <td>1993.0</td>\n",
       "      <td>2004.0</td>\n",
       "      <td>2013.0</td>\n",
       "      <td>1969.0</td>\n",
       "      <td>1987.0</td>\n",
       "      <td>2006.0</td>\n",
       "      <td>1981.0</td>\n",
       "      <td>1981.0</td>\n",
       "      <td>2003.0</td>\n",
       "    </tr>\n",
       "    <tr>\n",
       "      <th>...</th>\n",
       "      <td>...</td>\n",
       "      <td>...</td>\n",
       "      <td>...</td>\n",
       "      <td>...</td>\n",
       "      <td>...</td>\n",
       "      <td>...</td>\n",
       "      <td>...</td>\n",
       "      <td>...</td>\n",
       "      <td>...</td>\n",
       "      <td>...</td>\n",
       "      <td>...</td>\n",
       "      <td>...</td>\n",
       "      <td>...</td>\n",
       "      <td>...</td>\n",
       "      <td>...</td>\n",
       "      <td>...</td>\n",
       "      <td>...</td>\n",
       "    </tr>\n",
       "    <tr>\n",
       "      <th>Payment_Fixed</th>\n",
       "      <td>1.0</td>\n",
       "      <td>1.0</td>\n",
       "      <td>0.0</td>\n",
       "      <td>0.0</td>\n",
       "      <td>0.0</td>\n",
       "      <td>0.0</td>\n",
       "      <td>0.0</td>\n",
       "      <td>1.0</td>\n",
       "      <td>1.0</td>\n",
       "      <td>1.0</td>\n",
       "      <td>1.0</td>\n",
       "      <td>0.0</td>\n",
       "      <td>0.0</td>\n",
       "      <td>1.0</td>\n",
       "      <td>1.0</td>\n",
       "      <td>1.0</td>\n",
       "      <td>1.0</td>\n",
       "    </tr>\n",
       "    <tr>\n",
       "      <th>Payment_Graduated</th>\n",
       "      <td>0.0</td>\n",
       "      <td>0.0</td>\n",
       "      <td>0.0</td>\n",
       "      <td>0.0</td>\n",
       "      <td>0.0</td>\n",
       "      <td>0.0</td>\n",
       "      <td>0.0</td>\n",
       "      <td>0.0</td>\n",
       "      <td>0.0</td>\n",
       "      <td>0.0</td>\n",
       "      <td>0.0</td>\n",
       "      <td>0.0</td>\n",
       "      <td>0.0</td>\n",
       "      <td>0.0</td>\n",
       "      <td>0.0</td>\n",
       "      <td>0.0</td>\n",
       "      <td>0.0</td>\n",
       "    </tr>\n",
       "    <tr>\n",
       "      <th>Payment_Interest Only</th>\n",
       "      <td>0.0</td>\n",
       "      <td>0.0</td>\n",
       "      <td>0.0</td>\n",
       "      <td>0.0</td>\n",
       "      <td>0.0</td>\n",
       "      <td>0.0</td>\n",
       "      <td>0.0</td>\n",
       "      <td>0.0</td>\n",
       "      <td>0.0</td>\n",
       "      <td>0.0</td>\n",
       "      <td>0.0</td>\n",
       "      <td>0.0</td>\n",
       "      <td>0.0</td>\n",
       "      <td>0.0</td>\n",
       "      <td>0.0</td>\n",
       "      <td>0.0</td>\n",
       "      <td>0.0</td>\n",
       "    </tr>\n",
       "    <tr>\n",
       "      <th>Payment_Missing</th>\n",
       "      <td>0.0</td>\n",
       "      <td>0.0</td>\n",
       "      <td>1.0</td>\n",
       "      <td>1.0</td>\n",
       "      <td>1.0</td>\n",
       "      <td>1.0</td>\n",
       "      <td>0.0</td>\n",
       "      <td>0.0</td>\n",
       "      <td>0.0</td>\n",
       "      <td>0.0</td>\n",
       "      <td>0.0</td>\n",
       "      <td>0.0</td>\n",
       "      <td>1.0</td>\n",
       "      <td>0.0</td>\n",
       "      <td>0.0</td>\n",
       "      <td>0.0</td>\n",
       "      <td>0.0</td>\n",
       "    </tr>\n",
       "    <tr>\n",
       "      <th>Payment_Other</th>\n",
       "      <td>0.0</td>\n",
       "      <td>0.0</td>\n",
       "      <td>0.0</td>\n",
       "      <td>0.0</td>\n",
       "      <td>0.0</td>\n",
       "      <td>0.0</td>\n",
       "      <td>1.0</td>\n",
       "      <td>0.0</td>\n",
       "      <td>0.0</td>\n",
       "      <td>0.0</td>\n",
       "      <td>0.0</td>\n",
       "      <td>1.0</td>\n",
       "      <td>0.0</td>\n",
       "      <td>0.0</td>\n",
       "      <td>0.0</td>\n",
       "      <td>0.0</td>\n",
       "      <td>0.0</td>\n",
       "    </tr>\n",
       "  </tbody>\n",
       "</table>\n",
       "<p>63 rows × 17 columns</p>\n",
       "</div>"
      ],
      "text/plain": [
       "                          5        488      503      846      1359     1821  \\\n",
       "Zip_Code               85003.0  85028.0  85028.0  85048.0  85202.0  85212.0   \n",
       "Nr_Bedrooms                1.0      4.0      3.0      3.0      3.0      4.0   \n",
       "Nr_Bathrooms               1.0      2.5      2.0      2.5      2.0      3.5   \n",
       "Approx_SQFT              893.0   2072.0   1706.0   2331.0   1672.0   3050.0   \n",
       "Year_Built              2016.0   1971.0   1971.0   1986.0   1976.0   2020.0   \n",
       "...                        ...      ...      ...      ...      ...      ...   \n",
       "Payment_Fixed              1.0      1.0      0.0      0.0      0.0      0.0   \n",
       "Payment_Graduated          0.0      0.0      0.0      0.0      0.0      0.0   \n",
       "Payment_Interest Only      0.0      0.0      0.0      0.0      0.0      0.0   \n",
       "Payment_Missing            0.0      0.0      1.0      1.0      1.0      1.0   \n",
       "Payment_Other              0.0      0.0      0.0      0.0      0.0      0.0   \n",
       "\n",
       "                          1957     1982     2044     2147     2199     2509  \\\n",
       "Zip_Code               85225.0  85225.0  85233.0  85249.0  85249.0  85257.0   \n",
       "Nr_Bedrooms                4.0      4.0      4.0      3.0      3.0      3.0   \n",
       "Nr_Bathrooms               2.5      2.0      2.0      2.0      2.0      2.0   \n",
       "Approx_SQFT             2957.0   2288.0   1818.0   2185.0   1845.0   1604.0   \n",
       "Year_Built              1993.0   1999.0   1993.0   2004.0   2013.0   1969.0   \n",
       "...                        ...      ...      ...      ...      ...      ...   \n",
       "Payment_Fixed              0.0      1.0      1.0      1.0      1.0      0.0   \n",
       "Payment_Graduated          0.0      0.0      0.0      0.0      0.0      0.0   \n",
       "Payment_Interest Only      0.0      0.0      0.0      0.0      0.0      0.0   \n",
       "Payment_Missing            0.0      0.0      0.0      0.0      0.0      0.0   \n",
       "Payment_Other              1.0      0.0      0.0      0.0      0.0      1.0   \n",
       "\n",
       "                          2554     2610     2659     2679     2786  \n",
       "Zip_Code               85258.0  85259.0  85260.0  85260.0  85268.0  \n",
       "Nr_Bedrooms                2.0      3.0      3.0      3.0      3.0  \n",
       "Nr_Bathrooms               2.0      2.0      2.0      2.0      2.5  \n",
       "Approx_SQFT             1104.0   1735.0   1938.0   1938.0   2132.0  \n",
       "Year_Built              1987.0   2006.0   1981.0   1981.0   2003.0  \n",
       "...                        ...      ...      ...      ...      ...  \n",
       "Payment_Fixed              0.0      1.0      1.0      1.0      1.0  \n",
       "Payment_Graduated          0.0      0.0      0.0      0.0      0.0  \n",
       "Payment_Interest Only      0.0      0.0      0.0      0.0      0.0  \n",
       "Payment_Missing            1.0      0.0      0.0      0.0      0.0  \n",
       "Payment_Other              0.0      0.0      0.0      0.0      0.0  \n",
       "\n",
       "[63 rows x 17 columns]"
      ]
     },
     "execution_count": 22,
     "metadata": {},
     "output_type": "execute_result"
    }
   ],
   "source": [
    "Sold_Price_600000.T"
   ]
  },
  {
   "cell_type": "markdown",
   "id": "5938b0c7",
   "metadata": {},
   "source": [
    "### Refit Model On All Available Data (excluding Zipcode 85202)"
   ]
  },
  {
   "cell_type": "code",
   "execution_count": null,
   "id": "aa150776",
   "metadata": {},
   "outputs": [],
   "source": []
  },
  {
   "cell_type": "markdown",
   "id": "fdc62971",
   "metadata": {},
   "source": [
    "In this next step I want to refit the model using all available data. But should we include the data in zipcode 85202 data? On the one hand, we are _not_ trying to estimate model performance on a previously unseen data sample, so theoretically including 85202 zipcode data should be fine. One might first think that including 85202 zipcode in the model training would, if anything, improve model performance in predicting a, for example, a home valued at 600,000 in zipcode 85202. But here's where our project context comes in. The motivation for this entire project is based on the sense that a 600000 valued home in 85202 zipcode needs to pe predicted as close as possible to actual sold price of 600,000. One way to phrase this problem: we want to train a model to predict a 600,000 valued home in zipcode 85202 based on data from _all the other_ zipcodes! We don't want 85202 zipcode current Sold price to bias this. We want to calculate a price based only on its other zipcodes data."
   ]
  },
  {
   "cell_type": "code",
   "execution_count": 136,
   "id": "da11c14b",
   "metadata": {},
   "outputs": [],
   "source": [
    "X = housing_data.loc[housing_data.Zip_Code != 85202, model.X_columns]\n",
    "y = housing_data.loc[housing_data.Zip_Code != 85202, 'Sold_Price']"
   ]
  },
  {
   "cell_type": "code",
   "execution_count": 137,
   "id": "e75b15f1",
   "metadata": {},
   "outputs": [
    {
     "data": {
      "text/plain": [
       "(3076, 3076)"
      ]
     },
     "execution_count": 137,
     "metadata": {},
     "output_type": "execute_result"
    }
   ],
   "source": [
    "len(X), len(y)"
   ]
  },
  {
   "cell_type": "code",
   "execution_count": 138,
   "id": "98e19e20",
   "metadata": {},
   "outputs": [
    {
     "data": {
      "text/html": [
       "<style>#sk-container-id-3 {color: black;background-color: white;}#sk-container-id-3 pre{padding: 0;}#sk-container-id-3 div.sk-toggleable {background-color: white;}#sk-container-id-3 label.sk-toggleable__label {cursor: pointer;display: block;width: 100%;margin-bottom: 0;padding: 0.3em;box-sizing: border-box;text-align: center;}#sk-container-id-3 label.sk-toggleable__label-arrow:before {content: \"▸\";float: left;margin-right: 0.25em;color: #696969;}#sk-container-id-3 label.sk-toggleable__label-arrow:hover:before {color: black;}#sk-container-id-3 div.sk-estimator:hover label.sk-toggleable__label-arrow:before {color: black;}#sk-container-id-3 div.sk-toggleable__content {max-height: 0;max-width: 0;overflow: hidden;text-align: left;background-color: #f0f8ff;}#sk-container-id-3 div.sk-toggleable__content pre {margin: 0.2em;color: black;border-radius: 0.25em;background-color: #f0f8ff;}#sk-container-id-3 input.sk-toggleable__control:checked~div.sk-toggleable__content {max-height: 200px;max-width: 100%;overflow: auto;}#sk-container-id-3 input.sk-toggleable__control:checked~label.sk-toggleable__label-arrow:before {content: \"▾\";}#sk-container-id-3 div.sk-estimator input.sk-toggleable__control:checked~label.sk-toggleable__label {background-color: #d4ebff;}#sk-container-id-3 div.sk-label input.sk-toggleable__control:checked~label.sk-toggleable__label {background-color: #d4ebff;}#sk-container-id-3 input.sk-hidden--visually {border: 0;clip: rect(1px 1px 1px 1px);clip: rect(1px, 1px, 1px, 1px);height: 1px;margin: -1px;overflow: hidden;padding: 0;position: absolute;width: 1px;}#sk-container-id-3 div.sk-estimator {font-family: monospace;background-color: #f0f8ff;border: 1px dotted black;border-radius: 0.25em;box-sizing: border-box;margin-bottom: 0.5em;}#sk-container-id-3 div.sk-estimator:hover {background-color: #d4ebff;}#sk-container-id-3 div.sk-parallel-item::after {content: \"\";width: 100%;border-bottom: 1px solid gray;flex-grow: 1;}#sk-container-id-3 div.sk-label:hover label.sk-toggleable__label {background-color: #d4ebff;}#sk-container-id-3 div.sk-serial::before {content: \"\";position: absolute;border-left: 1px solid gray;box-sizing: border-box;top: 0;bottom: 0;left: 50%;z-index: 0;}#sk-container-id-3 div.sk-serial {display: flex;flex-direction: column;align-items: center;background-color: white;padding-right: 0.2em;padding-left: 0.2em;position: relative;}#sk-container-id-3 div.sk-item {position: relative;z-index: 1;}#sk-container-id-3 div.sk-parallel {display: flex;align-items: stretch;justify-content: center;background-color: white;position: relative;}#sk-container-id-3 div.sk-item::before, #sk-container-id-3 div.sk-parallel-item::before {content: \"\";position: absolute;border-left: 1px solid gray;box-sizing: border-box;top: 0;bottom: 0;left: 50%;z-index: -1;}#sk-container-id-3 div.sk-parallel-item {display: flex;flex-direction: column;z-index: 1;position: relative;background-color: white;}#sk-container-id-3 div.sk-parallel-item:first-child::after {align-self: flex-end;width: 50%;}#sk-container-id-3 div.sk-parallel-item:last-child::after {align-self: flex-start;width: 50%;}#sk-container-id-3 div.sk-parallel-item:only-child::after {width: 0;}#sk-container-id-3 div.sk-dashed-wrapped {border: 1px dashed gray;margin: 0 0.4em 0.5em 0.4em;box-sizing: border-box;padding-bottom: 0.4em;background-color: white;}#sk-container-id-3 div.sk-label label {font-family: monospace;font-weight: bold;display: inline-block;line-height: 1.2em;}#sk-container-id-3 div.sk-label-container {text-align: center;}#sk-container-id-3 div.sk-container {/* jupyter's `normalize.less` sets `[hidden] { display: none; }` but bootstrap.min.css set `[hidden] { display: none !important; }` so we also need the `!important` here to be able to override the default hidden behavior on the sphinx rendered scikit-learn.org. See: https://github.com/scikit-learn/scikit-learn/issues/21755 */display: inline-block !important;position: relative;}#sk-container-id-3 div.sk-text-repr-fallback {display: none;}</style><div id=\"sk-container-id-3\" class=\"sk-top-container\"><div class=\"sk-text-repr-fallback\"><pre>Pipeline(steps=[(&#x27;standardscaler&#x27;, StandardScaler()),\n",
       "                (&#x27;randomforestregressor&#x27;,\n",
       "                 RandomForestRegressor(n_estimators=112, random_state=47))])</pre><b>In a Jupyter environment, please rerun this cell to show the HTML representation or trust the notebook. <br />On GitHub, the HTML representation is unable to render, please try loading this page with nbviewer.org.</b></div><div class=\"sk-container\" hidden><div class=\"sk-item sk-dashed-wrapped\"><div class=\"sk-label-container\"><div class=\"sk-label sk-toggleable\"><input class=\"sk-toggleable__control sk-hidden--visually\" id=\"sk-estimator-id-7\" type=\"checkbox\" ><label for=\"sk-estimator-id-7\" class=\"sk-toggleable__label sk-toggleable__label-arrow\">Pipeline</label><div class=\"sk-toggleable__content\"><pre>Pipeline(steps=[(&#x27;standardscaler&#x27;, StandardScaler()),\n",
       "                (&#x27;randomforestregressor&#x27;,\n",
       "                 RandomForestRegressor(n_estimators=112, random_state=47))])</pre></div></div></div><div class=\"sk-serial\"><div class=\"sk-item\"><div class=\"sk-estimator sk-toggleable\"><input class=\"sk-toggleable__control sk-hidden--visually\" id=\"sk-estimator-id-8\" type=\"checkbox\" ><label for=\"sk-estimator-id-8\" class=\"sk-toggleable__label sk-toggleable__label-arrow\">StandardScaler</label><div class=\"sk-toggleable__content\"><pre>StandardScaler()</pre></div></div></div><div class=\"sk-item\"><div class=\"sk-estimator sk-toggleable\"><input class=\"sk-toggleable__control sk-hidden--visually\" id=\"sk-estimator-id-9\" type=\"checkbox\" ><label for=\"sk-estimator-id-9\" class=\"sk-toggleable__label sk-toggleable__label-arrow\">RandomForestRegressor</label><div class=\"sk-toggleable__content\"><pre>RandomForestRegressor(n_estimators=112, random_state=47)</pre></div></div></div></div></div></div></div>"
      ],
      "text/plain": [
       "Pipeline(steps=[('standardscaler', StandardScaler()),\n",
       "                ('randomforestregressor',\n",
       "                 RandomForestRegressor(n_estimators=112, random_state=47))])"
      ]
     },
     "execution_count": 138,
     "metadata": {},
     "output_type": "execute_result"
    }
   ],
   "source": [
    "model.fit(X, y)"
   ]
  },
  {
   "cell_type": "code",
   "execution_count": 139,
   "id": "5923f7c8",
   "metadata": {},
   "outputs": [],
   "source": [
    "cv_results = cross_validate(model, X, y, scoring='neg_mean_absolute_error', cv=5, n_jobs=-1)"
   ]
  },
  {
   "cell_type": "code",
   "execution_count": 140,
   "id": "38295d46",
   "metadata": {},
   "outputs": [
    {
     "data": {
      "text/plain": [
       "array([-195505.41443936,  -92185.82680023, -100952.56125145,\n",
       "       -218185.35355691, -413852.74218931])"
      ]
     },
     "execution_count": 140,
     "metadata": {},
     "output_type": "execute_result"
    }
   ],
   "source": [
    "cv_results['test_score']"
   ]
  },
  {
   "cell_type": "code",
   "execution_count": 141,
   "id": "519875ee",
   "metadata": {},
   "outputs": [
    {
     "data": {
      "text/plain": [
       "(204136.37964745294, 116131.5173479611)"
      ]
     },
     "execution_count": 141,
     "metadata": {},
     "output_type": "execute_result"
    }
   ],
   "source": [
    "mae_mean, mae_std = np.mean(-1 * cv_results['test_score']), np.std(-1 * cv_results['test_score'])\n",
    "mae_mean, mae_std"
   ]
  },
  {
   "cell_type": "markdown",
   "id": "23fcbded",
   "metadata": {},
   "source": [
    "These numbers will inevitably be different to those in the previous step that used a different training data set. They should, however, be consistent, and they are. It's important to appreciate that estimates of model performance are subject to the noise and uncertainty of data!"
   ]
  },
  {
   "cell_type": "markdown",
   "id": "3512869c",
   "metadata": {},
   "source": [
    "## Calculate Expected Sold Price for a house valued at 600,000 From The Model"
   ]
  },
  {
   "cell_type": "code",
   "execution_count": 142,
   "id": "c8c77eae",
   "metadata": {},
   "outputs": [],
   "source": [
    "X_85202 = housing_data.loc[housing_data.Sold_Price == 600000, model.X_columns]\n",
    "y_85202 = housing_data.loc[housing_data.Sold_Price == 60000]"
   ]
  },
  {
   "cell_type": "code",
   "execution_count": 143,
   "id": "113b3bf8",
   "metadata": {},
   "outputs": [],
   "source": [
    "zipcode_85202_pred = model.predict(X_85202)"
   ]
  },
  {
   "cell_type": "code",
   "execution_count": 144,
   "id": "d25538ea",
   "metadata": {},
   "outputs": [
    {
     "data": {
      "text/plain": [
       "array([554222.32142857, 624007.14285714, 554574.09821429, 643469.64285714,\n",
       "       460930.53571429, 639442.125     , 653585.25892857, 593298.96428571,\n",
       "       581969.01785714, 631360.875     , 570840.80357143, 613508.92857143,\n",
       "       501381.25      , 617531.91964286, 623363.82142857, 619955.        ,\n",
       "       617134.92857143])"
      ]
     },
     "execution_count": 144,
     "metadata": {},
     "output_type": "execute_result"
    }
   ],
   "source": [
    "zipcode_85202_pred"
   ]
  },
  {
   "cell_type": "code",
   "execution_count": 145,
   "id": "f4f0f7af",
   "metadata": {},
   "outputs": [
    {
     "data": {
      "text/plain": [
       "594151.5667016807"
      ]
     },
     "execution_count": 145,
     "metadata": {},
     "output_type": "execute_result"
    }
   ],
   "source": [
    "zipcode_85202_pred.mean()"
   ]
  },
  {
   "cell_type": "code",
   "execution_count": 146,
   "id": "e3397977",
   "metadata": {},
   "outputs": [
    {
     "data": {
      "text/plain": [
       "460930.53571428574"
      ]
     },
     "execution_count": 146,
     "metadata": {},
     "output_type": "execute_result"
    }
   ],
   "source": [
    "zipcode_85202_pred.min()"
   ]
  },
  {
   "cell_type": "code",
   "execution_count": 147,
   "id": "0d8dc6d6",
   "metadata": {},
   "outputs": [
    {
     "data": {
      "text/plain": [
       "653585.2589285715"
      ]
     },
     "execution_count": 147,
     "metadata": {},
     "output_type": "execute_result"
    }
   ],
   "source": [
    "zipcode_85202_pred.max()"
   ]
  },
  {
   "cell_type": "code",
   "execution_count": 148,
   "id": "fa80c4b7",
   "metadata": {},
   "outputs": [
    {
     "data": {
      "image/png": "[encoded data removed]",
      "text/plain": [
       "<Figure size 640x480 with 1 Axes>"
      ]
     },
     "metadata": {},
     "output_type": "display_data"
    }
   ],
   "source": [
    "plt.bar(np.arange(len(zipcode_85202_pred)),zipcode_85202_pred)\n",
    "plt.show()"
   ]
  },
  {
   "cell_type": "code",
   "execution_count": 149,
   "id": "ffb79ecc",
   "metadata": {},
   "outputs": [
    {
     "data": {
      "image/png": "[encoded data removed]",
      "text/plain": [
       "<Figure size 640x480 with 1 Axes>"
      ]
     },
     "metadata": {},
     "output_type": "display_data"
    }
   ],
   "source": [
    "plt.hist(zipcode_85202_pred, bins=6, color='skyblue', edgecolor='black')\n",
    "plt.axvline(x=600000, c='r', ls='--', alpha=0.8, label='Sold_Price_600000')\n",
    "plt.axvline(x=zipcode_85202_pred.mean(), c='green', ls='--', alpha=0.8, label='Predicted_Mean__Sold_Price of 594151')\n",
    "plt.xlabel('Sold_Price_predicted')\n",
    "plt.ylabel('Frequency')\n",
    "plt.title('Predicted Housing Data for 85202 Zipcode for a Sold Price of $600,000')\n",
    "plt.grid(True)\n",
    "plt.legend()\n",
    "plt.show()"
   ]
  },
  {
   "cell_type": "markdown",
   "id": "008fb34f",
   "metadata": {},
   "source": [
    " ## The model predicted a house valued at \\\\$600,000\n",
    " ## in zipcode 85202 will sell for a mean Sold Price of \\\\$594,151. "
   ]
  },
  {
   "cell_type": "code",
   "execution_count": null,
   "id": "504727ba",
   "metadata": {},
   "outputs": [],
   "source": []
  },
  {
   "cell_type": "code",
   "execution_count": null,
   "id": "f62bea5f",
   "metadata": {},
   "outputs": [],
   "source": []
  }
 ],
 "metadata": {
  "kernelspec": {
   "display_name": "Python 3 (ipykernel)",
   "language": "python",
   "name": "python3"
  },
  "language_info": {
   "codemirror_mode": {
    "name": "ipython",
    "version": 3
   },
   "file_extension": ".py",
   "mimetype": "text/x-python",
   "name": "python",
   "nbconvert_exporter": "python",
   "pygments_lexer": "ipython3",
   "version": "3.11.7"
  }
 },
 "nbformat": 4,
 "nbformat_minor": 5
}
